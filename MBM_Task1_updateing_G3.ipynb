{
 "cells": [
  {
   "cell_type": "markdown",
   "metadata": {},
   "source": [
    "###  Data Scientist Interview_MBM: Part –1"
   ]
  },
  {
   "cell_type": "markdown",
   "metadata": {},
   "source": [
    "XiaocuiZhang 30/07/2020"
   ]
  },
  {
   "cell_type": "markdown",
   "metadata": {},
   "source": [
    "###  1 Loading data  "
   ]
  },
  {
   "cell_type": "code",
   "execution_count": 2,
   "metadata": {},
   "outputs": [],
   "source": [
    "import numpy as np\n",
    "import pandas as pd\n",
    "import matplotlib.pyplot as plt"
   ]
  },
  {
   "cell_type": "code",
   "execution_count": 7,
   "metadata": {},
   "outputs": [
    {
     "data": {
      "text/html": [
       "<div>\n",
       "<style scoped>\n",
       "    .dataframe tbody tr th:only-of-type {\n",
       "        vertical-align: middle;\n",
       "    }\n",
       "\n",
       "    .dataframe tbody tr th {\n",
       "        vertical-align: top;\n",
       "    }\n",
       "\n",
       "    .dataframe thead th {\n",
       "        text-align: right;\n",
       "    }\n",
       "</style>\n",
       "<table border=\"1\" class=\"dataframe\">\n",
       "  <thead>\n",
       "    <tr style=\"text-align: right;\">\n",
       "      <th></th>\n",
       "      <th>consumer_id</th>\n",
       "      <th>gender</th>\n",
       "      <th>has_gender</th>\n",
       "      <th>has_first_name</th>\n",
       "      <th>has_last_name</th>\n",
       "      <th>has_email</th>\n",
       "      <th>has_dob</th>\n",
       "      <th>customer_age</th>\n",
       "      <th>account_age</th>\n",
       "      <th>account_last_updated</th>\n",
       "      <th>account_status</th>\n",
       "      <th>app_downloads</th>\n",
       "      <th>unique_offer_clicked</th>\n",
       "      <th>total_offer_clicks</th>\n",
       "      <th>unique_offer_impressions</th>\n",
       "      <th>total_offer_impressions</th>\n",
       "      <th>avg_redemptions</th>\n",
       "      <th>min_redemptions</th>\n",
       "      <th>max_redemptions</th>\n",
       "      <th>total_offers_redeemed</th>\n",
       "    </tr>\n",
       "  </thead>\n",
       "  <tbody>\n",
       "    <tr>\n",
       "      <th>0</th>\n",
       "      <td>1284b75c-ecae-4015-8e3d-359c0347ede8</td>\n",
       "      <td>NaN</td>\n",
       "      <td>0</td>\n",
       "      <td>1</td>\n",
       "      <td>1</td>\n",
       "      <td>1</td>\n",
       "      <td>0</td>\n",
       "      <td>NaN</td>\n",
       "      <td>188</td>\n",
       "      <td>174</td>\n",
       "      <td>0</td>\n",
       "      <td>1</td>\n",
       "      <td>3</td>\n",
       "      <td>3</td>\n",
       "      <td>8</td>\n",
       "      <td>52</td>\n",
       "      <td>1.0</td>\n",
       "      <td>1</td>\n",
       "      <td>1</td>\n",
       "      <td>1</td>\n",
       "    </tr>\n",
       "    <tr>\n",
       "      <th>1</th>\n",
       "      <td>128af162-d2c3-4fe4-986c-359c8bdc6c04</td>\n",
       "      <td>NaN</td>\n",
       "      <td>0</td>\n",
       "      <td>1</td>\n",
       "      <td>1</td>\n",
       "      <td>1</td>\n",
       "      <td>0</td>\n",
       "      <td>NaN</td>\n",
       "      <td>185</td>\n",
       "      <td>174</td>\n",
       "      <td>0</td>\n",
       "      <td>1</td>\n",
       "      <td>3</td>\n",
       "      <td>8</td>\n",
       "      <td>5</td>\n",
       "      <td>58</td>\n",
       "      <td>1.0</td>\n",
       "      <td>1</td>\n",
       "      <td>1</td>\n",
       "      <td>1</td>\n",
       "    </tr>\n",
       "    <tr>\n",
       "      <th>2</th>\n",
       "      <td>12aada5e-36eb-4e9e-8d62-359c076c1b40</td>\n",
       "      <td>NaN</td>\n",
       "      <td>0</td>\n",
       "      <td>1</td>\n",
       "      <td>1</td>\n",
       "      <td>1</td>\n",
       "      <td>0</td>\n",
       "      <td>NaN</td>\n",
       "      <td>188</td>\n",
       "      <td>174</td>\n",
       "      <td>0</td>\n",
       "      <td>1</td>\n",
       "      <td>3</td>\n",
       "      <td>4</td>\n",
       "      <td>9</td>\n",
       "      <td>183</td>\n",
       "      <td>1.0</td>\n",
       "      <td>1</td>\n",
       "      <td>1</td>\n",
       "      <td>3</td>\n",
       "    </tr>\n",
       "    <tr>\n",
       "      <th>3</th>\n",
       "      <td>12c2e02f-bc79-4048-83ba-359cd3280dcf</td>\n",
       "      <td>NaN</td>\n",
       "      <td>0</td>\n",
       "      <td>1</td>\n",
       "      <td>1</td>\n",
       "      <td>1</td>\n",
       "      <td>0</td>\n",
       "      <td>NaN</td>\n",
       "      <td>184</td>\n",
       "      <td>174</td>\n",
       "      <td>0</td>\n",
       "      <td>1</td>\n",
       "      <td>3</td>\n",
       "      <td>7</td>\n",
       "      <td>4</td>\n",
       "      <td>56</td>\n",
       "      <td>1.0</td>\n",
       "      <td>1</td>\n",
       "      <td>1</td>\n",
       "      <td>1</td>\n",
       "    </tr>\n",
       "    <tr>\n",
       "      <th>4</th>\n",
       "      <td>12fabdf0-0582-489e-a6d3-35509ab8ae6f</td>\n",
       "      <td>f</td>\n",
       "      <td>1</td>\n",
       "      <td>1</td>\n",
       "      <td>1</td>\n",
       "      <td>1</td>\n",
       "      <td>1</td>\n",
       "      <td>22.0</td>\n",
       "      <td>572</td>\n",
       "      <td>173</td>\n",
       "      <td>0</td>\n",
       "      <td>1</td>\n",
       "      <td>4</td>\n",
       "      <td>6</td>\n",
       "      <td>7</td>\n",
       "      <td>83</td>\n",
       "      <td>1.0</td>\n",
       "      <td>1</td>\n",
       "      <td>1</td>\n",
       "      <td>3</td>\n",
       "    </tr>\n",
       "  </tbody>\n",
       "</table>\n",
       "</div>"
      ],
      "text/plain": [
       "                            consumer_id gender  has_gender  has_first_name  \\\n",
       "0  1284b75c-ecae-4015-8e3d-359c0347ede8    NaN           0               1   \n",
       "1  128af162-d2c3-4fe4-986c-359c8bdc6c04    NaN           0               1   \n",
       "2  12aada5e-36eb-4e9e-8d62-359c076c1b40    NaN           0               1   \n",
       "3  12c2e02f-bc79-4048-83ba-359cd3280dcf    NaN           0               1   \n",
       "4  12fabdf0-0582-489e-a6d3-35509ab8ae6f      f           1               1   \n",
       "\n",
       "   has_last_name  has_email  has_dob  customer_age  account_age  \\\n",
       "0              1          1        0           NaN          188   \n",
       "1              1          1        0           NaN          185   \n",
       "2              1          1        0           NaN          188   \n",
       "3              1          1        0           NaN          184   \n",
       "4              1          1        1          22.0          572   \n",
       "\n",
       "   account_last_updated  account_status  app_downloads  unique_offer_clicked  \\\n",
       "0                   174               0              1                     3   \n",
       "1                   174               0              1                     3   \n",
       "2                   174               0              1                     3   \n",
       "3                   174               0              1                     3   \n",
       "4                   173               0              1                     4   \n",
       "\n",
       "   total_offer_clicks  unique_offer_impressions  total_offer_impressions  \\\n",
       "0                   3                         8                       52   \n",
       "1                   8                         5                       58   \n",
       "2                   4                         9                      183   \n",
       "3                   7                         4                       56   \n",
       "4                   6                         7                       83   \n",
       "\n",
       "   avg_redemptions  min_redemptions  max_redemptions  total_offers_redeemed  \n",
       "0              1.0                1                1                      1  \n",
       "1              1.0                1                1                      1  \n",
       "2              1.0                1                1                      3  \n",
       "3              1.0                1                1                      1  \n",
       "4              1.0                1                1                      3  "
      ]
     },
     "execution_count": 7,
     "metadata": {},
     "output_type": "execute_result"
    }
   ],
   "source": [
    "missing_values = [\"n/a\", \"na\", \"--\",\"\"]  # Making a list of missing value types\n",
    "rawdata = pd.read_csv('data1.csv', na_values = missing_values)\n",
    "rawdata.head()"
   ]
  },
  {
   "cell_type": "markdown",
   "metadata": {},
   "source": [
    "### 2 Data exploration"
   ]
  },
  {
   "cell_type": "markdown",
   "metadata": {},
   "source": [
    "#### 2.1 descriptive analysis"
   ]
  },
  {
   "cell_type": "code",
   "execution_count": 249,
   "metadata": {},
   "outputs": [
    {
     "data": {
      "text/html": [
       "<div>\n",
       "<style scoped>\n",
       "    .dataframe tbody tr th:only-of-type {\n",
       "        vertical-align: middle;\n",
       "    }\n",
       "\n",
       "    .dataframe tbody tr th {\n",
       "        vertical-align: top;\n",
       "    }\n",
       "\n",
       "    .dataframe thead th {\n",
       "        text-align: right;\n",
       "    }\n",
       "</style>\n",
       "<table border=\"1\" class=\"dataframe\">\n",
       "  <thead>\n",
       "    <tr style=\"text-align: right;\">\n",
       "      <th></th>\n",
       "      <th>has_gender</th>\n",
       "      <th>has_first_name</th>\n",
       "      <th>has_last_name</th>\n",
       "      <th>has_email</th>\n",
       "      <th>has_dob</th>\n",
       "      <th>customer_age</th>\n",
       "      <th>account_age</th>\n",
       "      <th>account_last_updated</th>\n",
       "      <th>account_status</th>\n",
       "      <th>app_downloads</th>\n",
       "      <th>unique_offer_clicked</th>\n",
       "      <th>total_offer_clicks</th>\n",
       "      <th>unique_offer_impressions</th>\n",
       "      <th>total_offer_impressions</th>\n",
       "      <th>avg_redemptions</th>\n",
       "      <th>min_redemptions</th>\n",
       "      <th>max_redemptions</th>\n",
       "      <th>total_offers_redeemed</th>\n",
       "    </tr>\n",
       "  </thead>\n",
       "  <tbody>\n",
       "    <tr>\n",
       "      <th>count</th>\n",
       "      <td>10000.000000</td>\n",
       "      <td>10000.000000</td>\n",
       "      <td>10000.000000</td>\n",
       "      <td>10000.000000</td>\n",
       "      <td>10000.000000</td>\n",
       "      <td>4064.000000</td>\n",
       "      <td>10000.000000</td>\n",
       "      <td>10000.000000</td>\n",
       "      <td>10000.0</td>\n",
       "      <td>10000.000000</td>\n",
       "      <td>10000.000000</td>\n",
       "      <td>10000.000000</td>\n",
       "      <td>10000.000000</td>\n",
       "      <td>10000.000000</td>\n",
       "      <td>10000.000000</td>\n",
       "      <td>10000.000000</td>\n",
       "      <td>10000.000000</td>\n",
       "      <td>10000.000000</td>\n",
       "    </tr>\n",
       "    <tr>\n",
       "      <th>mean</th>\n",
       "      <td>0.547800</td>\n",
       "      <td>0.998000</td>\n",
       "      <td>0.995900</td>\n",
       "      <td>0.999200</td>\n",
       "      <td>0.406400</td>\n",
       "      <td>22.980807</td>\n",
       "      <td>245.816600</td>\n",
       "      <td>174.256700</td>\n",
       "      <td>0.0</td>\n",
       "      <td>1.032200</td>\n",
       "      <td>3.172400</td>\n",
       "      <td>5.825600</td>\n",
       "      <td>7.516500</td>\n",
       "      <td>68.429900</td>\n",
       "      <td>1.003003</td>\n",
       "      <td>1.001300</td>\n",
       "      <td>1.005700</td>\n",
       "      <td>1.880900</td>\n",
       "    </tr>\n",
       "    <tr>\n",
       "      <th>std</th>\n",
       "      <td>0.497735</td>\n",
       "      <td>0.044679</td>\n",
       "      <td>0.063903</td>\n",
       "      <td>0.028274</td>\n",
       "      <td>0.491185</td>\n",
       "      <td>8.504064</td>\n",
       "      <td>130.090693</td>\n",
       "      <td>0.895145</td>\n",
       "      <td>0.0</td>\n",
       "      <td>0.186994</td>\n",
       "      <td>2.059831</td>\n",
       "      <td>5.290424</td>\n",
       "      <td>3.490264</td>\n",
       "      <td>69.591347</td>\n",
       "      <td>0.046453</td>\n",
       "      <td>0.036034</td>\n",
       "      <td>0.079172</td>\n",
       "      <td>1.187121</td>\n",
       "    </tr>\n",
       "    <tr>\n",
       "      <th>min</th>\n",
       "      <td>0.000000</td>\n",
       "      <td>0.000000</td>\n",
       "      <td>0.000000</td>\n",
       "      <td>0.000000</td>\n",
       "      <td>0.000000</td>\n",
       "      <td>15.000000</td>\n",
       "      <td>174.000000</td>\n",
       "      <td>173.000000</td>\n",
       "      <td>0.0</td>\n",
       "      <td>1.000000</td>\n",
       "      <td>1.000000</td>\n",
       "      <td>1.000000</td>\n",
       "      <td>1.000000</td>\n",
       "      <td>2.000000</td>\n",
       "      <td>1.000000</td>\n",
       "      <td>1.000000</td>\n",
       "      <td>1.000000</td>\n",
       "      <td>1.000000</td>\n",
       "    </tr>\n",
       "    <tr>\n",
       "      <th>25%</th>\n",
       "      <td>0.000000</td>\n",
       "      <td>1.000000</td>\n",
       "      <td>1.000000</td>\n",
       "      <td>1.000000</td>\n",
       "      <td>0.000000</td>\n",
       "      <td>19.000000</td>\n",
       "      <td>184.000000</td>\n",
       "      <td>174.000000</td>\n",
       "      <td>0.0</td>\n",
       "      <td>1.000000</td>\n",
       "      <td>2.000000</td>\n",
       "      <td>2.000000</td>\n",
       "      <td>4.000000</td>\n",
       "      <td>23.000000</td>\n",
       "      <td>1.000000</td>\n",
       "      <td>1.000000</td>\n",
       "      <td>1.000000</td>\n",
       "      <td>1.000000</td>\n",
       "    </tr>\n",
       "    <tr>\n",
       "      <th>50%</th>\n",
       "      <td>1.000000</td>\n",
       "      <td>1.000000</td>\n",
       "      <td>1.000000</td>\n",
       "      <td>1.000000</td>\n",
       "      <td>0.000000</td>\n",
       "      <td>20.000000</td>\n",
       "      <td>187.000000</td>\n",
       "      <td>174.000000</td>\n",
       "      <td>0.0</td>\n",
       "      <td>1.000000</td>\n",
       "      <td>3.000000</td>\n",
       "      <td>4.000000</td>\n",
       "      <td>7.000000</td>\n",
       "      <td>47.000000</td>\n",
       "      <td>1.000000</td>\n",
       "      <td>1.000000</td>\n",
       "      <td>1.000000</td>\n",
       "      <td>2.000000</td>\n",
       "    </tr>\n",
       "    <tr>\n",
       "      <th>75%</th>\n",
       "      <td>1.000000</td>\n",
       "      <td>1.000000</td>\n",
       "      <td>1.000000</td>\n",
       "      <td>1.000000</td>\n",
       "      <td>1.000000</td>\n",
       "      <td>24.000000</td>\n",
       "      <td>193.000000</td>\n",
       "      <td>174.000000</td>\n",
       "      <td>0.0</td>\n",
       "      <td>1.000000</td>\n",
       "      <td>4.000000</td>\n",
       "      <td>8.000000</td>\n",
       "      <td>10.000000</td>\n",
       "      <td>90.000000</td>\n",
       "      <td>1.000000</td>\n",
       "      <td>1.000000</td>\n",
       "      <td>1.000000</td>\n",
       "      <td>2.000000</td>\n",
       "    </tr>\n",
       "    <tr>\n",
       "      <th>max</th>\n",
       "      <td>1.000000</td>\n",
       "      <td>1.000000</td>\n",
       "      <td>1.000000</td>\n",
       "      <td>1.000000</td>\n",
       "      <td>1.000000</td>\n",
       "      <td>119.000000</td>\n",
       "      <td>649.000000</td>\n",
       "      <td>187.000000</td>\n",
       "      <td>0.0</td>\n",
       "      <td>5.000000</td>\n",
       "      <td>14.000000</td>\n",
       "      <td>62.000000</td>\n",
       "      <td>25.000000</td>\n",
       "      <td>1693.000000</td>\n",
       "      <td>2.500000</td>\n",
       "      <td>2.000000</td>\n",
       "      <td>4.000000</td>\n",
       "      <td>11.000000</td>\n",
       "    </tr>\n",
       "  </tbody>\n",
       "</table>\n",
       "</div>"
      ],
      "text/plain": [
       "         has_gender  has_first_name  has_last_name     has_email  \\\n",
       "count  10000.000000    10000.000000   10000.000000  10000.000000   \n",
       "mean       0.547800        0.998000       0.995900      0.999200   \n",
       "std        0.497735        0.044679       0.063903      0.028274   \n",
       "min        0.000000        0.000000       0.000000      0.000000   \n",
       "25%        0.000000        1.000000       1.000000      1.000000   \n",
       "50%        1.000000        1.000000       1.000000      1.000000   \n",
       "75%        1.000000        1.000000       1.000000      1.000000   \n",
       "max        1.000000        1.000000       1.000000      1.000000   \n",
       "\n",
       "            has_dob  customer_age   account_age  account_last_updated  \\\n",
       "count  10000.000000   4064.000000  10000.000000          10000.000000   \n",
       "mean       0.406400     22.980807    245.816600            174.256700   \n",
       "std        0.491185      8.504064    130.090693              0.895145   \n",
       "min        0.000000     15.000000    174.000000            173.000000   \n",
       "25%        0.000000     19.000000    184.000000            174.000000   \n",
       "50%        0.000000     20.000000    187.000000            174.000000   \n",
       "75%        1.000000     24.000000    193.000000            174.000000   \n",
       "max        1.000000    119.000000    649.000000            187.000000   \n",
       "\n",
       "       account_status  app_downloads  unique_offer_clicked  \\\n",
       "count         10000.0   10000.000000          10000.000000   \n",
       "mean              0.0       1.032200              3.172400   \n",
       "std               0.0       0.186994              2.059831   \n",
       "min               0.0       1.000000              1.000000   \n",
       "25%               0.0       1.000000              2.000000   \n",
       "50%               0.0       1.000000              3.000000   \n",
       "75%               0.0       1.000000              4.000000   \n",
       "max               0.0       5.000000             14.000000   \n",
       "\n",
       "       total_offer_clicks  unique_offer_impressions  total_offer_impressions  \\\n",
       "count        10000.000000              10000.000000             10000.000000   \n",
       "mean             5.825600                  7.516500                68.429900   \n",
       "std              5.290424                  3.490264                69.591347   \n",
       "min              1.000000                  1.000000                 2.000000   \n",
       "25%              2.000000                  4.000000                23.000000   \n",
       "50%              4.000000                  7.000000                47.000000   \n",
       "75%              8.000000                 10.000000                90.000000   \n",
       "max             62.000000                 25.000000              1693.000000   \n",
       "\n",
       "       avg_redemptions  min_redemptions  max_redemptions  \\\n",
       "count     10000.000000     10000.000000     10000.000000   \n",
       "mean          1.003003         1.001300         1.005700   \n",
       "std           0.046453         0.036034         0.079172   \n",
       "min           1.000000         1.000000         1.000000   \n",
       "25%           1.000000         1.000000         1.000000   \n",
       "50%           1.000000         1.000000         1.000000   \n",
       "75%           1.000000         1.000000         1.000000   \n",
       "max           2.500000         2.000000         4.000000   \n",
       "\n",
       "       total_offers_redeemed  \n",
       "count           10000.000000  \n",
       "mean                1.880900  \n",
       "std                 1.187121  \n",
       "min                 1.000000  \n",
       "25%                 1.000000  \n",
       "50%                 2.000000  \n",
       "75%                 2.000000  \n",
       "max                11.000000  "
      ]
     },
     "execution_count": 249,
     "metadata": {},
     "output_type": "execute_result"
    }
   ],
   "source": [
    "rawdata.describe()"
   ]
  },
  {
   "cell_type": "code",
   "execution_count": 251,
   "metadata": {},
   "outputs": [
    {
     "data": {
      "image/png": "[encoded data removed]",
      "text/plain": [
       "<Figure size 432x288 with 20 Axes>"
      ]
     },
     "metadata": {
      "needs_background": "light"
     },
     "output_type": "display_data"
    }
   ],
   "source": [
    "rawdata.hist()\n",
    "plt.show()"
   ]
  },
  {
   "cell_type": "markdown",
   "metadata": {},
   "source": [
    "#### 2.2 data type"
   ]
  },
  {
   "cell_type": "code",
   "execution_count": 3,
   "metadata": {},
   "outputs": [
    {
     "data": {
      "text/plain": [
       "consumer_id                  object\n",
       "gender                       object\n",
       "has_gender                    int64\n",
       "has_first_name                int64\n",
       "has_last_name                 int64\n",
       "has_email                     int64\n",
       "has_dob                       int64\n",
       "customer_age                float64\n",
       "account_age                   int64\n",
       "account_last_updated          int64\n",
       "account_status                int64\n",
       "app_downloads                 int64\n",
       "unique_offer_clicked          int64\n",
       "total_offer_clicks            int64\n",
       "unique_offer_impressions      int64\n",
       "total_offer_impressions       int64\n",
       "avg_redemptions             float64\n",
       "min_redemptions               int64\n",
       "max_redemptions               int64\n",
       "total_offers_redeemed         int64\n",
       "dtype: object"
      ]
     },
     "execution_count": 3,
     "metadata": {},
     "output_type": "execute_result"
    }
   ],
   "source": [
    "rawdata.dtypes"
   ]
  },
  {
   "cell_type": "markdown",
   "metadata": {},
   "source": [
    "#### 2.3 missing values"
   ]
  },
  {
   "cell_type": "code",
   "execution_count": 15,
   "metadata": {},
   "outputs": [
    {
     "data": {
      "text/plain": [
       "consumer_id                    0\n",
       "gender                      4522\n",
       "has_gender                     0\n",
       "has_first_name                 0\n",
       "has_last_name                  0\n",
       "has_email                      0\n",
       "has_dob                        0\n",
       "customer_age                5936\n",
       "account_age                    0\n",
       "account_last_updated           0\n",
       "account_status                 0\n",
       "app_downloads                  0\n",
       "unique_offer_clicked           0\n",
       "total_offer_clicks             0\n",
       "unique_offer_impressions       0\n",
       "total_offer_impressions        0\n",
       "avg_redemptions                0\n",
       "min_redemptions                0\n",
       "max_redemptions                0\n",
       "total_offers_redeemed          0\n",
       "dtype: int64"
      ]
     },
     "execution_count": 15,
     "metadata": {},
     "output_type": "execute_result"
    }
   ],
   "source": [
    "rawdata.isnull().sum()"
   ]
  },
  {
   "cell_type": "markdown",
   "metadata": {},
   "source": [
    "#### 2.4  posssible outliers "
   ]
  },
  {
   "cell_type": "code",
   "execution_count": 37,
   "metadata": {},
   "outputs": [
    {
     "data": {
      "text/plain": [
       "169"
      ]
     },
     "execution_count": 37,
     "metadata": {},
     "output_type": "execute_result"
    }
   ],
   "source": [
    "#LOF attempts to harness the idea of nearest neighbors for outlier detection.but cannot handle factors and NAs\n",
    "from sklearn.neighbors import LocalOutlierFactor\n",
    "lof = LocalOutlierFactor()\n",
    "temp_data=rawdata.drop(['consumer_id','gender','customer_age'], axis = 1) \n",
    "yhat = lof.fit_predict(temp_data)\n",
    "len(yhat[yhat==-1])\n",
    "\n",
    "#we can also try IsolationForest, One-Class SVM. etc  Anyway, there are possible outliers."
   ]
  },
  {
   "cell_type": "markdown",
   "metadata": {},
   "source": [
    "### 3 Data preprocessing"
   ]
  },
  {
   "cell_type": "markdown",
   "metadata": {},
   "source": [
    "#### 3.1 impute gender"
   ]
  },
  {
   "cell_type": "code",
   "execution_count": 271,
   "metadata": {},
   "outputs": [
    {
     "data": {
      "text/html": [
       "<div>\n",
       "<style scoped>\n",
       "    .dataframe tbody tr th:only-of-type {\n",
       "        vertical-align: middle;\n",
       "    }\n",
       "\n",
       "    .dataframe tbody tr th {\n",
       "        vertical-align: top;\n",
       "    }\n",
       "\n",
       "    .dataframe thead th {\n",
       "        text-align: right;\n",
       "    }\n",
       "</style>\n",
       "<table border=\"1\" class=\"dataframe\">\n",
       "  <thead>\n",
       "    <tr style=\"text-align: right;\">\n",
       "      <th></th>\n",
       "      <th>consumer_id</th>\n",
       "      <th>gender</th>\n",
       "      <th>has_gender</th>\n",
       "      <th>has_first_name</th>\n",
       "      <th>has_last_name</th>\n",
       "      <th>has_email</th>\n",
       "      <th>has_dob</th>\n",
       "      <th>customer_age</th>\n",
       "      <th>account_age</th>\n",
       "      <th>account_last_updated</th>\n",
       "      <th>account_status</th>\n",
       "      <th>app_downloads</th>\n",
       "      <th>unique_offer_clicked</th>\n",
       "      <th>total_offer_clicks</th>\n",
       "      <th>unique_offer_impressions</th>\n",
       "      <th>total_offer_impressions</th>\n",
       "      <th>avg_redemptions</th>\n",
       "      <th>min_redemptions</th>\n",
       "      <th>max_redemptions</th>\n",
       "      <th>total_offers_redeemed</th>\n",
       "    </tr>\n",
       "  </thead>\n",
       "  <tbody>\n",
       "    <tr>\n",
       "      <th>0</th>\n",
       "      <td>1284b75c-ecae-4015-8e3d-359c0347ede8</td>\n",
       "      <td>No Gender</td>\n",
       "      <td>0</td>\n",
       "      <td>1</td>\n",
       "      <td>1</td>\n",
       "      <td>1</td>\n",
       "      <td>0</td>\n",
       "      <td>NaN</td>\n",
       "      <td>188</td>\n",
       "      <td>174</td>\n",
       "      <td>0</td>\n",
       "      <td>1</td>\n",
       "      <td>3</td>\n",
       "      <td>3</td>\n",
       "      <td>8</td>\n",
       "      <td>52</td>\n",
       "      <td>1.0</td>\n",
       "      <td>1</td>\n",
       "      <td>1</td>\n",
       "      <td>1</td>\n",
       "    </tr>\n",
       "    <tr>\n",
       "      <th>1</th>\n",
       "      <td>128af162-d2c3-4fe4-986c-359c8bdc6c04</td>\n",
       "      <td>No Gender</td>\n",
       "      <td>0</td>\n",
       "      <td>1</td>\n",
       "      <td>1</td>\n",
       "      <td>1</td>\n",
       "      <td>0</td>\n",
       "      <td>NaN</td>\n",
       "      <td>185</td>\n",
       "      <td>174</td>\n",
       "      <td>0</td>\n",
       "      <td>1</td>\n",
       "      <td>3</td>\n",
       "      <td>8</td>\n",
       "      <td>5</td>\n",
       "      <td>58</td>\n",
       "      <td>1.0</td>\n",
       "      <td>1</td>\n",
       "      <td>1</td>\n",
       "      <td>1</td>\n",
       "    </tr>\n",
       "    <tr>\n",
       "      <th>2</th>\n",
       "      <td>12aada5e-36eb-4e9e-8d62-359c076c1b40</td>\n",
       "      <td>No Gender</td>\n",
       "      <td>0</td>\n",
       "      <td>1</td>\n",
       "      <td>1</td>\n",
       "      <td>1</td>\n",
       "      <td>0</td>\n",
       "      <td>NaN</td>\n",
       "      <td>188</td>\n",
       "      <td>174</td>\n",
       "      <td>0</td>\n",
       "      <td>1</td>\n",
       "      <td>3</td>\n",
       "      <td>4</td>\n",
       "      <td>9</td>\n",
       "      <td>183</td>\n",
       "      <td>1.0</td>\n",
       "      <td>1</td>\n",
       "      <td>1</td>\n",
       "      <td>3</td>\n",
       "    </tr>\n",
       "    <tr>\n",
       "      <th>3</th>\n",
       "      <td>12c2e02f-bc79-4048-83ba-359cd3280dcf</td>\n",
       "      <td>No Gender</td>\n",
       "      <td>0</td>\n",
       "      <td>1</td>\n",
       "      <td>1</td>\n",
       "      <td>1</td>\n",
       "      <td>0</td>\n",
       "      <td>NaN</td>\n",
       "      <td>184</td>\n",
       "      <td>174</td>\n",
       "      <td>0</td>\n",
       "      <td>1</td>\n",
       "      <td>3</td>\n",
       "      <td>7</td>\n",
       "      <td>4</td>\n",
       "      <td>56</td>\n",
       "      <td>1.0</td>\n",
       "      <td>1</td>\n",
       "      <td>1</td>\n",
       "      <td>1</td>\n",
       "    </tr>\n",
       "    <tr>\n",
       "      <th>4</th>\n",
       "      <td>12fabdf0-0582-489e-a6d3-35509ab8ae6f</td>\n",
       "      <td>Female</td>\n",
       "      <td>1</td>\n",
       "      <td>1</td>\n",
       "      <td>1</td>\n",
       "      <td>1</td>\n",
       "      <td>1</td>\n",
       "      <td>22.0</td>\n",
       "      <td>572</td>\n",
       "      <td>173</td>\n",
       "      <td>0</td>\n",
       "      <td>1</td>\n",
       "      <td>4</td>\n",
       "      <td>6</td>\n",
       "      <td>7</td>\n",
       "      <td>83</td>\n",
       "      <td>1.0</td>\n",
       "      <td>1</td>\n",
       "      <td>1</td>\n",
       "      <td>3</td>\n",
       "    </tr>\n",
       "  </tbody>\n",
       "</table>\n",
       "</div>"
      ],
      "text/plain": [
       "                            consumer_id     gender  has_gender  \\\n",
       "0  1284b75c-ecae-4015-8e3d-359c0347ede8  No Gender           0   \n",
       "1  128af162-d2c3-4fe4-986c-359c8bdc6c04  No Gender           0   \n",
       "2  12aada5e-36eb-4e9e-8d62-359c076c1b40  No Gender           0   \n",
       "3  12c2e02f-bc79-4048-83ba-359cd3280dcf  No Gender           0   \n",
       "4  12fabdf0-0582-489e-a6d3-35509ab8ae6f     Female           1   \n",
       "\n",
       "   has_first_name  has_last_name  has_email  has_dob  customer_age  \\\n",
       "0               1              1          1        0           NaN   \n",
       "1               1              1          1        0           NaN   \n",
       "2               1              1          1        0           NaN   \n",
       "3               1              1          1        0           NaN   \n",
       "4               1              1          1        1          22.0   \n",
       "\n",
       "   account_age  account_last_updated  account_status  app_downloads  \\\n",
       "0          188                   174               0              1   \n",
       "1          185                   174               0              1   \n",
       "2          188                   174               0              1   \n",
       "3          184                   174               0              1   \n",
       "4          572                   173               0              1   \n",
       "\n",
       "   unique_offer_clicked  total_offer_clicks  unique_offer_impressions  \\\n",
       "0                     3                   3                         8   \n",
       "1                     3                   8                         5   \n",
       "2                     3                   4                         9   \n",
       "3                     3                   7                         4   \n",
       "4                     4                   6                         7   \n",
       "\n",
       "   total_offer_impressions  avg_redemptions  min_redemptions  max_redemptions  \\\n",
       "0                       52              1.0                1                1   \n",
       "1                       58              1.0                1                1   \n",
       "2                      183              1.0                1                1   \n",
       "3                       56              1.0                1                1   \n",
       "4                       83              1.0                1                1   \n",
       "\n",
       "   total_offers_redeemed  \n",
       "0                      1  \n",
       "1                      1  \n",
       "2                      3  \n",
       "3                      1  \n",
       "4                      3  "
      ]
     },
     "execution_count": 271,
     "metadata": {},
     "output_type": "execute_result"
    }
   ],
   "source": [
    "#dealing with missing values\n",
    "#- gender:Missing values can be treated as a separate category \n",
    "rawdata[\"gender\"].fillna(\"No Gender\", inplace = True)  # filling a null values using fillna()  \n",
    "rawdata[\"gender\"].replace({\"f\": \"Female\", \"m\": \"Male\"}, inplace=True)\n",
    "rawdata.head()"
   ]
  },
  {
   "cell_type": "markdown",
   "metadata": {},
   "source": [
    "#### 3.2 impute customer_age"
   ]
  },
  {
   "cell_type": "code",
   "execution_count": 272,
   "metadata": {},
   "outputs": [
    {
     "data": {
      "text/html": [
       "<div>\n",
       "<style scoped>\n",
       "    .dataframe tbody tr th:only-of-type {\n",
       "        vertical-align: middle;\n",
       "    }\n",
       "\n",
       "    .dataframe tbody tr th {\n",
       "        vertical-align: top;\n",
       "    }\n",
       "\n",
       "    .dataframe thead th {\n",
       "        text-align: right;\n",
       "    }\n",
       "</style>\n",
       "<table border=\"1\" class=\"dataframe\">\n",
       "  <thead>\n",
       "    <tr style=\"text-align: right;\">\n",
       "      <th></th>\n",
       "      <th>consumer_id</th>\n",
       "      <th>gender</th>\n",
       "      <th>has_gender</th>\n",
       "      <th>has_first_name</th>\n",
       "      <th>has_last_name</th>\n",
       "      <th>has_email</th>\n",
       "      <th>has_dob</th>\n",
       "      <th>customer_age</th>\n",
       "      <th>account_age</th>\n",
       "      <th>account_last_updated</th>\n",
       "      <th>account_status</th>\n",
       "      <th>app_downloads</th>\n",
       "      <th>unique_offer_clicked</th>\n",
       "      <th>total_offer_clicks</th>\n",
       "      <th>unique_offer_impressions</th>\n",
       "      <th>total_offer_impressions</th>\n",
       "      <th>avg_redemptions</th>\n",
       "      <th>min_redemptions</th>\n",
       "      <th>max_redemptions</th>\n",
       "      <th>total_offers_redeemed</th>\n",
       "    </tr>\n",
       "  </thead>\n",
       "  <tbody>\n",
       "    <tr>\n",
       "      <th>0</th>\n",
       "      <td>1284b75c-ecae-4015-8e3d-359c0347ede8</td>\n",
       "      <td>No Gender</td>\n",
       "      <td>0</td>\n",
       "      <td>1</td>\n",
       "      <td>1</td>\n",
       "      <td>1</td>\n",
       "      <td>0</td>\n",
       "      <td>22.566077</td>\n",
       "      <td>188</td>\n",
       "      <td>174</td>\n",
       "      <td>0</td>\n",
       "      <td>1</td>\n",
       "      <td>3</td>\n",
       "      <td>3</td>\n",
       "      <td>8</td>\n",
       "      <td>52</td>\n",
       "      <td>1.0</td>\n",
       "      <td>1</td>\n",
       "      <td>1</td>\n",
       "      <td>1</td>\n",
       "    </tr>\n",
       "    <tr>\n",
       "      <th>1</th>\n",
       "      <td>128af162-d2c3-4fe4-986c-359c8bdc6c04</td>\n",
       "      <td>No Gender</td>\n",
       "      <td>0</td>\n",
       "      <td>1</td>\n",
       "      <td>1</td>\n",
       "      <td>1</td>\n",
       "      <td>0</td>\n",
       "      <td>29.676713</td>\n",
       "      <td>185</td>\n",
       "      <td>174</td>\n",
       "      <td>0</td>\n",
       "      <td>1</td>\n",
       "      <td>3</td>\n",
       "      <td>8</td>\n",
       "      <td>5</td>\n",
       "      <td>58</td>\n",
       "      <td>1.0</td>\n",
       "      <td>1</td>\n",
       "      <td>1</td>\n",
       "      <td>1</td>\n",
       "    </tr>\n",
       "    <tr>\n",
       "      <th>2</th>\n",
       "      <td>12aada5e-36eb-4e9e-8d62-359c076c1b40</td>\n",
       "      <td>No Gender</td>\n",
       "      <td>0</td>\n",
       "      <td>1</td>\n",
       "      <td>1</td>\n",
       "      <td>1</td>\n",
       "      <td>0</td>\n",
       "      <td>21.469975</td>\n",
       "      <td>188</td>\n",
       "      <td>174</td>\n",
       "      <td>0</td>\n",
       "      <td>1</td>\n",
       "      <td>3</td>\n",
       "      <td>4</td>\n",
       "      <td>9</td>\n",
       "      <td>183</td>\n",
       "      <td>1.0</td>\n",
       "      <td>1</td>\n",
       "      <td>1</td>\n",
       "      <td>3</td>\n",
       "    </tr>\n",
       "    <tr>\n",
       "      <th>3</th>\n",
       "      <td>12c2e02f-bc79-4048-83ba-359cd3280dcf</td>\n",
       "      <td>No Gender</td>\n",
       "      <td>0</td>\n",
       "      <td>1</td>\n",
       "      <td>1</td>\n",
       "      <td>1</td>\n",
       "      <td>0</td>\n",
       "      <td>33.297549</td>\n",
       "      <td>184</td>\n",
       "      <td>174</td>\n",
       "      <td>0</td>\n",
       "      <td>1</td>\n",
       "      <td>3</td>\n",
       "      <td>7</td>\n",
       "      <td>4</td>\n",
       "      <td>56</td>\n",
       "      <td>1.0</td>\n",
       "      <td>1</td>\n",
       "      <td>1</td>\n",
       "      <td>1</td>\n",
       "    </tr>\n",
       "    <tr>\n",
       "      <th>4</th>\n",
       "      <td>12fabdf0-0582-489e-a6d3-35509ab8ae6f</td>\n",
       "      <td>Female</td>\n",
       "      <td>1</td>\n",
       "      <td>1</td>\n",
       "      <td>1</td>\n",
       "      <td>1</td>\n",
       "      <td>1</td>\n",
       "      <td>22.000000</td>\n",
       "      <td>572</td>\n",
       "      <td>173</td>\n",
       "      <td>0</td>\n",
       "      <td>1</td>\n",
       "      <td>4</td>\n",
       "      <td>6</td>\n",
       "      <td>7</td>\n",
       "      <td>83</td>\n",
       "      <td>1.0</td>\n",
       "      <td>1</td>\n",
       "      <td>1</td>\n",
       "      <td>3</td>\n",
       "    </tr>\n",
       "  </tbody>\n",
       "</table>\n",
       "</div>"
      ],
      "text/plain": [
       "                            consumer_id     gender  has_gender  \\\n",
       "0  1284b75c-ecae-4015-8e3d-359c0347ede8  No Gender           0   \n",
       "1  128af162-d2c3-4fe4-986c-359c8bdc6c04  No Gender           0   \n",
       "2  12aada5e-36eb-4e9e-8d62-359c076c1b40  No Gender           0   \n",
       "3  12c2e02f-bc79-4048-83ba-359cd3280dcf  No Gender           0   \n",
       "4  12fabdf0-0582-489e-a6d3-35509ab8ae6f     Female           1   \n",
       "\n",
       "   has_first_name  has_last_name  has_email  has_dob  customer_age  \\\n",
       "0               1              1          1        0     22.566077   \n",
       "1               1              1          1        0     29.676713   \n",
       "2               1              1          1        0     21.469975   \n",
       "3               1              1          1        0     33.297549   \n",
       "4               1              1          1        1     22.000000   \n",
       "\n",
       "   account_age  account_last_updated  account_status  app_downloads  \\\n",
       "0          188                   174               0              1   \n",
       "1          185                   174               0              1   \n",
       "2          188                   174               0              1   \n",
       "3          184                   174               0              1   \n",
       "4          572                   173               0              1   \n",
       "\n",
       "   unique_offer_clicked  total_offer_clicks  unique_offer_impressions  \\\n",
       "0                     3                   3                         8   \n",
       "1                     3                   8                         5   \n",
       "2                     3                   4                         9   \n",
       "3                     3                   7                         4   \n",
       "4                     4                   6                         7   \n",
       "\n",
       "   total_offer_impressions  avg_redemptions  min_redemptions  max_redemptions  \\\n",
       "0                       52              1.0                1                1   \n",
       "1                       58              1.0                1                1   \n",
       "2                      183              1.0                1                1   \n",
       "3                       56              1.0                1                1   \n",
       "4                       83              1.0                1                1   \n",
       "\n",
       "   total_offers_redeemed  \n",
       "0                      1  \n",
       "1                      1  \n",
       "2                      3  \n",
       "3                      1  \n",
       "4                      3  "
      ]
     },
     "execution_count": 272,
     "metadata": {},
     "output_type": "execute_result"
    }
   ],
   "source": [
    "from sklearn.impute import KNNImputer\n",
    "imputer = KNNImputer( weights=\"distance\")  # weight: distance or  uniform ; n_neighbors=5 default\n",
    "temp_data_im=rawdata.drop(['consumer_id','gender'], axis = 1)   #KNNImputer cannot deal with factors\n",
    "data_im=imputer.fit_transform(temp_data_im)\n",
    "imputed_age=pd.DataFrame(data_im)[5]\n",
    "rawdata['customer_age'] = imputed_age #replace age using imputed  data\n",
    "rawdata.head()\n"
   ]
  },
  {
   "cell_type": "code",
   "execution_count": 54,
   "metadata": {},
   "outputs": [],
   "source": [
    "#save data\n",
    "rawdata.to_csv('imputedData.csv',index=False)"
   ]
  },
  {
   "cell_type": "markdown",
   "metadata": {},
   "source": [
    "### 4 Data clustering "
   ]
  },
  {
   "cell_type": "code",
   "execution_count": 3,
   "metadata": {},
   "outputs": [],
   "source": [
    "from sklearn import metrics\n",
    "import time\n",
    "from sklearn import preprocessing\n",
    "from sklearn.preprocessing import StandardScaler\n",
    "from sklearn.preprocessing import Normalizer\n",
    "from sklearn.cluster import MiniBatchKMeans \n",
    "from sklearn.cluster import KMeans\n",
    "from sklearn.cluster import DBSCAN\n",
    "from sklearn.cluster import AgglomerativeClustering"
   ]
  },
  {
   "cell_type": "code",
   "execution_count": 3,
   "metadata": {},
   "outputs": [
    {
     "data": {
      "text/html": [
       "<div>\n",
       "<style scoped>\n",
       "    .dataframe tbody tr th:only-of-type {\n",
       "        vertical-align: middle;\n",
       "    }\n",
       "\n",
       "    .dataframe tbody tr th {\n",
       "        vertical-align: top;\n",
       "    }\n",
       "\n",
       "    .dataframe thead th {\n",
       "        text-align: right;\n",
       "    }\n",
       "</style>\n",
       "<table border=\"1\" class=\"dataframe\">\n",
       "  <thead>\n",
       "    <tr style=\"text-align: right;\">\n",
       "      <th></th>\n",
       "      <th>gender</th>\n",
       "      <th>has_gender</th>\n",
       "      <th>has_first_name</th>\n",
       "      <th>has_last_name</th>\n",
       "      <th>has_email</th>\n",
       "      <th>has_dob</th>\n",
       "      <th>customer_age</th>\n",
       "      <th>account_age</th>\n",
       "      <th>account_last_updated</th>\n",
       "      <th>account_status</th>\n",
       "      <th>app_downloads</th>\n",
       "      <th>unique_offer_clicked</th>\n",
       "      <th>total_offer_clicks</th>\n",
       "      <th>unique_offer_impressions</th>\n",
       "      <th>total_offer_impressions</th>\n",
       "      <th>avg_redemptions</th>\n",
       "      <th>min_redemptions</th>\n",
       "      <th>max_redemptions</th>\n",
       "      <th>total_offers_redeemed</th>\n",
       "    </tr>\n",
       "  </thead>\n",
       "  <tbody>\n",
       "    <tr>\n",
       "      <th>0</th>\n",
       "      <td>0</td>\n",
       "      <td>0</td>\n",
       "      <td>1</td>\n",
       "      <td>1</td>\n",
       "      <td>1</td>\n",
       "      <td>0</td>\n",
       "      <td>22.566077</td>\n",
       "      <td>188</td>\n",
       "      <td>174</td>\n",
       "      <td>0</td>\n",
       "      <td>1</td>\n",
       "      <td>3</td>\n",
       "      <td>3</td>\n",
       "      <td>8</td>\n",
       "      <td>52</td>\n",
       "      <td>1.0</td>\n",
       "      <td>1</td>\n",
       "      <td>1</td>\n",
       "      <td>1</td>\n",
       "    </tr>\n",
       "    <tr>\n",
       "      <th>1</th>\n",
       "      <td>0</td>\n",
       "      <td>0</td>\n",
       "      <td>1</td>\n",
       "      <td>1</td>\n",
       "      <td>1</td>\n",
       "      <td>0</td>\n",
       "      <td>29.676713</td>\n",
       "      <td>185</td>\n",
       "      <td>174</td>\n",
       "      <td>0</td>\n",
       "      <td>1</td>\n",
       "      <td>3</td>\n",
       "      <td>8</td>\n",
       "      <td>5</td>\n",
       "      <td>58</td>\n",
       "      <td>1.0</td>\n",
       "      <td>1</td>\n",
       "      <td>1</td>\n",
       "      <td>1</td>\n",
       "    </tr>\n",
       "    <tr>\n",
       "      <th>2</th>\n",
       "      <td>0</td>\n",
       "      <td>0</td>\n",
       "      <td>1</td>\n",
       "      <td>1</td>\n",
       "      <td>1</td>\n",
       "      <td>0</td>\n",
       "      <td>21.469975</td>\n",
       "      <td>188</td>\n",
       "      <td>174</td>\n",
       "      <td>0</td>\n",
       "      <td>1</td>\n",
       "      <td>3</td>\n",
       "      <td>4</td>\n",
       "      <td>9</td>\n",
       "      <td>183</td>\n",
       "      <td>1.0</td>\n",
       "      <td>1</td>\n",
       "      <td>1</td>\n",
       "      <td>3</td>\n",
       "    </tr>\n",
       "    <tr>\n",
       "      <th>3</th>\n",
       "      <td>0</td>\n",
       "      <td>0</td>\n",
       "      <td>1</td>\n",
       "      <td>1</td>\n",
       "      <td>1</td>\n",
       "      <td>0</td>\n",
       "      <td>33.297549</td>\n",
       "      <td>184</td>\n",
       "      <td>174</td>\n",
       "      <td>0</td>\n",
       "      <td>1</td>\n",
       "      <td>3</td>\n",
       "      <td>7</td>\n",
       "      <td>4</td>\n",
       "      <td>56</td>\n",
       "      <td>1.0</td>\n",
       "      <td>1</td>\n",
       "      <td>1</td>\n",
       "      <td>1</td>\n",
       "    </tr>\n",
       "    <tr>\n",
       "      <th>4</th>\n",
       "      <td>1</td>\n",
       "      <td>1</td>\n",
       "      <td>1</td>\n",
       "      <td>1</td>\n",
       "      <td>1</td>\n",
       "      <td>1</td>\n",
       "      <td>22.000000</td>\n",
       "      <td>572</td>\n",
       "      <td>173</td>\n",
       "      <td>0</td>\n",
       "      <td>1</td>\n",
       "      <td>4</td>\n",
       "      <td>6</td>\n",
       "      <td>7</td>\n",
       "      <td>83</td>\n",
       "      <td>1.0</td>\n",
       "      <td>1</td>\n",
       "      <td>1</td>\n",
       "      <td>3</td>\n",
       "    </tr>\n",
       "    <tr>\n",
       "      <th>5</th>\n",
       "      <td>0</td>\n",
       "      <td>0</td>\n",
       "      <td>1</td>\n",
       "      <td>1</td>\n",
       "      <td>1</td>\n",
       "      <td>0</td>\n",
       "      <td>22.301341</td>\n",
       "      <td>193</td>\n",
       "      <td>174</td>\n",
       "      <td>0</td>\n",
       "      <td>1</td>\n",
       "      <td>1</td>\n",
       "      <td>1</td>\n",
       "      <td>1</td>\n",
       "      <td>7</td>\n",
       "      <td>1.0</td>\n",
       "      <td>1</td>\n",
       "      <td>1</td>\n",
       "      <td>1</td>\n",
       "    </tr>\n",
       "    <tr>\n",
       "      <th>6</th>\n",
       "      <td>1</td>\n",
       "      <td>1</td>\n",
       "      <td>1</td>\n",
       "      <td>1</td>\n",
       "      <td>1</td>\n",
       "      <td>1</td>\n",
       "      <td>17.000000</td>\n",
       "      <td>185</td>\n",
       "      <td>174</td>\n",
       "      <td>0</td>\n",
       "      <td>1</td>\n",
       "      <td>1</td>\n",
       "      <td>1</td>\n",
       "      <td>4</td>\n",
       "      <td>22</td>\n",
       "      <td>1.0</td>\n",
       "      <td>1</td>\n",
       "      <td>1</td>\n",
       "      <td>2</td>\n",
       "    </tr>\n",
       "    <tr>\n",
       "      <th>7</th>\n",
       "      <td>1</td>\n",
       "      <td>1</td>\n",
       "      <td>1</td>\n",
       "      <td>1</td>\n",
       "      <td>1</td>\n",
       "      <td>1</td>\n",
       "      <td>20.000000</td>\n",
       "      <td>502</td>\n",
       "      <td>176</td>\n",
       "      <td>0</td>\n",
       "      <td>1</td>\n",
       "      <td>2</td>\n",
       "      <td>3</td>\n",
       "      <td>11</td>\n",
       "      <td>62</td>\n",
       "      <td>1.0</td>\n",
       "      <td>1</td>\n",
       "      <td>1</td>\n",
       "      <td>1</td>\n",
       "    </tr>\n",
       "    <tr>\n",
       "      <th>8</th>\n",
       "      <td>0</td>\n",
       "      <td>0</td>\n",
       "      <td>1</td>\n",
       "      <td>1</td>\n",
       "      <td>1</td>\n",
       "      <td>0</td>\n",
       "      <td>25.021570</td>\n",
       "      <td>177</td>\n",
       "      <td>174</td>\n",
       "      <td>0</td>\n",
       "      <td>1</td>\n",
       "      <td>1</td>\n",
       "      <td>2</td>\n",
       "      <td>4</td>\n",
       "      <td>12</td>\n",
       "      <td>1.0</td>\n",
       "      <td>1</td>\n",
       "      <td>1</td>\n",
       "      <td>1</td>\n",
       "    </tr>\n",
       "    <tr>\n",
       "      <th>9</th>\n",
       "      <td>0</td>\n",
       "      <td>0</td>\n",
       "      <td>1</td>\n",
       "      <td>1</td>\n",
       "      <td>1</td>\n",
       "      <td>0</td>\n",
       "      <td>20.775598</td>\n",
       "      <td>188</td>\n",
       "      <td>177</td>\n",
       "      <td>0</td>\n",
       "      <td>1</td>\n",
       "      <td>3</td>\n",
       "      <td>4</td>\n",
       "      <td>4</td>\n",
       "      <td>49</td>\n",
       "      <td>1.0</td>\n",
       "      <td>1</td>\n",
       "      <td>1</td>\n",
       "      <td>2</td>\n",
       "    </tr>\n",
       "  </tbody>\n",
       "</table>\n",
       "</div>"
      ],
      "text/plain": [
       "   gender  has_gender  has_first_name  has_last_name  has_email  has_dob  \\\n",
       "0       0           0               1              1          1        0   \n",
       "1       0           0               1              1          1        0   \n",
       "2       0           0               1              1          1        0   \n",
       "3       0           0               1              1          1        0   \n",
       "4       1           1               1              1          1        1   \n",
       "5       0           0               1              1          1        0   \n",
       "6       1           1               1              1          1        1   \n",
       "7       1           1               1              1          1        1   \n",
       "8       0           0               1              1          1        0   \n",
       "9       0           0               1              1          1        0   \n",
       "\n",
       "   customer_age  account_age  account_last_updated  account_status  \\\n",
       "0     22.566077          188                   174               0   \n",
       "1     29.676713          185                   174               0   \n",
       "2     21.469975          188                   174               0   \n",
       "3     33.297549          184                   174               0   \n",
       "4     22.000000          572                   173               0   \n",
       "5     22.301341          193                   174               0   \n",
       "6     17.000000          185                   174               0   \n",
       "7     20.000000          502                   176               0   \n",
       "8     25.021570          177                   174               0   \n",
       "9     20.775598          188                   177               0   \n",
       "\n",
       "   app_downloads  unique_offer_clicked  total_offer_clicks  \\\n",
       "0              1                     3                   3   \n",
       "1              1                     3                   8   \n",
       "2              1                     3                   4   \n",
       "3              1                     3                   7   \n",
       "4              1                     4                   6   \n",
       "5              1                     1                   1   \n",
       "6              1                     1                   1   \n",
       "7              1                     2                   3   \n",
       "8              1                     1                   2   \n",
       "9              1                     3                   4   \n",
       "\n",
       "   unique_offer_impressions  total_offer_impressions  avg_redemptions  \\\n",
       "0                         8                       52              1.0   \n",
       "1                         5                       58              1.0   \n",
       "2                         9                      183              1.0   \n",
       "3                         4                       56              1.0   \n",
       "4                         7                       83              1.0   \n",
       "5                         1                        7              1.0   \n",
       "6                         4                       22              1.0   \n",
       "7                        11                       62              1.0   \n",
       "8                         4                       12              1.0   \n",
       "9                         4                       49              1.0   \n",
       "\n",
       "   min_redemptions  max_redemptions  total_offers_redeemed  \n",
       "0                1                1                      1  \n",
       "1                1                1                      1  \n",
       "2                1                1                      3  \n",
       "3                1                1                      1  \n",
       "4                1                1                      3  \n",
       "5                1                1                      1  \n",
       "6                1                1                      2  \n",
       "7                1                1                      1  \n",
       "8                1                1                      1  \n",
       "9                1                1                      2  "
      ]
     },
     "execution_count": 3,
     "metadata": {},
     "output_type": "execute_result"
    }
   ],
   "source": [
    "#read imputed data for clustring \n",
    "# As this is an unsupervised learning , we donot split data at this stage\n",
    "newdata=pd.read_csv('imputedData.csv')\n",
    "newdata[\"gender\"].replace({\"No Gender\":0, \"Female\": 1, \"Male\": 2}, inplace=True)\n",
    "newdata[\"gender\"] = newdata[\"gender\"].astype(int)   #could not convert string to float: 'Male'\n",
    "modelingdata=newdata.drop(['consumer_id'], axis = 1)  #could not convert string to float: '7e1177c6-d055-4dbd-b8e5-359e650f3b8a'\n",
    "modelingdata.head(10)"
   ]
  },
  {
   "cell_type": "markdown",
   "metadata": {},
   "source": [
    "#### 4.1 Find a proper K according to  silhouette_score  and Elbow Method using KMeans"
   ]
  },
  {
   "cell_type": "code",
   "execution_count": 9,
   "metadata": {},
   "outputs": [],
   "source": [
    "transformer = Normalizer().fit(modelingdata)\n",
    "Normalizer()\n",
    "modelingdata_Normal=transformer.transform(modelingdata)"
   ]
  },
  {
   "cell_type": "code",
   "execution_count": 8,
   "metadata": {},
   "outputs": [
    {
     "name": "stdout",
     "output_type": "stream",
     "text": [
      "The silhouette Coefficients are:\n",
      "[0.5425042301493057, 0.5978239827225968, 0.5373076621510758, 0.5237149090873666, 0.4716841467005509, 0.43165604415275627, 0.4394469470039639, 0.40475722308082, 0.39942909681405475, 0.3778443428383247, 0.3795962739944714, 0.35247568405401547, 0.35548271456382174, 0.34801229333695527, 0.31935772823555925, 0.3231490469620344, 0.33947281150177594, 0.3308165321887731]\n"
     ]
    },
    {
     "data": {
      "image/png": "[encoded data removed]",
      "text/plain": [
       "<Figure size 432x288 with 1 Axes>"
      ]
     },
     "metadata": {
      "needs_background": "light"
     },
     "output_type": "display_data"
    }
   ],
   "source": [
    "scores = []\n",
    "for k in range(2, 20):\n",
    "    labels = KMeans(n_clusters=k).fit(modelingdata_Normal).labels_   \n",
    "    score = metrics.silhouette_score(modelingdata_Normal, labels)\n",
    "    scores.append(score)\n",
    "    \n",
    "print('The silhouette Coefficients are:')\n",
    "print(scores)\n",
    "      \n",
    "plt.plot(list(range(2, 20)), scores)\n",
    "plt.xlabel(\"Number of Clusters Initialized\")\n",
    "plt.ylabel(\"Sihouette Score\")\n",
    "plt.show()"
   ]
  },
  {
   "cell_type": "code",
   "execution_count": 5,
   "metadata": {},
   "outputs": [
    {
     "data": {
      "image/png": "[encoded data removed]",
      "text/plain": [
       "<Figure size 432x288 with 1 Axes>"
      ]
     },
     "metadata": {
      "needs_background": "light"
     },
     "output_type": "display_data"
    }
   ],
   "source": [
    "#double check by Sum of squared distances\n",
    "sse = []\n",
    "list_k = list(range(1, 20))\n",
    "for k in list_k:\n",
    "    km = KMeans(n_clusters=k)\n",
    "    km.fit(modelingdata_Normal)\n",
    "    sse.append(km.inertia_)  #Sum of squared distances of samples to their closest cluster center.\n",
    "# Plot sse against k\n",
    "plt.plot(list_k, sse,'-o')\n",
    "plt.xlabel(r'Number of clusters *k*')\n",
    "plt.ylabel('Sum of squared distance');"
   ]
  },
  {
   "cell_type": "markdown",
   "metadata": {},
   "source": [
    "The maximum silhouette coefficient is achieved when K = 3 (best cohesive, well-separated clustering for the data)\n",
    "and  SSE starts to flatten out and forming an elbow from K=3."
   ]
  },
  {
   "cell_type": "markdown",
   "metadata": {},
   "source": [
    "#### 4.2  KMeans"
   ]
  },
  {
   "cell_type": "code",
   "execution_count": 15,
   "metadata": {},
   "outputs": [
    {
     "name": "stdout",
     "output_type": "stream",
     "text": [
      "1.750345230102539\n"
     ]
    },
    {
     "data": {
      "text/plain": [
       "6180"
      ]
     },
     "execution_count": 15,
     "metadata": {},
     "output_type": "execute_result"
    }
   ],
   "source": [
    "t0 = time.time()\n",
    "labels = KMeans(n_clusters=3,random_state=100).fit(modelingdata_Normal).labels_\n",
    "score_kmeans = metrics.silhouette_score(modelingdata_Normal, labels)\n",
    "t_kmean = time.time() - t0\n",
    "print(t_kmean) \n",
    "len(labels[labels==1]) "
   ]
  },
  {
   "cell_type": "markdown",
   "metadata": {},
   "source": [
    "#### 4.3  MiniBatchKMeans"
   ]
  },
  {
   "cell_type": "code",
   "execution_count": 17,
   "metadata": {},
   "outputs": [
    {
     "name": "stdout",
     "output_type": "stream",
     "text": [
      "1.6505839824676514\n"
     ]
    },
    {
     "data": {
      "text/plain": [
       "6079"
      ]
     },
     "execution_count": 17,
     "metadata": {},
     "output_type": "execute_result"
    }
   ],
   "source": [
    "# no standardization\n",
    "t0_mini = time.time()\n",
    "labels_mini = MiniBatchKMeans(n_clusters=3,random_state=100).fit(modelingdata_Normal).labels_\n",
    "score_mini = metrics.silhouette_score(modelingdata_Normal, labels_mini)\n",
    "t_batch_mini = time.time() - t0_mini\n",
    "print(t_batch_mini)\n",
    "len(labels_mini[labels_mini==1]) #2 0"
   ]
  },
  {
   "cell_type": "markdown",
   "metadata": {},
   "source": [
    "#### 4.4 DBSCAN  "
   ]
  },
  {
   "cell_type": "code",
   "execution_count": 20,
   "metadata": {},
   "outputs": [
    {
     "name": "stdout",
     "output_type": "stream",
     "text": [
      "error: may be inappropriate parameter combinations\n",
      "error: may be inappropriate parameter combinations\n",
      "error: may be inappropriate parameter combinations\n",
      "error: may be inappropriate parameter combinations\n",
      "error: may be inappropriate parameter combinations\n",
      "error: may be inappropriate parameter combinations\n",
      "error: may be inappropriate parameter combinations\n",
      "error: may be inappropriate parameter combinations\n",
      "error: may be inappropriate parameter combinations\n",
      "error: may be inappropriate parameter combinations\n",
      "error: may be inappropriate parameter combinations\n",
      "error: may be inappropriate parameter combinations\n",
      "error: may be inappropriate parameter combinations\n",
      "error: may be inappropriate parameter combinations\n",
      "error: may be inappropriate parameter combinations\n",
      "error: may be inappropriate parameter combinations\n",
      "error: may be inappropriate parameter combinations\n",
      "error: may be inappropriate parameter combinations\n",
      "error: may be inappropriate parameter combinations\n",
      "error: may be inappropriate parameter combinations\n",
      "error: may be inappropriate parameter combinations\n",
      "error: may be inappropriate parameter combinations\n",
      "error: may be inappropriate parameter combinations\n",
      "error: may be inappropriate parameter combinations\n",
      "error: may be inappropriate parameter combinations\n",
      "error: may be inappropriate parameter combinations\n",
      "error: may be inappropriate parameter combinations\n",
      "error: may be inappropriate parameter combinations\n",
      "error: may be inappropriate parameter combinations\n",
      "error: may be inappropriate parameter combinations\n",
      "error: may be inappropriate parameter combinations\n",
      "error: may be inappropriate parameter combinations\n",
      "error: may be inappropriate parameter combinations\n",
      "error: may be inappropriate parameter combinations\n",
      "error: may be inappropriate parameter combinations\n",
      "error: may be inappropriate parameter combinations\n",
      "error: may be inappropriate parameter combinations\n",
      "error: may be inappropriate parameter combinations\n",
      "error: may be inappropriate parameter combinations\n",
      "error: may be inappropriate parameter combinations\n",
      "error: may be inappropriate parameter combinations\n",
      "error: may be inappropriate parameter combinations\n",
      "error: may be inappropriate parameter combinations\n",
      "error: may be inappropriate parameter combinations\n",
      "error: may be inappropriate parameter combinations\n",
      "error: may be inappropriate parameter combinations\n",
      "error: may be inappropriate parameter combinations\n",
      "error: may be inappropriate parameter combinations\n",
      "error: may be inappropriate parameter combinations\n",
      "error: may be inappropriate parameter combinations\n",
      "error: may be inappropriate parameter combinations\n",
      "error: may be inappropriate parameter combinations\n",
      "error: may be inappropriate parameter combinations\n",
      "error: may be inappropriate parameter combinations\n",
      "error: may be inappropriate parameter combinations\n",
      "error: may be inappropriate parameter combinations\n",
      "error: may be inappropriate parameter combinations\n",
      "error: may be inappropriate parameter combinations\n",
      "error: may be inappropriate parameter combinations\n",
      "error: may be inappropriate parameter combinations\n",
      "error: may be inappropriate parameter combinations\n",
      "error: may be inappropriate parameter combinations\n",
      "error: may be inappropriate parameter combinations\n",
      "error: may be inappropriate parameter combinations\n",
      "error: may be inappropriate parameter combinations\n",
      "error: may be inappropriate parameter combinations\n",
      "error: may be inappropriate parameter combinations\n",
      "error: may be inappropriate parameter combinations\n",
      "error: may be inappropriate parameter combinations\n",
      "error: may be inappropriate parameter combinations\n",
      "error: may be inappropriate parameter combinations\n",
      "error: may be inappropriate parameter combinations\n",
      "error: may be inappropriate parameter combinations\n",
      "error: may be inappropriate parameter combinations\n",
      "error: may be inappropriate parameter combinations\n",
      "error: may be inappropriate parameter combinations\n",
      "error: may be inappropriate parameter combinations\n",
      "error: may be inappropriate parameter combinations\n",
      "error: may be inappropriate parameter combinations\n",
      "error: may be inappropriate parameter combinations\n",
      "error: may be inappropriate parameter combinations\n",
      "error: may be inappropriate parameter combinations\n",
      "error: may be inappropriate parameter combinations\n",
      "error: may be inappropriate parameter combinations\n",
      "error: may be inappropriate parameter combinations\n",
      "error: may be inappropriate parameter combinations\n",
      "error: may be inappropriate parameter combinations\n",
      "error: may be inappropriate parameter combinations\n",
      "error: may be inappropriate parameter combinations\n",
      "error: may be inappropriate parameter combinations\n",
      "error: may be inappropriate parameter combinations\n",
      "error: may be inappropriate parameter combinations\n",
      "error: may be inappropriate parameter combinations\n",
      "error: may be inappropriate parameter combinations\n",
      "error: may be inappropriate parameter combinations\n",
      "error: may be inappropriate parameter combinations\n",
      "error: may be inappropriate parameter combinations\n",
      "error: may be inappropriate parameter combinations\n",
      "error: may be inappropriate parameter combinations\n",
      "error: may be inappropriate parameter combinations\n",
      "error: may be inappropriate parameter combinations\n",
      "error: may be inappropriate parameter combinations\n",
      "error: may be inappropriate parameter combinations\n",
      "error: may be inappropriate parameter combinations\n",
      "error: may be inappropriate parameter combinations\n",
      "error: may be inappropriate parameter combinations\n",
      "error: may be inappropriate parameter combinations\n",
      "error: may be inappropriate parameter combinations\n",
      "error: may be inappropriate parameter combinations\n",
      "error: may be inappropriate parameter combinations\n",
      "error: may be inappropriate parameter combinations\n",
      "error: may be inappropriate parameter combinations\n",
      "error: may be inappropriate parameter combinations\n",
      "error: may be inappropriate parameter combinations\n",
      "error: may be inappropriate parameter combinations\n",
      "error: may be inappropriate parameter combinations\n",
      "error: may be inappropriate parameter combinations\n",
      "error: may be inappropriate parameter combinations\n",
      "error: may be inappropriate parameter combinations\n",
      "error: may be inappropriate parameter combinations\n",
      "error: may be inappropriate parameter combinations\n",
      "error: may be inappropriate parameter combinations\n",
      "error: may be inappropriate parameter combinations\n",
      "error: may be inappropriate parameter combinations\n",
      "error: may be inappropriate parameter combinations\n",
      "error: may be inappropriate parameter combinations\n",
      "error: may be inappropriate parameter combinations\n",
      "error: may be inappropriate parameter combinations\n",
      "error: may be inappropriate parameter combinations\n",
      "error: may be inappropriate parameter combinations\n",
      "error: may be inappropriate parameter combinations\n",
      "error: may be inappropriate parameter combinations\n",
      "error: may be inappropriate parameter combinations\n",
      "error: may be inappropriate parameter combinations\n",
      "error: may be inappropriate parameter combinations\n",
      "error: may be inappropriate parameter combinations\n",
      "error: may be inappropriate parameter combinations\n",
      "error: may be inappropriate parameter combinations\n",
      "error: may be inappropriate parameter combinations\n",
      "error: may be inappropriate parameter combinations\n",
      "error: may be inappropriate parameter combinations\n",
      "error: may be inappropriate parameter combinations\n",
      "error: may be inappropriate parameter combinations\n",
      "error: may be inappropriate parameter combinations\n",
      "error: may be inappropriate parameter combinations\n",
      "error: may be inappropriate parameter combinations\n",
      "error: may be inappropriate parameter combinations\n",
      "error: may be inappropriate parameter combinations\n",
      "error: may be inappropriate parameter combinations\n",
      "error: may be inappropriate parameter combinations\n",
      "error: may be inappropriate parameter combinations\n",
      "error: may be inappropriate parameter combinations\n",
      "error: may be inappropriate parameter combinations\n",
      "error: may be inappropriate parameter combinations\n",
      "error: may be inappropriate parameter combinations\n",
      "error: may be inappropriate parameter combinations\n",
      "error: may be inappropriate parameter combinations\n",
      "error: may be inappropriate parameter combinations\n",
      "error: may be inappropriate parameter combinations\n",
      "error: may be inappropriate parameter combinations\n",
      "error: may be inappropriate parameter combinations\n"
     ]
    },
    {
     "name": "stdout",
     "output_type": "stream",
     "text": [
      "error: may be inappropriate parameter combinations\n",
      "error: may be inappropriate parameter combinations\n",
      "error: may be inappropriate parameter combinations\n",
      "error: may be inappropriate parameter combinations\n",
      "error: may be inappropriate parameter combinations\n",
      "error: may be inappropriate parameter combinations\n",
      "error: may be inappropriate parameter combinations\n",
      "error: may be inappropriate parameter combinations\n",
      "error: may be inappropriate parameter combinations\n",
      "error: may be inappropriate parameter combinations\n",
      "error: may be inappropriate parameter combinations\n",
      "error: may be inappropriate parameter combinations\n",
      "error: may be inappropriate parameter combinations\n",
      "error: may be inappropriate parameter combinations\n",
      "error: may be inappropriate parameter combinations\n",
      "error: may be inappropriate parameter combinations\n",
      "error: may be inappropriate parameter combinations\n",
      "error: may be inappropriate parameter combinations\n",
      "error: may be inappropriate parameter combinations\n",
      "error: may be inappropriate parameter combinations\n",
      "error: may be inappropriate parameter combinations\n",
      "error: may be inappropriate parameter combinations\n",
      "error: may be inappropriate parameter combinations\n",
      "error: may be inappropriate parameter combinations\n",
      "error: may be inappropriate parameter combinations\n",
      "error: may be inappropriate parameter combinations\n",
      "error: may be inappropriate parameter combinations\n",
      "error: may be inappropriate parameter combinations\n",
      "error: may be inappropriate parameter combinations\n",
      "error: may be inappropriate parameter combinations\n",
      "error: may be inappropriate parameter combinations\n",
      "error: may be inappropriate parameter combinations\n",
      "error: may be inappropriate parameter combinations\n",
      "error: may be inappropriate parameter combinations\n",
      "error: may be inappropriate parameter combinations\n",
      "error: may be inappropriate parameter combinations\n",
      "error: may be inappropriate parameter combinations\n",
      "error: may be inappropriate parameter combinations\n",
      "error: may be inappropriate parameter combinations\n",
      "error: may be inappropriate parameter combinations\n",
      "error: may be inappropriate parameter combinations\n",
      "error: may be inappropriate parameter combinations\n",
      "error: may be inappropriate parameter combinations\n",
      "error: may be inappropriate parameter combinations\n",
      "error: may be inappropriate parameter combinations\n",
      "error: may be inappropriate parameter combinations\n",
      "error: may be inappropriate parameter combinations\n",
      "error: may be inappropriate parameter combinations\n",
      "error: may be inappropriate parameter combinations\n",
      "error: may be inappropriate parameter combinations\n",
      "error: may be inappropriate parameter combinations\n",
      "error: may be inappropriate parameter combinations\n",
      "error: may be inappropriate parameter combinations\n",
      "error: may be inappropriate parameter combinations\n",
      "error: may be inappropriate parameter combinations\n",
      "error: may be inappropriate parameter combinations\n",
      "error: may be inappropriate parameter combinations\n",
      "error: may be inappropriate parameter combinations\n",
      "error: may be inappropriate parameter combinations\n",
      "error: may be inappropriate parameter combinations\n",
      "error: may be inappropriate parameter combinations\n",
      "error: may be inappropriate parameter combinations\n",
      "error: may be inappropriate parameter combinations\n",
      "error: may be inappropriate parameter combinations\n",
      "error: may be inappropriate parameter combinations\n",
      "error: may be inappropriate parameter combinations\n",
      "error: may be inappropriate parameter combinations\n",
      "error: may be inappropriate parameter combinations\n",
      "error: may be inappropriate parameter combinations\n",
      "error: may be inappropriate parameter combinations\n",
      "error: may be inappropriate parameter combinations\n",
      "error: may be inappropriate parameter combinations\n",
      "error: may be inappropriate parameter combinations\n",
      "error: may be inappropriate parameter combinations\n",
      "error: may be inappropriate parameter combinations\n",
      "error: may be inappropriate parameter combinations\n",
      "error: may be inappropriate parameter combinations\n",
      "error: may be inappropriate parameter combinations\n",
      "error: may be inappropriate parameter combinations\n",
      "error: may be inappropriate parameter combinations\n",
      "error: may be inappropriate parameter combinations\n",
      "error: may be inappropriate parameter combinations\n",
      "error: may be inappropriate parameter combinations\n",
      "error: may be inappropriate parameter combinations\n",
      "error: may be inappropriate parameter combinations\n",
      "error: may be inappropriate parameter combinations\n",
      "error: may be inappropriate parameter combinations\n",
      "error: may be inappropriate parameter combinations\n",
      "error: may be inappropriate parameter combinations\n",
      "error: may be inappropriate parameter combinations\n",
      "error: may be inappropriate parameter combinations\n"
     ]
    }
   ],
   "source": [
    "import warnings\n",
    "warnings.filterwarnings('ignore')\n",
    "\n",
    "#tune critical parameters\n",
    "res = [] \n",
    "for eps in np.arange(0.1,3,0.2):\n",
    "    for min_samples in range(2,20,1):\n",
    "        try:\n",
    "                dbscan = DBSCAN(eps = eps, min_samples = min_samples).fit(modelingdata_Normal) # fit model\n",
    "                n_clusters = len([i for i in set(dbscan.labels_) if i != -1])  #Number of clusters in labels,\n",
    "                outliners = np.sum(np.where(dbscan.labels_ == -1, 1,0))   #Number of noises,\n",
    "                stats = str(pd.Series([i for i in dbscan.labels_ if i != -1]).value_counts().values)  #sample size \n",
    "                silhouette_score = metrics.silhouette_score(modelingdata_Normal, dbscan.labels_)\n",
    "        except Exception:\n",
    "                print(\"error: may be inappropriate parameter combinations\") \n",
    "        else:   \n",
    "                res.append({'eps':eps,'min_samples':min_samples,'n_clusters':n_clusters,'outliners':outliners,'silhouette_score':silhouette_score,'stats':stats})   \n",
    "        \n",
    "df = pd.DataFrame(res)"
   ]
  },
  {
   "cell_type": "markdown",
   "metadata": {},
   "source": [
    "The silhouette_score is so low, so that DBSCAN had bad performence."
   ]
  },
  {
   "cell_type": "code",
   "execution_count": 26,
   "metadata": {},
   "outputs": [
    {
     "data": {
      "text/html": [
       "<div>\n",
       "<style scoped>\n",
       "    .dataframe tbody tr th:only-of-type {\n",
       "        vertical-align: middle;\n",
       "    }\n",
       "\n",
       "    .dataframe tbody tr th {\n",
       "        vertical-align: top;\n",
       "    }\n",
       "\n",
       "    .dataframe thead th {\n",
       "        text-align: right;\n",
       "    }\n",
       "</style>\n",
       "<table border=\"1\" class=\"dataframe\">\n",
       "  <thead>\n",
       "    <tr style=\"text-align: right;\">\n",
       "      <th></th>\n",
       "      <th>eps</th>\n",
       "      <th>min_samples</th>\n",
       "      <th>n_clusters</th>\n",
       "      <th>outliners</th>\n",
       "      <th>silhouette_score</th>\n",
       "      <th>stats</th>\n",
       "    </tr>\n",
       "  </thead>\n",
       "  <tbody>\n",
       "  </tbody>\n",
       "</table>\n",
       "</div>"
      ],
      "text/plain": [
       "Empty DataFrame\n",
       "Columns: [eps, min_samples, n_clusters, outliners, silhouette_score, stats]\n",
       "Index: []"
      ]
     },
     "execution_count": 26,
     "metadata": {},
     "output_type": "execute_result"
    }
   ],
   "source": [
    "df.head(0)"
   ]
  },
  {
   "cell_type": "code",
   "execution_count": 23,
   "metadata": {
    "scrolled": true
   },
   "outputs": [
    {
     "data": {
      "text/html": [
       "<div>\n",
       "<style scoped>\n",
       "    .dataframe tbody tr th:only-of-type {\n",
       "        vertical-align: middle;\n",
       "    }\n",
       "\n",
       "    .dataframe tbody tr th {\n",
       "        vertical-align: top;\n",
       "    }\n",
       "\n",
       "    .dataframe thead th {\n",
       "        text-align: right;\n",
       "    }\n",
       "</style>\n",
       "<table border=\"1\" class=\"dataframe\">\n",
       "  <thead>\n",
       "    <tr style=\"text-align: right;\">\n",
       "      <th></th>\n",
       "      <th>eps</th>\n",
       "      <th>min_samples</th>\n",
       "      <th>n_clusters</th>\n",
       "      <th>outliners</th>\n",
       "      <th>silhouette_score</th>\n",
       "      <th>stats</th>\n",
       "    </tr>\n",
       "  </thead>\n",
       "  <tbody>\n",
       "  </tbody>\n",
       "</table>\n",
       "</div>"
      ],
      "text/plain": [
       "Empty DataFrame\n",
       "Columns: [eps, min_samples, n_clusters, outliners, silhouette_score, stats]\n",
       "Index: []"
      ]
     },
     "execution_count": 23,
     "metadata": {},
     "output_type": "execute_result"
    }
   ],
   "source": [
    "cluster3 = df.loc[df.n_clusters == 3, :]\n",
    "cluster3.head(5)\n",
    "#max_s=max(clusters3[\"silhouette_score\"])\n",
    "#print(max_s)\n",
    "#clusters3[clusters3['silhouette_score']==max_s]"
   ]
  },
  {
   "cell_type": "code",
   "execution_count": 24,
   "metadata": {},
   "outputs": [],
   "source": [
    "#t0 = time.time()\n",
    "#dbscan = DBSCAN(eps = 1.3, min_samples = 19).fit(modelingdata_Normal)\n",
    "#score_dbscan = metrics.silhouette_score(modelingdata_Normal, dbscan.labels_)\n",
    "#t_dbscan = time.time() - t0\n",
    "# print(t_dbscan)"
   ]
  },
  {
   "cell_type": "markdown",
   "metadata": {},
   "source": [
    "#### 4.5 Hierarchical clustering"
   ]
  },
  {
   "cell_type": "code",
   "execution_count": 28,
   "metadata": {},
   "outputs": [
    {
     "name": "stdout",
     "output_type": "stream",
     "text": [
      "5.589056015014648\n"
     ]
    }
   ],
   "source": [
    "#The AgglomerativeClustering object performs a hierarchical clustering using a bottom up approach\n",
    "# linkage  default=”ward”\n",
    "# we could try differerent linkages {“ward”, “complete”, “average”, “single”} \n",
    " \n",
    "t0 = time.time()\n",
    "hierarchical = AgglomerativeClustering(n_clusters=3).fit(modelingdata_Normal)\n",
    "score_hier  = metrics.silhouette_score(modelingdata_Normal, hierarchical.labels_)\n",
    "t_hier = time.time() - t0\n",
    "print(t_hier)\n",
    " "
   ]
  },
  {
   "cell_type": "markdown",
   "metadata": {},
   "source": [
    "#### 4.6 Choose the final clustering method and label the records"
   ]
  },
  {
   "cell_type": "code",
   "execution_count": 29,
   "metadata": {},
   "outputs": [
    {
     "name": "stdout",
     "output_type": "stream",
     "text": [
      "+---------------------+--------------------+--------------------+\n",
      "|        Methed       |  Silhouette score  |  Running time(s)   |\n",
      "+---------------------+--------------------+--------------------+\n",
      "|        KMeans       | 0.5978239827225968 | 1.750345230102539  |\n",
      "|   MiniBatchKMeans   | 0.5957584814547853 | 1.6505839824676514 |\n",
      "| hierarchical(ward)  | 0.5160719133161198 | 5.589056015014648  |\n",
      "+---------------------+--------------------+--------------------+\n"
     ]
    }
   ],
   "source": [
    "from prettytable import PrettyTable\n",
    "\n",
    "relusts = [[\"KMeans\", score_kmeans,t_kmean], \n",
    "           [\"MiniBatchKMeans\", score_mini, t_batch_mini], \n",
    "           [\"hierarchical(ward) \", score_hier, t_hier]]\n",
    "\n",
    "table = PrettyTable(['Methed','Silhouette score','Running time(s)'])\n",
    " \n",
    "for rec in relusts:\n",
    "    table.add_row(rec)   \n",
    "print(table)"
   ]
  },
  {
   "cell_type": "code",
   "execution_count": 38,
   "metadata": {},
   "outputs": [],
   "source": [
    "#attach labels to dataset \n",
    "labels = MiniBatchKMeans(n_clusters=3,random_state=100).fit(modelingdata_Normal).labels_\n",
    "newdata['Label'] = labels"
   ]
  },
  {
   "cell_type": "code",
   "execution_count": 39,
   "metadata": {},
   "outputs": [
    {
     "name": "stdout",
     "output_type": "stream",
     "text": [
      "1791\n",
      "6079\n",
      "2130\n"
     ]
    }
   ],
   "source": [
    "print(len(labels[labels==0]))\n",
    "print(len(labels[labels==1]))\n",
    "print(len(labels[labels==2]))"
   ]
  },
  {
   "cell_type": "code",
   "execution_count": 40,
   "metadata": {},
   "outputs": [],
   "source": [
    "#save data  --???? the numbers in each clusters changing \n",
    "newdata.to_csv('labeldData_3group.csv',index=False)"
   ]
  },
  {
   "cell_type": "markdown",
   "metadata": {},
   "source": [
    "### 5 Date spliting "
   ]
  },
  {
   "cell_type": "code",
   "execution_count": 4,
   "metadata": {},
   "outputs": [],
   "source": [
    "from sklearn.model_selection import train_test_split\n",
    "from sklearn.tree import DecisionTreeClassifier\n",
    "from imblearn.over_sampling import SMOTE\n",
    "from sklearn.utils import resample\n",
    "\n",
    "from sklearn import linear_model\n",
    "from sklearn.linear_model import LogisticRegression\n",
    "from sklearn.metrics import confusion_matrix\n",
    "from sklearn.metrics import cohen_kappa_score\n",
    "from sklearn.metrics import accuracy_score\n",
    "from sklearn.metrics import recall_score\n",
    "from sklearn.metrics import precision_score\n",
    "from sklearn.metrics import f1_score"
   ]
  },
  {
   "cell_type": "markdown",
   "metadata": {},
   "source": [
    "#### 5.1 is there any unbalanced problems?"
   ]
  },
  {
   "cell_type": "code",
   "execution_count": 5,
   "metadata": {},
   "outputs": [
    {
     "data": {
      "text/plain": [
       "1    6079\n",
       "2    2130\n",
       "0    1791\n",
       "Name: Label, dtype: int64"
      ]
     },
     "execution_count": 5,
     "metadata": {},
     "output_type": "execute_result"
    }
   ],
   "source": [
    "#load the labeled data\n",
    "classedData = pd.read_csv('labeldData_3group.csv')  #possile risk: Type of gender is int here\n",
    "#classedData[\"Label\"].replace({0:,\"No Gender\":0, 1:,\"Female\", 2:\"Male\"}, inplace=True)\n",
    "stat=classedData['Label'].value_counts() \n",
    "stat"
   ]
  },
  {
   "cell_type": "code",
   "execution_count": 6,
   "metadata": {},
   "outputs": [
    {
     "data": {
      "text/plain": [
       "<BarContainer object of 3 artists>"
      ]
     },
     "execution_count": 6,
     "metadata": {},
     "output_type": "execute_result"
    },
    {
     "data": {
      "image/png": "[encoded data removed]",
      "text/plain": [
       "<Figure size 432x288 with 1 Axes>"
      ]
     },
     "metadata": {
      "needs_background": "light"
     },
     "output_type": "display_data"
    }
   ],
   "source": [
    "plt.bar(range(3), [1791,6079,2130],tick_label=['0','1','2'])"
   ]
  },
  {
   "cell_type": "markdown",
   "metadata": {},
   "source": [
    "#### 5.2 split dataset for training and testing "
   ]
  },
  {
   "cell_type": "code",
   "execution_count": 7,
   "metadata": {},
   "outputs": [],
   "source": [
    "def print_class_balance(data):\n",
    "    N =data['Label'].count()\n",
    "    z = data.groupby(['Label']).agg({'Label': 'size'})\n",
    "    z['Ratio']=z['Label']/ N  \n",
    "    z.rename(columns={'Label':'Count'}, inplace=True)\n",
    "    print(N) \n",
    "    print(z) "
   ]
  },
  {
   "cell_type": "code",
   "execution_count": 8,
   "metadata": {},
   "outputs": [],
   "source": [
    "def print_modelperformence(y_test, y_pred):\n",
    "    F1=f1_score(y_test, y_pred,average='macro')\n",
    "    Ks=cohen_kappa_score(y_test, y_pred)\n",
    "    accuracy=accuracy_score(y_test, y_pred) \n",
    "    recall=recall_score(y_test, y_pred,average='macro')  \n",
    "    precision=precision_score(y_test, y_pred,average='macro') \n",
    "    print('precision:       {}'.format(precision))\n",
    "    print('recall:          {}'.format(recall))\n",
    "    print('accuracy:        {}'.format(accuracy))\n",
    "    print('f1_score:        {}'.format(F1))\n",
    "    print('kappa_score:     {}'.format(Ks))\n",
    "    "
   ]
  },
  {
   "cell_type": "markdown",
   "metadata": {},
   "source": [
    "##### 5.2.1 Random split "
   ]
  },
  {
   "cell_type": "code",
   "execution_count": 9,
   "metadata": {},
   "outputs": [],
   "source": [
    "Y=classedData[\"Label\"]\n",
    "X_i_train,X_i_test, y_train, y_test =train_test_split(classedData,Y,test_size=0.3, random_state=100) \n",
    "X_train=X_i_train.iloc[:, 1:20]  #except ID\n",
    "X_test=X_i_test.iloc[:, 1:20]"
   ]
  },
  {
   "cell_type": "code",
   "execution_count": 10,
   "metadata": {},
   "outputs": [
    {
     "name": "stdout",
     "output_type": "stream",
     "text": [
      "7000\n",
      "       Count     Ratio\n",
      "Label                 \n",
      "0       1254  0.179143\n",
      "1       4262  0.608857\n",
      "2       1484  0.212000\n"
     ]
    }
   ],
   "source": [
    "print_class_balance(X_i_train) "
   ]
  },
  {
   "cell_type": "markdown",
   "metadata": {},
   "source": [
    "#### 5.2.2 over sampling"
   ]
  },
  {
   "cell_type": "code",
   "execution_count": 11,
   "metadata": {},
   "outputs": [
    {
     "name": "stdout",
     "output_type": "stream",
     "text": [
      "12786\n",
      "       Count     Ratio\n",
      "Label                 \n",
      "0       4262  0.333333\n",
      "1       4262  0.333333\n",
      "2       4262  0.333333\n"
     ]
    }
   ],
   "source": [
    "#over sampling using SMOTE\n",
    "os = SMOTE(random_state=0)\n",
    "columns = X_train.columns\n",
    "os_data_X,os_data_y=os.fit_sample(X_train, y_train)\n",
    "os_data_X = pd.DataFrame(data=os_data_X,columns=columns )\n",
    "os_data_y = pd.DataFrame(data=os_data_y,columns=['Label'])\n",
    "print_class_balance(os_data_y)                         "
   ]
  },
  {
   "cell_type": "markdown",
   "metadata": {},
   "source": [
    "#### 5.2.4 downsampling"
   ]
  },
  {
   "cell_type": "code",
   "execution_count": 12,
   "metadata": {},
   "outputs": [
    {
     "name": "stdout",
     "output_type": "stream",
     "text": [
      "4038\n",
      "       Count     Ratio\n",
      "Label                 \n",
      "0       1254  0.310550\n",
      "1       1300  0.321942\n",
      "2       1484  0.367509\n"
     ]
    }
   ],
   "source": [
    "#reference  https://elitedatascience.com/imbalanced-classes \n",
    "\n",
    "# Separate classes\n",
    "df_0 = X_i_train[X_i_train['Label']==0]\n",
    "df_majority = X_i_train[X_i_train['Label']==1]\n",
    "df_2 = X_i_train[X_i_train['Label']==2]\n",
    "\n",
    "# Downsample majority class\n",
    "df_majority_downsampled = resample(df_majority, \n",
    "                                 replace=False,      # sample without replacement\n",
    "                                 n_samples=1300,     # to match minority class\n",
    "                                 random_state=100)   ## reproducible result\n",
    "\n",
    "# Combine minority class with downsampled majority class\n",
    "ds_data = pd.concat([df_majority_downsampled, df_0,df_2])\n",
    " \n",
    "# Display new class counts\n",
    "print_class_balance(ds_data) \n",
    "\n",
    "ds_data_X=ds_data.iloc[:, 1:20]\n",
    "ds_data_y=ds_data[\"Label\"] "
   ]
  },
  {
   "cell_type": "markdown",
   "metadata": {},
   "source": [
    "#### 5.2.5 choose a sampling method"
   ]
  },
  {
   "cell_type": "code",
   "execution_count": 13,
   "metadata": {},
   "outputs": [
    {
     "name": "stdout",
     "output_type": "stream",
     "text": [
      "[0 1 2]\n",
      "precision:       0.9927501405447147\n",
      "recall:          0.9912464036931383\n",
      "accuracy:        0.9943333333333333\n",
      "f1_score:        0.9919659904254018\n",
      "kappa_score:     0.9897720675163872\n"
     ]
    },
    {
     "data": {
      "text/plain": [
       "array([[ 534,    2,    1],\n",
       "       [   0, 1816,    1],\n",
       "       [   8,    5,  633]], dtype=int64)"
      ]
     },
     "execution_count": 13,
     "metadata": {},
     "output_type": "execute_result"
    }
   ],
   "source": [
    "#random \n",
    "temp_tree = DecisionTreeClassifier(random_state=100)\n",
    "temp_tree.fit(X_train,y_train)\n",
    "y_pred = temp_tree.predict(X_test)\n",
    "\n",
    "print( np.unique(y_pred))\n",
    "\n",
    "print_modelperformence(y_test, y_pred)\n",
    "confusion_matrix(y_test, y_pred)"
   ]
  },
  {
   "cell_type": "code",
   "execution_count": 14,
   "metadata": {},
   "outputs": [
    {
     "name": "stdout",
     "output_type": "stream",
     "text": [
      "[0 1 2]\n",
      "precision:       0.9954769959978292\n",
      "recall:          0.9947796588121357\n",
      "accuracy:        0.9963333333333333\n",
      "f1_score:        0.9951183204184119\n",
      "kappa_score:     0.9933862964061535\n"
     ]
    },
    {
     "data": {
      "text/plain": [
       "array([[ 535,    2,    0],\n",
       "       [   1, 1815,    1],\n",
       "       [   4,    3,  639]], dtype=int64)"
      ]
     },
     "execution_count": 14,
     "metadata": {},
     "output_type": "execute_result"
    }
   ],
   "source": [
    "#how about  over sampling\n",
    "temp_tree = DecisionTreeClassifier(random_state=100)\n",
    "temp_tree.fit(os_data_X,os_data_y)\n",
    "y_pred = temp_tree.predict(X_test)\n",
    "\n",
    "print(np.unique(y_pred))\n",
    "\n",
    "print_modelperformence(y_test, y_pred)\n",
    "confusion_matrix(y_test, y_pred)\n",
    " "
   ]
  },
  {
   "cell_type": "code",
   "execution_count": 15,
   "metadata": {},
   "outputs": [
    {
     "name": "stdout",
     "output_type": "stream",
     "text": [
      "[0 1 2]\n",
      "precision:       0.985309730919487\n",
      "recall:          0.9904095078016241\n",
      "accuracy:        0.991\n",
      "f1_score:        0.9878295212992549\n",
      "kappa_score:     0.9838292044567511\n"
     ]
    },
    {
     "data": {
      "text/plain": [
       "array([[ 534,    1,    2],\n",
       "       [   2, 1803,   12],\n",
       "       [  10,    0,  636]], dtype=int64)"
      ]
     },
     "execution_count": 15,
     "metadata": {},
     "output_type": "execute_result"
    }
   ],
   "source": [
    "# check down sampling \n",
    "temp_tree = DecisionTreeClassifier(random_state=100)\n",
    "temp_tree.fit(ds_data_X,ds_data_y)\n",
    "y_pred = temp_tree.predict(X_test)\n",
    "\n",
    "print( np.unique(y_pred))\n",
    "\n",
    "print_modelperformence(y_test, y_pred)\n",
    "confusion_matrix(y_test, y_pred)\n",
    " "
   ]
  },
  {
   "cell_type": "markdown",
   "metadata": {},
   "source": [
    "### 6 Multioutput-multiclass classification"
   ]
  },
  {
   "cell_type": "code",
   "execution_count": 16,
   "metadata": {},
   "outputs": [],
   "source": [
    "from sklearn.model_selection import GridSearchCV\n",
    "from sklearn import preprocessing\n",
    "from sklearn.pipeline import make_pipeline\n",
    "from sklearn.model_selection import cross_val_score\n",
    "from sklearn.ensemble import RandomForestClassifier\n",
    "from sklearn import svm\n",
    "from sklearn.svm import LinearSVC\n",
    "from sklearn import tree\n",
    "from sklearn.tree import DecisionTreeClassifier\n",
    "from sklearn.tree import export_text\n",
    "from sklearn.neighbors import KNeighborsClassifier\n"
   ]
  },
  {
   "cell_type": "code",
   "execution_count": 17,
   "metadata": {},
   "outputs": [],
   "source": [
    "#os_data_X,os_data_y\n",
    "transformer = Normalizer().fit(os_data_X)\n",
    "Normalizer()\n",
    "X_Normal_train=transformer.transform(os_data_X)\n",
    "scaler = StandardScaler()\n",
    "X_scaled_train= scaler.fit_transform(X_Normal_train)\n",
    "y_train=os_data_y\n",
    "\n",
    " \n",
    "X_Normal_test=transformer.transform(X_test)\n",
    "X_scaled_test= scaler.fit_transform(X_Normal_test)"
   ]
  },
  {
   "cell_type": "markdown",
   "metadata": {},
   "source": [
    "#### 6.1 Logistic regression"
   ]
  },
  {
   "cell_type": "code",
   "execution_count": 18,
   "metadata": {},
   "outputs": [
    {
     "name": "stdout",
     "output_type": "stream",
     "text": [
      "Best parameters set according to the given traing data:\n",
      "{'C': 0.01, 'penalty': 'none'}\n"
     ]
    }
   ],
   "source": [
    "import warnings\n",
    "warnings.filterwarnings('ignore')\n",
    "\n",
    "tuned_parameters = [{'penalty':['l1','l2', 'elasticnet','none'],'C': [0.01,0.1,1]}]\n",
    "clf = GridSearchCV(LogisticRegression(random_state=100,multi_class='multinomial'), tuned_parameters, scoring='f1_macro')\n",
    "# https://scikit-learn.org/stable/modules/model_evaluation.html#scoring-parameter\n",
    " \n",
    "clf.fit(X_scaled_train, y_train)\n",
    "print(\"Best parameters set according to the given traing data:\")\n",
    "print(clf.best_params_)   "
   ]
  },
  {
   "cell_type": "code",
   "execution_count": 19,
   "metadata": {},
   "outputs": [
    {
     "name": "stdout",
     "output_type": "stream",
     "text": [
      "mean:    0.9908192778441721\n",
      "std:     0.009276175598217085\n",
      "0.49065351486206055\n"
     ]
    }
   ],
   "source": [
    "t0 = time.time()\n",
    "lr = LogisticRegression(multi_class='multinomial',C=0.01, penalty='none',random_state=100)\n",
    "scores_lr=cross_val_score(lr, X_scaled_test, y_test, cv=10,scoring='f1_macro')   \n",
    "# return an array of scores of the estimator for each run of the cross validation.\n",
    "print('mean:    {}'.format(scores_lr.mean()))\n",
    "print('std:     {}'.format(scores_lr.std()))\n",
    "t_lr = time.time() - t0\n",
    "print(t_lr)"
   ]
  },
  {
   "cell_type": "markdown",
   "metadata": {},
   "source": [
    "#### 6.2 Decision tree"
   ]
  },
  {
   "cell_type": "code",
   "execution_count": 20,
   "metadata": {},
   "outputs": [
    {
     "name": "stdout",
     "output_type": "stream",
     "text": [
      "Best parameters set according to the given traing data:\n",
      "{'max_depth': 8, 'min_samples_split': 5}\n"
     ]
    }
   ],
   "source": [
    "tuned_parameters = [{'max_depth':[2,4,8,10,12],'min_samples_split': [3,4,5,6]}]\n",
    "clf = GridSearchCV(DecisionTreeClassifier(random_state=100), tuned_parameters, scoring='f1_macro')\n",
    "clf.fit(X_scaled_train, y_train)\n",
    "print(\"Best parameters set according to the given traing data:\")\n",
    "print(clf.best_params_) "
   ]
  },
  {
   "cell_type": "code",
   "execution_count": 21,
   "metadata": {},
   "outputs": [
    {
     "name": "stdout",
     "output_type": "stream",
     "text": [
      "mean:    0.992191878064947\n",
      "std:     0.0045983548063087\n",
      "0.13068270683288574\n"
     ]
    }
   ],
   "source": [
    "t0 = time.time()\n",
    "#dt = make_pipeline(preprocessing.StandardScaler(), DecisionTreeClassifier(random_state=100,max_depth=10,min_samples_split=5)) \n",
    "dt=DecisionTreeClassifier(random_state=100,max_depth=8,min_samples_split=5)\n",
    "scores_dt=cross_val_score(dt, X_scaled_test, y_test, cv=10,scoring='f1_macro') \n",
    "print('mean:    {}'.format(scores_dt.mean()))\n",
    "print('std:     {}'.format(scores_dt.std()))\n",
    "t_dt = time.time() - t0\n",
    "print(t_dt)"
   ]
  },
  {
   "cell_type": "markdown",
   "metadata": {},
   "source": [
    "#### 6.3 RandomForest "
   ]
  },
  {
   "cell_type": "code",
   "execution_count": 100,
   "metadata": {},
   "outputs": [
    {
     "name": "stdout",
     "output_type": "stream",
     "text": [
      "Best parameters set according to the given traing data::\n",
      "{'max_depth': 8, 'min_samples_split': 3, 'n_estimators': 100}\n"
     ]
    }
   ],
   "source": [
    "# criterion{“gini”, “entropy”}\n",
    "# n_estimators int, default=100  The number of trees in the forest.        \n",
    "        \n",
    "#max_depth int, default=None\n",
    "#The maximum depth of the tree. If None, \n",
    "#then nodes are expanded until all leaves are pure or until all leaves contain less than min_samples_split samples        \n",
    " \n",
    "# min_samples_split int or float, default=2\n",
    "#The minimum number of samples required to split an internal node:    \n",
    "  \n",
    "tuned_parameters = [{'max_depth':[2,4,8,None],'min_samples_split': [3,4,5],'n_estimators': [10,50,100,200]}]\n",
    "clf = GridSearchCV(RandomForestClassifier(random_state=100), tuned_parameters, scoring='f1_macro') \n",
    "clf.fit(X_scaled_train, y_train)\n",
    "print(\"Best parameters set according to the given traing data::\")\n",
    "print(clf.best_params_)   \n"
   ]
  },
  {
   "cell_type": "code",
   "execution_count": 22,
   "metadata": {},
   "outputs": [
    {
     "name": "stdout",
     "output_type": "stream",
     "text": [
      "mean:    0.9942184305075944\n",
      "std:     0.003414411864627958\n",
      "6.87960147857666\n"
     ]
    }
   ],
   "source": [
    "#maybe not reach the best parameters\n",
    "t0 = time.time()\n",
    "rf = RandomForestClassifier(max_depth=8,min_samples_split=3, n_estimators=200)  \n",
    "scores_rf=cross_val_score(rf,  X_scaled_test, y_test, cv=10,scoring='f1_macro') \n",
    "print('mean:    {}'.format(scores_rf.mean()))\n",
    "print('std:     {}'.format(scores_rf.std()))\n",
    "t_rf = time.time() - t0\n",
    "print(t_rf)"
   ]
  },
  {
   "cell_type": "code",
   "execution_count": 102,
   "metadata": {},
   "outputs": [
    {
     "data": {
      "text/plain": [
       "array([0.00069854, 0.0014072 , 0.04686131, 0.03186427, 0.07229161,\n",
       "       0.00045376, 0.00784115, 0.23451686, 0.10488301, 0.        ,\n",
       "       0.02486111, 0.00850763, 0.00720865, 0.00657858, 0.18886717,\n",
       "       0.04126963, 0.14122904, 0.0712647 , 0.00939579])"
      ]
     },
     "execution_count": 102,
     "metadata": {},
     "output_type": "execute_result"
    }
   ],
   "source": [
    "forest = RandomForestClassifier(max_depth=8,min_samples_split=3, n_estimators=200)\n",
    "forest = forest.fit(X_scaled_train, y_train)\n",
    "forest.feature_importances_"
   ]
  },
  {
   "cell_type": "markdown",
   "metadata": {},
   "source": [
    "#### 6.4 KNeighborsClassifier"
   ]
  },
  {
   "cell_type": "code",
   "execution_count": 106,
   "metadata": {},
   "outputs": [
    {
     "name": "stdout",
     "output_type": "stream",
     "text": [
      "Best parameters set according to the given traing data::\n",
      "{'n_neighbors': 5}\n"
     ]
    }
   ],
   "source": [
    "#This estimator implements regularized linear models with stochastic gradient descent (SGD) learning\n",
    "tuned_parameters = [{'n_neighbors':[3,5,10,15]}]  \n",
    "clf = GridSearchCV(KNeighborsClassifier(), tuned_parameters, scoring='f1_macro') \n",
    "clf.fit(X_scaled_train, y_train)\n",
    "print(\"Best parameters set according to the given traing data::\")\n",
    "print(clf.best_params_) "
   ]
  },
  {
   "cell_type": "code",
   "execution_count": 23,
   "metadata": {},
   "outputs": [
    {
     "name": "stdout",
     "output_type": "stream",
     "text": [
      "mean:    0.9412861825983982\n",
      "std:     0.013124087942141587\n",
      "0.30817532539367676\n"
     ]
    }
   ],
   "source": [
    "t0 = time.time()\n",
    "knn = KNeighborsClassifier(n_neighbors=5) \n",
    "scores_knn=cross_val_score(knn,  X_scaled_test, y_test, cv=10,scoring='f1_macro') \n",
    "print('mean:    {}'.format(scores_knn.mean()))\n",
    "print('std:     {}'.format(scores_knn.std()))\n",
    "t_knn= time.time() - t0\n",
    "print(t_knn)"
   ]
  },
  {
   "cell_type": "markdown",
   "metadata": {},
   "source": [
    "#### 6.5 LinearSVC "
   ]
  },
  {
   "cell_type": "markdown",
   "metadata": {},
   "source": [
    "multi_class:optimizes a joint objective over all classes\n",
    "crammer_singer is interesting from a theoretical perspective as it is consistent, \n",
    "it is seldom used in practice as it rarely leads to better accuracy and is more expensive to compute"
   ]
  },
  {
   "cell_type": "markdown",
   "metadata": {},
   "source": [
    "#### 6.6 Model persistence"
   ]
  },
  {
   "cell_type": "code",
   "execution_count": 26,
   "metadata": {},
   "outputs": [
    {
     "name": "stdout",
     "output_type": "stream",
     "text": [
      "+-----------------------+--------------------+---------------------+\n",
      "|         Methed        |      F1_macro      |   Running time(s)   |\n",
      "+-----------------------+--------------------+---------------------+\n",
      "|  Logistic regression  | 0.9908192778441721 | 0.49065351486206055 |\n",
      "|     Decision tree     | 0.992191878064947  | 0.13068270683288574 |\n",
      "|      RandomForest     | 0.9942184305075944 |   6.87960147857666  |\n",
      "| KNeighborsClassifier  | 0.9412861825983982 | 0.30817532539367676 |\n",
      "+-----------------------+--------------------+---------------------+\n"
     ]
    }
   ],
   "source": [
    "from prettytable import PrettyTable\n",
    "\n",
    "relusts_CF = [ [\"Logistic regression\", scores_lr.mean(),t_lr], \n",
    "               [\"Decision tree\", scores_dt.mean(),t_dt], \n",
    "               [\"RandomForest\", scores_rf.mean(), t_rf], \n",
    "               [\"KNeighborsClassifier \", scores_knn.mean(),t_knn] \n",
    "                \n",
    "             ]\n",
    "\n",
    "table_CF = PrettyTable(['Methed','F1_macro','Running time(s)'])\n",
    " \n",
    "\n",
    "for rec in relusts_CF:\n",
    "    table_CF.add_row(rec)   \n",
    "print(table_CF)"
   ]
  },
  {
   "cell_type": "markdown",
   "metadata": {},
   "source": [
    "Accoring to the results above, the F1 scores are similar,\n",
    " and we will choose decision tree  for classification as they are timesaving  and  easy to interpret."
   ]
  },
  {
   "cell_type": "code",
   "execution_count": 25,
   "metadata": {},
   "outputs": [
    {
     "data": {
      "text/plain": [
       "['lgModel_3.joblib']"
      ]
     },
     "execution_count": 25,
     "metadata": {},
     "output_type": "execute_result"
    }
   ],
   "source": [
    "from joblib import dump, load\n",
    "treeModel = DecisionTreeClassifier(random_state=100,max_depth=8,min_samples_split=5)\n",
    "treeModel.fit(X_scaled_train,y_train)\n",
    "dump(treeModel, 'treeModel_3.joblib') \n",
    "\n",
    "\n",
    "lgModel = LogisticRegression(multi_class='multinomial',C=0.01, penalty='none',random_state=100)  \n",
    "lgModel.fit(X_scaled_train,y_train)\n",
    "dump(lgModel, 'lgModel_3.joblib') "
   ]
  },
  {
   "cell_type": "markdown",
   "metadata": {},
   "source": [
    "### 7 Model  predication  "
   ]
  },
  {
   "cell_type": "code",
   "execution_count": 27,
   "metadata": {
    "scrolled": true
   },
   "outputs": [
    {
     "name": "stdout",
     "output_type": "stream",
     "text": [
      "[0 1 2]\n"
     ]
    }
   ],
   "source": [
    "#just using the test part  \n",
    "\n",
    "transformer = Normalizer().fit(X_test)\n",
    "Normalizer()\n",
    "X_Normal_test=transformer.transform(X_test)\n",
    "scaler = StandardScaler()\n",
    "X_scaled_test= scaler.fit_transform(X_Normal_test)\n",
    " \n",
    "treeModel = load('treeModel_3.joblib') \n",
    "y_pred = treeModel.predict(X_scaled_test)\n",
    "print( np.unique(y_pred))\n",
    "\n",
    "#in real life, no labels\n",
    "#print_modelperformence(y_test, y_pred)\n",
    "#confusion_matrix(y_test, y_pred)\n",
    " "
   ]
  },
  {
   "cell_type": "code",
   "execution_count": 117,
   "metadata": {},
   "outputs": [
    {
     "name": "stdout",
     "output_type": "stream",
     "text": [
      "[0 1 2]\n",
      "precision:       0.8831173190969078\n",
      "recall:          0.9449392891865042\n",
      "accuracy:        0.908\n",
      "f1_score:        0.9058920695790297\n",
      "kappa_score:     0.843932744060067\n"
     ]
    },
    {
     "data": {
      "text/plain": [
       "array([[ 536,    1,    0],\n",
       "       [  42, 1554,  221],\n",
       "       [  12,    0,  634]], dtype=int64)"
      ]
     },
     "execution_count": 117,
     "metadata": {},
     "output_type": "execute_result"
    }
   ],
   "source": [
    "lgModel = load('lgModel_3.joblib') \n",
    "y_pred = lgModel.predict(X_scaled_test)\n",
    "print( np.unique(y_pred))\n",
    "print_modelperformence(y_test, y_pred)\n",
    "confusion_matrix(y_test, y_pred)"
   ]
  },
  {
   "cell_type": "markdown",
   "metadata": {},
   "source": [
    "### 8 Results and findings  "
   ]
  },
  {
   "attachments": {},
   "cell_type": "markdown",
   "metadata": {},
   "source": [
    "#### 8.1 important feature for consumer classification. \n",
    "* account_age \n",
    "* total_offer_impressions\n",
    "* account_last_updated\n",
    "* min_redemptions"
   ]
  },
  {
   "cell_type": "code",
   "execution_count": 113,
   "metadata": {},
   "outputs": [
    {
     "data": {
      "text/plain": [
       "array([0.00000000e+00, 0.00000000e+00, 0.00000000e+00, 2.24855310e-04,\n",
       "       5.11923553e-04, 0.00000000e+00, 0.00000000e+00, 4.90027532e-01,\n",
       "       7.10862269e-03, 0.00000000e+00, 2.34575910e-04, 1.46704938e-03,\n",
       "       2.34131795e-04, 0.00000000e+00, 4.92834303e-01, 0.00000000e+00,\n",
       "       7.12298555e-03, 0.00000000e+00, 2.34020937e-04])"
      ]
     },
     "execution_count": 113,
     "metadata": {},
     "output_type": "execute_result"
    }
   ],
   "source": [
    "treeModel.feature_importances_"
   ]
  },
  {
   "cell_type": "code",
   "execution_count": 114,
   "metadata": {},
   "outputs": [
    {
     "data": {
      "image/png": "[encoded data removed]",
      "text/plain": [
       "<Figure size 1800x720 with 1 Axes>"
      ]
     },
     "metadata": {
      "needs_background": "light"
     },
     "output_type": "display_data"
    }
   ],
   "source": [
    "plt.figure(figsize=(25,10))\n",
    "a = tree.plot_tree(treeModel, \n",
    "              feature_names=list(X_train.columns),\n",
    "              filled=True, \n",
    "              rounded=True, \n",
    "              fontsize=14)"
   ]
  },
  {
   "cell_type": "code",
   "execution_count": 139,
   "metadata": {},
   "outputs": [
    {
     "data": {
      "text/html": [
       "<div>\n",
       "<style scoped>\n",
       "    .dataframe tbody tr th:only-of-type {\n",
       "        vertical-align: middle;\n",
       "    }\n",
       "\n",
       "    .dataframe tbody tr th {\n",
       "        vertical-align: top;\n",
       "    }\n",
       "\n",
       "    .dataframe thead th {\n",
       "        text-align: right;\n",
       "    }\n",
       "</style>\n",
       "<table border=\"1\" class=\"dataframe\">\n",
       "  <thead>\n",
       "    <tr style=\"text-align: right;\">\n",
       "      <th></th>\n",
       "      <th>gender</th>\n",
       "      <th>has_gender</th>\n",
       "      <th>has_first_name</th>\n",
       "      <th>has_last_name</th>\n",
       "      <th>has_email</th>\n",
       "      <th>has_dob</th>\n",
       "      <th>customer_age</th>\n",
       "      <th>account_age</th>\n",
       "      <th>account_last_updated</th>\n",
       "      <th>account_status</th>\n",
       "      <th>app_downloads</th>\n",
       "      <th>unique_offer_clicked</th>\n",
       "      <th>total_offer_clicks</th>\n",
       "      <th>unique_offer_impressions</th>\n",
       "      <th>total_offer_impressions</th>\n",
       "      <th>avg_redemptions</th>\n",
       "      <th>min_redemptions</th>\n",
       "      <th>max_redemptions</th>\n",
       "      <th>total_offers_redeemed</th>\n",
       "    </tr>\n",
       "  </thead>\n",
       "  <tbody>\n",
       "    <tr>\n",
       "      <th>1191</th>\n",
       "      <td>0</td>\n",
       "      <td>0</td>\n",
       "      <td>1</td>\n",
       "      <td>1</td>\n",
       "      <td>1</td>\n",
       "      <td>0</td>\n",
       "      <td>23.339507</td>\n",
       "      <td>193</td>\n",
       "      <td>174</td>\n",
       "      <td>0</td>\n",
       "      <td>1</td>\n",
       "      <td>2</td>\n",
       "      <td>2</td>\n",
       "      <td>11</td>\n",
       "      <td>63</td>\n",
       "      <td>1.0</td>\n",
       "      <td>1</td>\n",
       "      <td>1</td>\n",
       "      <td>2</td>\n",
       "    </tr>\n",
       "    <tr>\n",
       "      <th>4458</th>\n",
       "      <td>0</td>\n",
       "      <td>0</td>\n",
       "      <td>1</td>\n",
       "      <td>1</td>\n",
       "      <td>1</td>\n",
       "      <td>0</td>\n",
       "      <td>22.064391</td>\n",
       "      <td>181</td>\n",
       "      <td>177</td>\n",
       "      <td>0</td>\n",
       "      <td>1</td>\n",
       "      <td>2</td>\n",
       "      <td>9</td>\n",
       "      <td>4</td>\n",
       "      <td>49</td>\n",
       "      <td>1.0</td>\n",
       "      <td>1</td>\n",
       "      <td>1</td>\n",
       "      <td>1</td>\n",
       "    </tr>\n",
       "    <tr>\n",
       "      <th>1131</th>\n",
       "      <td>1</td>\n",
       "      <td>1</td>\n",
       "      <td>1</td>\n",
       "      <td>1</td>\n",
       "      <td>1</td>\n",
       "      <td>1</td>\n",
       "      <td>21.000000</td>\n",
       "      <td>176</td>\n",
       "      <td>174</td>\n",
       "      <td>0</td>\n",
       "      <td>1</td>\n",
       "      <td>1</td>\n",
       "      <td>2</td>\n",
       "      <td>6</td>\n",
       "      <td>39</td>\n",
       "      <td>1.0</td>\n",
       "      <td>1</td>\n",
       "      <td>1</td>\n",
       "      <td>1</td>\n",
       "    </tr>\n",
       "    <tr>\n",
       "      <th>9562</th>\n",
       "      <td>2</td>\n",
       "      <td>1</td>\n",
       "      <td>1</td>\n",
       "      <td>1</td>\n",
       "      <td>1</td>\n",
       "      <td>1</td>\n",
       "      <td>25.000000</td>\n",
       "      <td>188</td>\n",
       "      <td>174</td>\n",
       "      <td>0</td>\n",
       "      <td>1</td>\n",
       "      <td>5</td>\n",
       "      <td>9</td>\n",
       "      <td>9</td>\n",
       "      <td>74</td>\n",
       "      <td>1.0</td>\n",
       "      <td>1</td>\n",
       "      <td>1</td>\n",
       "      <td>2</td>\n",
       "    </tr>\n",
       "    <tr>\n",
       "      <th>6579</th>\n",
       "      <td>0</td>\n",
       "      <td>0</td>\n",
       "      <td>1</td>\n",
       "      <td>1</td>\n",
       "      <td>1</td>\n",
       "      <td>0</td>\n",
       "      <td>20.014236</td>\n",
       "      <td>521</td>\n",
       "      <td>173</td>\n",
       "      <td>0</td>\n",
       "      <td>1</td>\n",
       "      <td>4</td>\n",
       "      <td>7</td>\n",
       "      <td>13</td>\n",
       "      <td>150</td>\n",
       "      <td>1.0</td>\n",
       "      <td>1</td>\n",
       "      <td>1</td>\n",
       "      <td>3</td>\n",
       "    </tr>\n",
       "  </tbody>\n",
       "</table>\n",
       "</div>"
      ],
      "text/plain": [
       "      gender  has_gender  has_first_name  has_last_name  has_email  has_dob  \\\n",
       "1191       0           0               1              1          1        0   \n",
       "4458       0           0               1              1          1        0   \n",
       "1131       1           1               1              1          1        1   \n",
       "9562       2           1               1              1          1        1   \n",
       "6579       0           0               1              1          1        0   \n",
       "\n",
       "      customer_age  account_age  account_last_updated  account_status  \\\n",
       "1191     23.339507          193                   174               0   \n",
       "4458     22.064391          181                   177               0   \n",
       "1131     21.000000          176                   174               0   \n",
       "9562     25.000000          188                   174               0   \n",
       "6579     20.014236          521                   173               0   \n",
       "\n",
       "      app_downloads  unique_offer_clicked  total_offer_clicks  \\\n",
       "1191              1                     2                   2   \n",
       "4458              1                     2                   9   \n",
       "1131              1                     1                   2   \n",
       "9562              1                     5                   9   \n",
       "6579              1                     4                   7   \n",
       "\n",
       "      unique_offer_impressions  total_offer_impressions  avg_redemptions  \\\n",
       "1191                        11                       63              1.0   \n",
       "4458                         4                       49              1.0   \n",
       "1131                         6                       39              1.0   \n",
       "9562                         9                       74              1.0   \n",
       "6579                        13                      150              1.0   \n",
       "\n",
       "      min_redemptions  max_redemptions  total_offers_redeemed  \n",
       "1191                1                1                      2  \n",
       "4458                1                1                      1  \n",
       "1131                1                1                      1  \n",
       "9562                1                1                      2  \n",
       "6579                1                1                      3  "
      ]
     },
     "execution_count": 139,
     "metadata": {},
     "output_type": "execute_result"
    }
   ],
   "source": [
    "X_train.head()"
   ]
  },
  {
   "cell_type": "code",
   "execution_count": 149,
   "metadata": {},
   "outputs": [
    {
     "name": "stdout",
     "output_type": "stream",
     "text": [
      "+--------+------------------------+------------------------------------+\n",
      "| Group  | Average of account_age | Average of total_offer_impressions |\n",
      "+--------+------------------------+------------------------------------+\n",
      "| Group0 |        498.279         |               87.829               |\n",
      "| Group1 |        186.318         |               33.591               |\n",
      "| Group2 |        203.343         |              151.549               |\n",
      "+--------+------------------------+------------------------------------+\n"
     ]
    }
   ],
   "source": [
    "dist = [[\"Group0\",  498.279 ,87.829], \n",
    "        [\"Group1\", 186.318, 33.591], \n",
    "        [\"Group2\", 203.343, 151.549],\n",
    "        #[\"Grand Total\", 245.817, 68.430],\n",
    "       ]\n",
    "table = PrettyTable(['Group','Average of account_age','Average of total_offer_impressions']) \n",
    "table.title = 'means of cardinal features by groups  ' \n",
    "for rec in dist:\n",
    "    table.add_row(rec)   \n",
    "print(table)"
   ]
  },
  {
   "cell_type": "markdown",
   "metadata": {},
   "source": [
    " #lgModel.coef_\n",
    "Logistic Regression in Scikit tells us the coefficients only  without the significance "
   ]
  },
  {
   "cell_type": "markdown",
   "metadata": {},
   "source": [
    "#### 8.2 others"
   ]
  },
  {
   "cell_type": "markdown",
   "metadata": {},
   "source": [
    "Consumers with unknown gender are more likely in Group1(bad)"
   ]
  },
  {
   "cell_type": "code",
   "execution_count": 141,
   "metadata": {},
   "outputs": [
    {
     "data": {
      "text/html": [
       "<div>\n",
       "<style scoped>\n",
       "    .dataframe tbody tr th:only-of-type {\n",
       "        vertical-align: middle;\n",
       "    }\n",
       "\n",
       "    .dataframe tbody tr th {\n",
       "        vertical-align: top;\n",
       "    }\n",
       "\n",
       "    .dataframe thead th {\n",
       "        text-align: right;\n",
       "    }\n",
       "</style>\n",
       "<table border=\"1\" class=\"dataframe\">\n",
       "  <thead>\n",
       "    <tr style=\"text-align: right;\">\n",
       "      <th></th>\n",
       "      <th>consumer_id</th>\n",
       "      <th>gender</th>\n",
       "      <th>has_gender</th>\n",
       "      <th>has_first_name</th>\n",
       "      <th>has_last_name</th>\n",
       "      <th>has_email</th>\n",
       "      <th>has_dob</th>\n",
       "      <th>customer_age</th>\n",
       "      <th>account_age</th>\n",
       "      <th>account_last_updated</th>\n",
       "      <th>...</th>\n",
       "      <th>app_downloads</th>\n",
       "      <th>unique_offer_clicked</th>\n",
       "      <th>total_offer_clicks</th>\n",
       "      <th>unique_offer_impressions</th>\n",
       "      <th>total_offer_impressions</th>\n",
       "      <th>avg_redemptions</th>\n",
       "      <th>min_redemptions</th>\n",
       "      <th>max_redemptions</th>\n",
       "      <th>total_offers_redeemed</th>\n",
       "      <th>Label</th>\n",
       "    </tr>\n",
       "  </thead>\n",
       "  <tbody>\n",
       "    <tr>\n",
       "      <th>0</th>\n",
       "      <td>1284b75c-ecae-4015-8e3d-359c0347ede8</td>\n",
       "      <td>0</td>\n",
       "      <td>0</td>\n",
       "      <td>1</td>\n",
       "      <td>1</td>\n",
       "      <td>1</td>\n",
       "      <td>0</td>\n",
       "      <td>22.566077</td>\n",
       "      <td>188</td>\n",
       "      <td>174</td>\n",
       "      <td>...</td>\n",
       "      <td>1</td>\n",
       "      <td>3</td>\n",
       "      <td>3</td>\n",
       "      <td>8</td>\n",
       "      <td>52</td>\n",
       "      <td>1.0</td>\n",
       "      <td>1</td>\n",
       "      <td>1</td>\n",
       "      <td>1</td>\n",
       "      <td>1</td>\n",
       "    </tr>\n",
       "    <tr>\n",
       "      <th>1</th>\n",
       "      <td>128af162-d2c3-4fe4-986c-359c8bdc6c04</td>\n",
       "      <td>0</td>\n",
       "      <td>0</td>\n",
       "      <td>1</td>\n",
       "      <td>1</td>\n",
       "      <td>1</td>\n",
       "      <td>0</td>\n",
       "      <td>29.676713</td>\n",
       "      <td>185</td>\n",
       "      <td>174</td>\n",
       "      <td>...</td>\n",
       "      <td>1</td>\n",
       "      <td>3</td>\n",
       "      <td>8</td>\n",
       "      <td>5</td>\n",
       "      <td>58</td>\n",
       "      <td>1.0</td>\n",
       "      <td>1</td>\n",
       "      <td>1</td>\n",
       "      <td>1</td>\n",
       "      <td>1</td>\n",
       "    </tr>\n",
       "    <tr>\n",
       "      <th>2</th>\n",
       "      <td>12aada5e-36eb-4e9e-8d62-359c076c1b40</td>\n",
       "      <td>0</td>\n",
       "      <td>0</td>\n",
       "      <td>1</td>\n",
       "      <td>1</td>\n",
       "      <td>1</td>\n",
       "      <td>0</td>\n",
       "      <td>21.469975</td>\n",
       "      <td>188</td>\n",
       "      <td>174</td>\n",
       "      <td>...</td>\n",
       "      <td>1</td>\n",
       "      <td>3</td>\n",
       "      <td>4</td>\n",
       "      <td>9</td>\n",
       "      <td>183</td>\n",
       "      <td>1.0</td>\n",
       "      <td>1</td>\n",
       "      <td>1</td>\n",
       "      <td>3</td>\n",
       "      <td>2</td>\n",
       "    </tr>\n",
       "    <tr>\n",
       "      <th>3</th>\n",
       "      <td>12c2e02f-bc79-4048-83ba-359cd3280dcf</td>\n",
       "      <td>0</td>\n",
       "      <td>0</td>\n",
       "      <td>1</td>\n",
       "      <td>1</td>\n",
       "      <td>1</td>\n",
       "      <td>0</td>\n",
       "      <td>33.297549</td>\n",
       "      <td>184</td>\n",
       "      <td>174</td>\n",
       "      <td>...</td>\n",
       "      <td>1</td>\n",
       "      <td>3</td>\n",
       "      <td>7</td>\n",
       "      <td>4</td>\n",
       "      <td>56</td>\n",
       "      <td>1.0</td>\n",
       "      <td>1</td>\n",
       "      <td>1</td>\n",
       "      <td>1</td>\n",
       "      <td>1</td>\n",
       "    </tr>\n",
       "    <tr>\n",
       "      <th>4</th>\n",
       "      <td>12fabdf0-0582-489e-a6d3-35509ab8ae6f</td>\n",
       "      <td>1</td>\n",
       "      <td>1</td>\n",
       "      <td>1</td>\n",
       "      <td>1</td>\n",
       "      <td>1</td>\n",
       "      <td>1</td>\n",
       "      <td>22.000000</td>\n",
       "      <td>572</td>\n",
       "      <td>173</td>\n",
       "      <td>...</td>\n",
       "      <td>1</td>\n",
       "      <td>4</td>\n",
       "      <td>6</td>\n",
       "      <td>7</td>\n",
       "      <td>83</td>\n",
       "      <td>1.0</td>\n",
       "      <td>1</td>\n",
       "      <td>1</td>\n",
       "      <td>3</td>\n",
       "      <td>0</td>\n",
       "    </tr>\n",
       "  </tbody>\n",
       "</table>\n",
       "<p>5 rows × 21 columns</p>\n",
       "</div>"
      ],
      "text/plain": [
       "                            consumer_id  gender  has_gender  has_first_name  \\\n",
       "0  1284b75c-ecae-4015-8e3d-359c0347ede8       0           0               1   \n",
       "1  128af162-d2c3-4fe4-986c-359c8bdc6c04       0           0               1   \n",
       "2  12aada5e-36eb-4e9e-8d62-359c076c1b40       0           0               1   \n",
       "3  12c2e02f-bc79-4048-83ba-359cd3280dcf       0           0               1   \n",
       "4  12fabdf0-0582-489e-a6d3-35509ab8ae6f       1           1               1   \n",
       "\n",
       "   has_last_name  has_email  has_dob  customer_age  account_age  \\\n",
       "0              1          1        0     22.566077          188   \n",
       "1              1          1        0     29.676713          185   \n",
       "2              1          1        0     21.469975          188   \n",
       "3              1          1        0     33.297549          184   \n",
       "4              1          1        1     22.000000          572   \n",
       "\n",
       "   account_last_updated  ...  app_downloads  unique_offer_clicked  \\\n",
       "0                   174  ...              1                     3   \n",
       "1                   174  ...              1                     3   \n",
       "2                   174  ...              1                     3   \n",
       "3                   174  ...              1                     3   \n",
       "4                   173  ...              1                     4   \n",
       "\n",
       "   total_offer_clicks  unique_offer_impressions  total_offer_impressions  \\\n",
       "0                   3                         8                       52   \n",
       "1                   8                         5                       58   \n",
       "2                   4                         9                      183   \n",
       "3                   7                         4                       56   \n",
       "4                   6                         7                       83   \n",
       "\n",
       "   avg_redemptions  min_redemptions  max_redemptions  total_offers_redeemed  \\\n",
       "0              1.0                1                1                      1   \n",
       "1              1.0                1                1                      1   \n",
       "2              1.0                1                1                      3   \n",
       "3              1.0                1                1                      1   \n",
       "4              1.0                1                1                      3   \n",
       "\n",
       "   Label  \n",
       "0      1  \n",
       "1      1  \n",
       "2      2  \n",
       "3      1  \n",
       "4      0  \n",
       "\n",
       "[5 rows x 21 columns]"
      ]
     },
     "execution_count": 141,
     "metadata": {},
     "output_type": "execute_result"
    }
   ],
   "source": [
    "# X8 =account_age \n",
    "# For the whole dataset,\n",
    "ImputedData= pd.read_csv('imputedData.csv')\n",
    "LabledData = pd.read_csv('labeldData_3group.csv')\n",
    "LabledData.head() "
   ]
  },
  {
   "cell_type": "code",
   "execution_count": 142,
   "metadata": {},
   "outputs": [
    {
     "data": {
      "image/png": "[encoded data removed]",
      "text/plain": [
       "<Figure size 432x288 with 1 Axes>"
      ]
     },
     "metadata": {
      "needs_background": "light"
     },
     "output_type": "display_data"
    },
    {
     "data": {
      "text/plain": [
       "<Figure size 432x288 with 0 Axes>"
      ]
     },
     "metadata": {},
     "output_type": "display_data"
    }
   ],
   "source": [
    "#data from pivot table using excel\n",
    "stas=[[545,3055,922],[656,1330,628],[590,1694,580]]\n",
    "ind=['Unknown','Female','Male']\n",
    "gr=pd.DataFrame(stas,index=ind,columns=['Group0','Group1','Group3']) \n",
    "gr.plot(kind='bar',ylim=[0,5000],rot=0)\n",
    "plt.title('Consumer number in groups by gender')    \n",
    "plt.xlabel('Gender')       \n",
    "plt.ylabel('Consumer count') \n",
    "plt.show()\n",
    "plt.savefig('groups(3)_gender_bar.png')"
   ]
  },
  {
   "attachments": {},
   "cell_type": "markdown",
   "metadata": {},
   "source": [
    "### 9 Next step\n",
    "Possible further tasks include but not limit to:\n",
    "* try more clustering and classification algorithms;\n",
    "* recheck the whole processing with domain knowledge;\n",
    "* consider feature selection if necessary because 3 groups of features means there would be strong correlations; \n",
    "* monitor the model's performence(eg.ControlCharts) and update it continuously."
   ]
  },
  {
   "cell_type": "code",
   "execution_count": null,
   "metadata": {},
   "outputs": [],
   "source": []
  }
 ],
 "metadata": {
  "kernelspec": {
   "display_name": "Python 3",
   "language": "python",
   "name": "python3"
  },
  "language_info": {
   "codemirror_mode": {
    "name": "ipython",
    "version": 3
   },
   "file_extension": ".py",
   "mimetype": "text/x-python",
   "name": "python",
   "nbconvert_exporter": "python",
   "pygments_lexer": "ipython3",
   "version": "3.8.4"
  }
 },
 "nbformat": 4,
 "nbformat_minor": 4
}
