{
 "cells": [
  {
   "cell_type": "markdown",
   "metadata": {},
   "source": [
    "###  Data Scientist Interview_MBM: Part –1"
   ]
  },
  {
   "cell_type": "markdown",
   "metadata": {},
   "source": [
    "XiaocuiZhang 30/07/2020"
   ]
  },
  {
   "cell_type": "markdown",
   "metadata": {},
   "source": [
    "###  1 Loading data  "
   ]
  },
  {
   "cell_type": "code",
   "execution_count": 118,
   "metadata": {},
   "outputs": [
    {
     "data": {
      "text/html": [
       "<div>\n",
       "<style scoped>\n",
       "    .dataframe tbody tr th:only-of-type {\n",
       "        vertical-align: middle;\n",
       "    }\n",
       "\n",
       "    .dataframe tbody tr th {\n",
       "        vertical-align: top;\n",
       "    }\n",
       "\n",
       "    .dataframe thead th {\n",
       "        text-align: right;\n",
       "    }\n",
       "</style>\n",
       "<table border=\"1\" class=\"dataframe\">\n",
       "  <thead>\n",
       "    <tr style=\"text-align: right;\">\n",
       "      <th></th>\n",
       "      <th>consumer_id</th>\n",
       "      <th>gender</th>\n",
       "      <th>has_gender</th>\n",
       "      <th>has_first_name</th>\n",
       "      <th>has_last_name</th>\n",
       "      <th>has_email</th>\n",
       "      <th>has_dob</th>\n",
       "      <th>customer_age</th>\n",
       "      <th>account_age</th>\n",
       "      <th>account_last_updated</th>\n",
       "      <th>account_status</th>\n",
       "      <th>app_downloads</th>\n",
       "      <th>unique_offer_clicked</th>\n",
       "      <th>total_offer_clicks</th>\n",
       "      <th>unique_offer_impressions</th>\n",
       "      <th>total_offer_impressions</th>\n",
       "      <th>avg_redemptions</th>\n",
       "      <th>min_redemptions</th>\n",
       "      <th>max_redemptions</th>\n",
       "      <th>total_offers_redeemed</th>\n",
       "    </tr>\n",
       "  </thead>\n",
       "  <tbody>\n",
       "    <tr>\n",
       "      <th>0</th>\n",
       "      <td>1284b75c-ecae-4015-8e3d-359c0347ede8</td>\n",
       "      <td>NaN</td>\n",
       "      <td>0</td>\n",
       "      <td>1</td>\n",
       "      <td>1</td>\n",
       "      <td>1</td>\n",
       "      <td>0</td>\n",
       "      <td>NaN</td>\n",
       "      <td>188</td>\n",
       "      <td>174</td>\n",
       "      <td>0</td>\n",
       "      <td>1</td>\n",
       "      <td>3</td>\n",
       "      <td>3</td>\n",
       "      <td>8</td>\n",
       "      <td>52</td>\n",
       "      <td>1.0</td>\n",
       "      <td>1</td>\n",
       "      <td>1</td>\n",
       "      <td>1</td>\n",
       "    </tr>\n",
       "    <tr>\n",
       "      <th>1</th>\n",
       "      <td>128af162-d2c3-4fe4-986c-359c8bdc6c04</td>\n",
       "      <td>NaN</td>\n",
       "      <td>0</td>\n",
       "      <td>1</td>\n",
       "      <td>1</td>\n",
       "      <td>1</td>\n",
       "      <td>0</td>\n",
       "      <td>NaN</td>\n",
       "      <td>185</td>\n",
       "      <td>174</td>\n",
       "      <td>0</td>\n",
       "      <td>1</td>\n",
       "      <td>3</td>\n",
       "      <td>8</td>\n",
       "      <td>5</td>\n",
       "      <td>58</td>\n",
       "      <td>1.0</td>\n",
       "      <td>1</td>\n",
       "      <td>1</td>\n",
       "      <td>1</td>\n",
       "    </tr>\n",
       "    <tr>\n",
       "      <th>2</th>\n",
       "      <td>12aada5e-36eb-4e9e-8d62-359c076c1b40</td>\n",
       "      <td>NaN</td>\n",
       "      <td>0</td>\n",
       "      <td>1</td>\n",
       "      <td>1</td>\n",
       "      <td>1</td>\n",
       "      <td>0</td>\n",
       "      <td>NaN</td>\n",
       "      <td>188</td>\n",
       "      <td>174</td>\n",
       "      <td>0</td>\n",
       "      <td>1</td>\n",
       "      <td>3</td>\n",
       "      <td>4</td>\n",
       "      <td>9</td>\n",
       "      <td>183</td>\n",
       "      <td>1.0</td>\n",
       "      <td>1</td>\n",
       "      <td>1</td>\n",
       "      <td>3</td>\n",
       "    </tr>\n",
       "    <tr>\n",
       "      <th>3</th>\n",
       "      <td>12c2e02f-bc79-4048-83ba-359cd3280dcf</td>\n",
       "      <td>NaN</td>\n",
       "      <td>0</td>\n",
       "      <td>1</td>\n",
       "      <td>1</td>\n",
       "      <td>1</td>\n",
       "      <td>0</td>\n",
       "      <td>NaN</td>\n",
       "      <td>184</td>\n",
       "      <td>174</td>\n",
       "      <td>0</td>\n",
       "      <td>1</td>\n",
       "      <td>3</td>\n",
       "      <td>7</td>\n",
       "      <td>4</td>\n",
       "      <td>56</td>\n",
       "      <td>1.0</td>\n",
       "      <td>1</td>\n",
       "      <td>1</td>\n",
       "      <td>1</td>\n",
       "    </tr>\n",
       "    <tr>\n",
       "      <th>4</th>\n",
       "      <td>12fabdf0-0582-489e-a6d3-35509ab8ae6f</td>\n",
       "      <td>f</td>\n",
       "      <td>1</td>\n",
       "      <td>1</td>\n",
       "      <td>1</td>\n",
       "      <td>1</td>\n",
       "      <td>1</td>\n",
       "      <td>22.0</td>\n",
       "      <td>572</td>\n",
       "      <td>173</td>\n",
       "      <td>0</td>\n",
       "      <td>1</td>\n",
       "      <td>4</td>\n",
       "      <td>6</td>\n",
       "      <td>7</td>\n",
       "      <td>83</td>\n",
       "      <td>1.0</td>\n",
       "      <td>1</td>\n",
       "      <td>1</td>\n",
       "      <td>3</td>\n",
       "    </tr>\n",
       "  </tbody>\n",
       "</table>\n",
       "</div>"
      ],
      "text/plain": [
       "                            consumer_id gender  has_gender  has_first_name  \\\n",
       "0  1284b75c-ecae-4015-8e3d-359c0347ede8    NaN           0               1   \n",
       "1  128af162-d2c3-4fe4-986c-359c8bdc6c04    NaN           0               1   \n",
       "2  12aada5e-36eb-4e9e-8d62-359c076c1b40    NaN           0               1   \n",
       "3  12c2e02f-bc79-4048-83ba-359cd3280dcf    NaN           0               1   \n",
       "4  12fabdf0-0582-489e-a6d3-35509ab8ae6f      f           1               1   \n",
       "\n",
       "   has_last_name  has_email  has_dob  customer_age  account_age  \\\n",
       "0              1          1        0           NaN          188   \n",
       "1              1          1        0           NaN          185   \n",
       "2              1          1        0           NaN          188   \n",
       "3              1          1        0           NaN          184   \n",
       "4              1          1        1          22.0          572   \n",
       "\n",
       "   account_last_updated  account_status  app_downloads  unique_offer_clicked  \\\n",
       "0                   174               0              1                     3   \n",
       "1                   174               0              1                     3   \n",
       "2                   174               0              1                     3   \n",
       "3                   174               0              1                     3   \n",
       "4                   173               0              1                     4   \n",
       "\n",
       "   total_offer_clicks  unique_offer_impressions  total_offer_impressions  \\\n",
       "0                   3                         8                       52   \n",
       "1                   8                         5                       58   \n",
       "2                   4                         9                      183   \n",
       "3                   7                         4                       56   \n",
       "4                   6                         7                       83   \n",
       "\n",
       "   avg_redemptions  min_redemptions  max_redemptions  total_offers_redeemed  \n",
       "0              1.0                1                1                      1  \n",
       "1              1.0                1                1                      1  \n",
       "2              1.0                1                1                      3  \n",
       "3              1.0                1                1                      1  \n",
       "4              1.0                1                1                      3  "
      ]
     },
     "execution_count": 118,
     "metadata": {},
     "output_type": "execute_result"
    }
   ],
   "source": [
    "import numpy as np\n",
    "import pandas as pd\n",
    "missing_values = [\"n/a\", \"na\", \"--\",\"\"]  # Making a list of missing value types\n",
    "rawdata = pd.read_csv('data1.csv', na_values = missing_values)\n",
    "rawdata.head()"
   ]
  },
  {
   "cell_type": "markdown",
   "metadata": {},
   "source": [
    "### 2 Data exploration"
   ]
  },
  {
   "cell_type": "markdown",
   "metadata": {},
   "source": [
    "#### 2.1 data summary "
   ]
  },
  {
   "cell_type": "code",
   "execution_count": 119,
   "metadata": {},
   "outputs": [
    {
     "data": {
      "text/html": [
       "<div>\n",
       "<style scoped>\n",
       "    .dataframe tbody tr th:only-of-type {\n",
       "        vertical-align: middle;\n",
       "    }\n",
       "\n",
       "    .dataframe tbody tr th {\n",
       "        vertical-align: top;\n",
       "    }\n",
       "\n",
       "    .dataframe thead th {\n",
       "        text-align: right;\n",
       "    }\n",
       "</style>\n",
       "<table border=\"1\" class=\"dataframe\">\n",
       "  <thead>\n",
       "    <tr style=\"text-align: right;\">\n",
       "      <th></th>\n",
       "      <th>has_gender</th>\n",
       "      <th>has_first_name</th>\n",
       "      <th>has_last_name</th>\n",
       "      <th>has_email</th>\n",
       "      <th>has_dob</th>\n",
       "      <th>customer_age</th>\n",
       "      <th>account_age</th>\n",
       "      <th>account_last_updated</th>\n",
       "      <th>account_status</th>\n",
       "      <th>app_downloads</th>\n",
       "      <th>unique_offer_clicked</th>\n",
       "      <th>total_offer_clicks</th>\n",
       "      <th>unique_offer_impressions</th>\n",
       "      <th>total_offer_impressions</th>\n",
       "      <th>avg_redemptions</th>\n",
       "      <th>min_redemptions</th>\n",
       "      <th>max_redemptions</th>\n",
       "      <th>total_offers_redeemed</th>\n",
       "    </tr>\n",
       "  </thead>\n",
       "  <tbody>\n",
       "    <tr>\n",
       "      <th>count</th>\n",
       "      <td>10000.000000</td>\n",
       "      <td>10000.000000</td>\n",
       "      <td>10000.000000</td>\n",
       "      <td>10000.000000</td>\n",
       "      <td>10000.000000</td>\n",
       "      <td>4064.000000</td>\n",
       "      <td>10000.000000</td>\n",
       "      <td>10000.000000</td>\n",
       "      <td>10000.0</td>\n",
       "      <td>10000.000000</td>\n",
       "      <td>10000.000000</td>\n",
       "      <td>10000.000000</td>\n",
       "      <td>10000.000000</td>\n",
       "      <td>10000.000000</td>\n",
       "      <td>10000.000000</td>\n",
       "      <td>10000.000000</td>\n",
       "      <td>10000.000000</td>\n",
       "      <td>10000.000000</td>\n",
       "    </tr>\n",
       "    <tr>\n",
       "      <th>mean</th>\n",
       "      <td>0.547800</td>\n",
       "      <td>0.998000</td>\n",
       "      <td>0.995900</td>\n",
       "      <td>0.999200</td>\n",
       "      <td>0.406400</td>\n",
       "      <td>22.980807</td>\n",
       "      <td>245.816600</td>\n",
       "      <td>174.256700</td>\n",
       "      <td>0.0</td>\n",
       "      <td>1.032200</td>\n",
       "      <td>3.172400</td>\n",
       "      <td>5.825600</td>\n",
       "      <td>7.516500</td>\n",
       "      <td>68.429900</td>\n",
       "      <td>1.003003</td>\n",
       "      <td>1.001300</td>\n",
       "      <td>1.005700</td>\n",
       "      <td>1.880900</td>\n",
       "    </tr>\n",
       "    <tr>\n",
       "      <th>std</th>\n",
       "      <td>0.497735</td>\n",
       "      <td>0.044679</td>\n",
       "      <td>0.063903</td>\n",
       "      <td>0.028274</td>\n",
       "      <td>0.491185</td>\n",
       "      <td>8.504064</td>\n",
       "      <td>130.090693</td>\n",
       "      <td>0.895145</td>\n",
       "      <td>0.0</td>\n",
       "      <td>0.186994</td>\n",
       "      <td>2.059831</td>\n",
       "      <td>5.290424</td>\n",
       "      <td>3.490264</td>\n",
       "      <td>69.591347</td>\n",
       "      <td>0.046453</td>\n",
       "      <td>0.036034</td>\n",
       "      <td>0.079172</td>\n",
       "      <td>1.187121</td>\n",
       "    </tr>\n",
       "    <tr>\n",
       "      <th>min</th>\n",
       "      <td>0.000000</td>\n",
       "      <td>0.000000</td>\n",
       "      <td>0.000000</td>\n",
       "      <td>0.000000</td>\n",
       "      <td>0.000000</td>\n",
       "      <td>15.000000</td>\n",
       "      <td>174.000000</td>\n",
       "      <td>173.000000</td>\n",
       "      <td>0.0</td>\n",
       "      <td>1.000000</td>\n",
       "      <td>1.000000</td>\n",
       "      <td>1.000000</td>\n",
       "      <td>1.000000</td>\n",
       "      <td>2.000000</td>\n",
       "      <td>1.000000</td>\n",
       "      <td>1.000000</td>\n",
       "      <td>1.000000</td>\n",
       "      <td>1.000000</td>\n",
       "    </tr>\n",
       "    <tr>\n",
       "      <th>25%</th>\n",
       "      <td>0.000000</td>\n",
       "      <td>1.000000</td>\n",
       "      <td>1.000000</td>\n",
       "      <td>1.000000</td>\n",
       "      <td>0.000000</td>\n",
       "      <td>19.000000</td>\n",
       "      <td>184.000000</td>\n",
       "      <td>174.000000</td>\n",
       "      <td>0.0</td>\n",
       "      <td>1.000000</td>\n",
       "      <td>2.000000</td>\n",
       "      <td>2.000000</td>\n",
       "      <td>4.000000</td>\n",
       "      <td>23.000000</td>\n",
       "      <td>1.000000</td>\n",
       "      <td>1.000000</td>\n",
       "      <td>1.000000</td>\n",
       "      <td>1.000000</td>\n",
       "    </tr>\n",
       "    <tr>\n",
       "      <th>50%</th>\n",
       "      <td>1.000000</td>\n",
       "      <td>1.000000</td>\n",
       "      <td>1.000000</td>\n",
       "      <td>1.000000</td>\n",
       "      <td>0.000000</td>\n",
       "      <td>20.000000</td>\n",
       "      <td>187.000000</td>\n",
       "      <td>174.000000</td>\n",
       "      <td>0.0</td>\n",
       "      <td>1.000000</td>\n",
       "      <td>3.000000</td>\n",
       "      <td>4.000000</td>\n",
       "      <td>7.000000</td>\n",
       "      <td>47.000000</td>\n",
       "      <td>1.000000</td>\n",
       "      <td>1.000000</td>\n",
       "      <td>1.000000</td>\n",
       "      <td>2.000000</td>\n",
       "    </tr>\n",
       "    <tr>\n",
       "      <th>75%</th>\n",
       "      <td>1.000000</td>\n",
       "      <td>1.000000</td>\n",
       "      <td>1.000000</td>\n",
       "      <td>1.000000</td>\n",
       "      <td>1.000000</td>\n",
       "      <td>24.000000</td>\n",
       "      <td>193.000000</td>\n",
       "      <td>174.000000</td>\n",
       "      <td>0.0</td>\n",
       "      <td>1.000000</td>\n",
       "      <td>4.000000</td>\n",
       "      <td>8.000000</td>\n",
       "      <td>10.000000</td>\n",
       "      <td>90.000000</td>\n",
       "      <td>1.000000</td>\n",
       "      <td>1.000000</td>\n",
       "      <td>1.000000</td>\n",
       "      <td>2.000000</td>\n",
       "    </tr>\n",
       "    <tr>\n",
       "      <th>max</th>\n",
       "      <td>1.000000</td>\n",
       "      <td>1.000000</td>\n",
       "      <td>1.000000</td>\n",
       "      <td>1.000000</td>\n",
       "      <td>1.000000</td>\n",
       "      <td>119.000000</td>\n",
       "      <td>649.000000</td>\n",
       "      <td>187.000000</td>\n",
       "      <td>0.0</td>\n",
       "      <td>5.000000</td>\n",
       "      <td>14.000000</td>\n",
       "      <td>62.000000</td>\n",
       "      <td>25.000000</td>\n",
       "      <td>1693.000000</td>\n",
       "      <td>2.500000</td>\n",
       "      <td>2.000000</td>\n",
       "      <td>4.000000</td>\n",
       "      <td>11.000000</td>\n",
       "    </tr>\n",
       "  </tbody>\n",
       "</table>\n",
       "</div>"
      ],
      "text/plain": [
       "         has_gender  has_first_name  has_last_name     has_email  \\\n",
       "count  10000.000000    10000.000000   10000.000000  10000.000000   \n",
       "mean       0.547800        0.998000       0.995900      0.999200   \n",
       "std        0.497735        0.044679       0.063903      0.028274   \n",
       "min        0.000000        0.000000       0.000000      0.000000   \n",
       "25%        0.000000        1.000000       1.000000      1.000000   \n",
       "50%        1.000000        1.000000       1.000000      1.000000   \n",
       "75%        1.000000        1.000000       1.000000      1.000000   \n",
       "max        1.000000        1.000000       1.000000      1.000000   \n",
       "\n",
       "            has_dob  customer_age   account_age  account_last_updated  \\\n",
       "count  10000.000000   4064.000000  10000.000000          10000.000000   \n",
       "mean       0.406400     22.980807    245.816600            174.256700   \n",
       "std        0.491185      8.504064    130.090693              0.895145   \n",
       "min        0.000000     15.000000    174.000000            173.000000   \n",
       "25%        0.000000     19.000000    184.000000            174.000000   \n",
       "50%        0.000000     20.000000    187.000000            174.000000   \n",
       "75%        1.000000     24.000000    193.000000            174.000000   \n",
       "max        1.000000    119.000000    649.000000            187.000000   \n",
       "\n",
       "       account_status  app_downloads  unique_offer_clicked  \\\n",
       "count         10000.0   10000.000000          10000.000000   \n",
       "mean              0.0       1.032200              3.172400   \n",
       "std               0.0       0.186994              2.059831   \n",
       "min               0.0       1.000000              1.000000   \n",
       "25%               0.0       1.000000              2.000000   \n",
       "50%               0.0       1.000000              3.000000   \n",
       "75%               0.0       1.000000              4.000000   \n",
       "max               0.0       5.000000             14.000000   \n",
       "\n",
       "       total_offer_clicks  unique_offer_impressions  total_offer_impressions  \\\n",
       "count        10000.000000              10000.000000             10000.000000   \n",
       "mean             5.825600                  7.516500                68.429900   \n",
       "std              5.290424                  3.490264                69.591347   \n",
       "min              1.000000                  1.000000                 2.000000   \n",
       "25%              2.000000                  4.000000                23.000000   \n",
       "50%              4.000000                  7.000000                47.000000   \n",
       "75%              8.000000                 10.000000                90.000000   \n",
       "max             62.000000                 25.000000              1693.000000   \n",
       "\n",
       "       avg_redemptions  min_redemptions  max_redemptions  \\\n",
       "count     10000.000000     10000.000000     10000.000000   \n",
       "mean          1.003003         1.001300         1.005700   \n",
       "std           0.046453         0.036034         0.079172   \n",
       "min           1.000000         1.000000         1.000000   \n",
       "25%           1.000000         1.000000         1.000000   \n",
       "50%           1.000000         1.000000         1.000000   \n",
       "75%           1.000000         1.000000         1.000000   \n",
       "max           2.500000         2.000000         4.000000   \n",
       "\n",
       "       total_offers_redeemed  \n",
       "count           10000.000000  \n",
       "mean                1.880900  \n",
       "std                 1.187121  \n",
       "min                 1.000000  \n",
       "25%                 1.000000  \n",
       "50%                 2.000000  \n",
       "75%                 2.000000  \n",
       "max                11.000000  "
      ]
     },
     "execution_count": 119,
     "metadata": {},
     "output_type": "execute_result"
    }
   ],
   "source": [
    "rawdata.describe()"
   ]
  },
  {
   "cell_type": "markdown",
   "metadata": {},
   "source": [
    "#### 2.2 data type"
   ]
  },
  {
   "cell_type": "code",
   "execution_count": 120,
   "metadata": {},
   "outputs": [
    {
     "data": {
      "text/plain": [
       "consumer_id                  object\n",
       "gender                       object\n",
       "has_gender                    int64\n",
       "has_first_name                int64\n",
       "has_last_name                 int64\n",
       "has_email                     int64\n",
       "has_dob                       int64\n",
       "customer_age                float64\n",
       "account_age                   int64\n",
       "account_last_updated          int64\n",
       "account_status                int64\n",
       "app_downloads                 int64\n",
       "unique_offer_clicked          int64\n",
       "total_offer_clicks            int64\n",
       "unique_offer_impressions      int64\n",
       "total_offer_impressions       int64\n",
       "avg_redemptions             float64\n",
       "min_redemptions               int64\n",
       "max_redemptions               int64\n",
       "total_offers_redeemed         int64\n",
       "dtype: object"
      ]
     },
     "execution_count": 120,
     "metadata": {},
     "output_type": "execute_result"
    }
   ],
   "source": [
    "rawdata.dtypes"
   ]
  },
  {
   "cell_type": "markdown",
   "metadata": {},
   "source": [
    "#### 2.3 missing values"
   ]
  },
  {
   "cell_type": "code",
   "execution_count": 121,
   "metadata": {},
   "outputs": [
    {
     "data": {
      "text/plain": [
       "consumer_id                    0\n",
       "gender                      4522\n",
       "has_gender                     0\n",
       "has_first_name                 0\n",
       "has_last_name                  0\n",
       "has_email                      0\n",
       "has_dob                        0\n",
       "customer_age                5936\n",
       "account_age                    0\n",
       "account_last_updated           0\n",
       "account_status                 0\n",
       "app_downloads                  0\n",
       "unique_offer_clicked           0\n",
       "total_offer_clicks             0\n",
       "unique_offer_impressions       0\n",
       "total_offer_impressions        0\n",
       "avg_redemptions                0\n",
       "min_redemptions                0\n",
       "max_redemptions                0\n",
       "total_offers_redeemed          0\n",
       "dtype: int64"
      ]
     },
     "execution_count": 121,
     "metadata": {},
     "output_type": "execute_result"
    }
   ],
   "source": [
    "rawdata.isnull().sum()"
   ]
  },
  {
   "cell_type": "markdown",
   "metadata": {},
   "source": [
    "#### 2.4  posssible outliers "
   ]
  },
  {
   "cell_type": "code",
   "execution_count": 122,
   "metadata": {},
   "outputs": [
    {
     "data": {
      "text/plain": [
       "169"
      ]
     },
     "execution_count": 122,
     "metadata": {},
     "output_type": "execute_result"
    }
   ],
   "source": [
    "#LOF attempts to harness the idea of nearest neighbors for outlier detection.but cannot handle factors and NAs\n",
    "from sklearn.neighbors import LocalOutlierFactor\n",
    "lof = LocalOutlierFactor()\n",
    "temp_data=rawdata.drop(['consumer_id','gender','customer_age'], axis = 1) \n",
    "yhat = lof.fit_predict(temp_data)\n",
    "len(yhat[yhat==-1])\n",
    "\n",
    "#we can also try IsolationForest, One-Class SVM. etc  Anyway, there are possible outliers."
   ]
  },
  {
   "cell_type": "markdown",
   "metadata": {},
   "source": [
    "### 3 Data preprocessing"
   ]
  },
  {
   "cell_type": "markdown",
   "metadata": {},
   "source": [
    "#### 3.1  drop gender and use has_gender only"
   ]
  },
  {
   "cell_type": "code",
   "execution_count": 123,
   "metadata": {},
   "outputs": [],
   "source": [
    "rawdata=rawdata.drop(['gender'], axis = 1)"
   ]
  },
  {
   "cell_type": "markdown",
   "metadata": {},
   "source": [
    "#### 3.2 genetate a new feather according to  customer_age"
   ]
  },
  {
   "cell_type": "code",
   "execution_count": 124,
   "metadata": {},
   "outputs": [
    {
     "data": {
      "text/html": [
       "<div>\n",
       "<style scoped>\n",
       "    .dataframe tbody tr th:only-of-type {\n",
       "        vertical-align: middle;\n",
       "    }\n",
       "\n",
       "    .dataframe tbody tr th {\n",
       "        vertical-align: top;\n",
       "    }\n",
       "\n",
       "    .dataframe thead th {\n",
       "        text-align: right;\n",
       "    }\n",
       "</style>\n",
       "<table border=\"1\" class=\"dataframe\">\n",
       "  <thead>\n",
       "    <tr style=\"text-align: right;\">\n",
       "      <th></th>\n",
       "      <th>consumer_id</th>\n",
       "      <th>has_gender</th>\n",
       "      <th>has_first_name</th>\n",
       "      <th>has_last_name</th>\n",
       "      <th>has_email</th>\n",
       "      <th>has_dob</th>\n",
       "      <th>account_age</th>\n",
       "      <th>account_last_updated</th>\n",
       "      <th>account_status</th>\n",
       "      <th>app_downloads</th>\n",
       "      <th>unique_offer_clicked</th>\n",
       "      <th>total_offer_clicks</th>\n",
       "      <th>unique_offer_impressions</th>\n",
       "      <th>total_offer_impressions</th>\n",
       "      <th>avg_redemptions</th>\n",
       "      <th>min_redemptions</th>\n",
       "      <th>max_redemptions</th>\n",
       "      <th>total_offers_redeemed</th>\n",
       "      <th>has_customer_age</th>\n",
       "    </tr>\n",
       "  </thead>\n",
       "  <tbody>\n",
       "    <tr>\n",
       "      <th>0</th>\n",
       "      <td>1284b75c-ecae-4015-8e3d-359c0347ede8</td>\n",
       "      <td>0</td>\n",
       "      <td>1</td>\n",
       "      <td>1</td>\n",
       "      <td>1</td>\n",
       "      <td>0</td>\n",
       "      <td>188</td>\n",
       "      <td>174</td>\n",
       "      <td>0</td>\n",
       "      <td>1</td>\n",
       "      <td>3</td>\n",
       "      <td>3</td>\n",
       "      <td>8</td>\n",
       "      <td>52</td>\n",
       "      <td>1.0</td>\n",
       "      <td>1</td>\n",
       "      <td>1</td>\n",
       "      <td>1</td>\n",
       "      <td>0</td>\n",
       "    </tr>\n",
       "    <tr>\n",
       "      <th>1</th>\n",
       "      <td>128af162-d2c3-4fe4-986c-359c8bdc6c04</td>\n",
       "      <td>0</td>\n",
       "      <td>1</td>\n",
       "      <td>1</td>\n",
       "      <td>1</td>\n",
       "      <td>0</td>\n",
       "      <td>185</td>\n",
       "      <td>174</td>\n",
       "      <td>0</td>\n",
       "      <td>1</td>\n",
       "      <td>3</td>\n",
       "      <td>8</td>\n",
       "      <td>5</td>\n",
       "      <td>58</td>\n",
       "      <td>1.0</td>\n",
       "      <td>1</td>\n",
       "      <td>1</td>\n",
       "      <td>1</td>\n",
       "      <td>0</td>\n",
       "    </tr>\n",
       "    <tr>\n",
       "      <th>2</th>\n",
       "      <td>12aada5e-36eb-4e9e-8d62-359c076c1b40</td>\n",
       "      <td>0</td>\n",
       "      <td>1</td>\n",
       "      <td>1</td>\n",
       "      <td>1</td>\n",
       "      <td>0</td>\n",
       "      <td>188</td>\n",
       "      <td>174</td>\n",
       "      <td>0</td>\n",
       "      <td>1</td>\n",
       "      <td>3</td>\n",
       "      <td>4</td>\n",
       "      <td>9</td>\n",
       "      <td>183</td>\n",
       "      <td>1.0</td>\n",
       "      <td>1</td>\n",
       "      <td>1</td>\n",
       "      <td>3</td>\n",
       "      <td>0</td>\n",
       "    </tr>\n",
       "    <tr>\n",
       "      <th>3</th>\n",
       "      <td>12c2e02f-bc79-4048-83ba-359cd3280dcf</td>\n",
       "      <td>0</td>\n",
       "      <td>1</td>\n",
       "      <td>1</td>\n",
       "      <td>1</td>\n",
       "      <td>0</td>\n",
       "      <td>184</td>\n",
       "      <td>174</td>\n",
       "      <td>0</td>\n",
       "      <td>1</td>\n",
       "      <td>3</td>\n",
       "      <td>7</td>\n",
       "      <td>4</td>\n",
       "      <td>56</td>\n",
       "      <td>1.0</td>\n",
       "      <td>1</td>\n",
       "      <td>1</td>\n",
       "      <td>1</td>\n",
       "      <td>0</td>\n",
       "    </tr>\n",
       "    <tr>\n",
       "      <th>4</th>\n",
       "      <td>12fabdf0-0582-489e-a6d3-35509ab8ae6f</td>\n",
       "      <td>1</td>\n",
       "      <td>1</td>\n",
       "      <td>1</td>\n",
       "      <td>1</td>\n",
       "      <td>1</td>\n",
       "      <td>572</td>\n",
       "      <td>173</td>\n",
       "      <td>0</td>\n",
       "      <td>1</td>\n",
       "      <td>4</td>\n",
       "      <td>6</td>\n",
       "      <td>7</td>\n",
       "      <td>83</td>\n",
       "      <td>1.0</td>\n",
       "      <td>1</td>\n",
       "      <td>1</td>\n",
       "      <td>3</td>\n",
       "      <td>1</td>\n",
       "    </tr>\n",
       "  </tbody>\n",
       "</table>\n",
       "</div>"
      ],
      "text/plain": [
       "                            consumer_id  has_gender  has_first_name  \\\n",
       "0  1284b75c-ecae-4015-8e3d-359c0347ede8           0               1   \n",
       "1  128af162-d2c3-4fe4-986c-359c8bdc6c04           0               1   \n",
       "2  12aada5e-36eb-4e9e-8d62-359c076c1b40           0               1   \n",
       "3  12c2e02f-bc79-4048-83ba-359cd3280dcf           0               1   \n",
       "4  12fabdf0-0582-489e-a6d3-35509ab8ae6f           1               1   \n",
       "\n",
       "   has_last_name  has_email  has_dob  account_age  account_last_updated  \\\n",
       "0              1          1        0          188                   174   \n",
       "1              1          1        0          185                   174   \n",
       "2              1          1        0          188                   174   \n",
       "3              1          1        0          184                   174   \n",
       "4              1          1        1          572                   173   \n",
       "\n",
       "   account_status  app_downloads  unique_offer_clicked  total_offer_clicks  \\\n",
       "0               0              1                     3                   3   \n",
       "1               0              1                     3                   8   \n",
       "2               0              1                     3                   4   \n",
       "3               0              1                     3                   7   \n",
       "4               0              1                     4                   6   \n",
       "\n",
       "   unique_offer_impressions  total_offer_impressions  avg_redemptions  \\\n",
       "0                         8                       52              1.0   \n",
       "1                         5                       58              1.0   \n",
       "2                         9                      183              1.0   \n",
       "3                         4                       56              1.0   \n",
       "4                         7                       83              1.0   \n",
       "\n",
       "   min_redemptions  max_redemptions  total_offers_redeemed  has_customer_age  \n",
       "0                1                1                      1                 0  \n",
       "1                1                1                      1                 0  \n",
       "2                1                1                      3                 0  \n",
       "3                1                1                      1                 0  \n",
       "4                1                1                      3                 1  "
      ]
     },
     "execution_count": 124,
     "metadata": {},
     "output_type": "execute_result"
    }
   ],
   "source": [
    "rawdata['has_customer_age'] = rawdata['customer_age'].notna()*1\n",
    "rawdata=rawdata.drop(['customer_age'], axis = 1)\n",
    "rawdata.head()"
   ]
  },
  {
   "cell_type": "code",
   "execution_count": 125,
   "metadata": {},
   "outputs": [],
   "source": [
    "#save data\n",
    "rawdata.to_csv('preparedData.csv',index=False)"
   ]
  },
  {
   "cell_type": "markdown",
   "metadata": {},
   "source": [
    "### 4 Data clustering "
   ]
  },
  {
   "cell_type": "code",
   "execution_count": 23,
   "metadata": {},
   "outputs": [
    {
     "data": {
      "text/html": [
       "<div>\n",
       "<style scoped>\n",
       "    .dataframe tbody tr th:only-of-type {\n",
       "        vertical-align: middle;\n",
       "    }\n",
       "\n",
       "    .dataframe tbody tr th {\n",
       "        vertical-align: top;\n",
       "    }\n",
       "\n",
       "    .dataframe thead th {\n",
       "        text-align: right;\n",
       "    }\n",
       "</style>\n",
       "<table border=\"1\" class=\"dataframe\">\n",
       "  <thead>\n",
       "    <tr style=\"text-align: right;\">\n",
       "      <th></th>\n",
       "      <th>has_gender</th>\n",
       "      <th>has_first_name</th>\n",
       "      <th>has_last_name</th>\n",
       "      <th>has_email</th>\n",
       "      <th>has_dob</th>\n",
       "      <th>account_age</th>\n",
       "      <th>account_last_updated</th>\n",
       "      <th>account_status</th>\n",
       "      <th>app_downloads</th>\n",
       "      <th>unique_offer_clicked</th>\n",
       "      <th>total_offer_clicks</th>\n",
       "      <th>unique_offer_impressions</th>\n",
       "      <th>total_offer_impressions</th>\n",
       "      <th>avg_redemptions</th>\n",
       "      <th>min_redemptions</th>\n",
       "      <th>max_redemptions</th>\n",
       "      <th>total_offers_redeemed</th>\n",
       "      <th>has_customer_age</th>\n",
       "    </tr>\n",
       "  </thead>\n",
       "  <tbody>\n",
       "    <tr>\n",
       "      <th>0</th>\n",
       "      <td>0</td>\n",
       "      <td>1</td>\n",
       "      <td>1</td>\n",
       "      <td>1</td>\n",
       "      <td>0</td>\n",
       "      <td>188</td>\n",
       "      <td>174</td>\n",
       "      <td>0</td>\n",
       "      <td>1</td>\n",
       "      <td>3</td>\n",
       "      <td>3</td>\n",
       "      <td>8</td>\n",
       "      <td>52</td>\n",
       "      <td>1.0</td>\n",
       "      <td>1</td>\n",
       "      <td>1</td>\n",
       "      <td>1</td>\n",
       "      <td>0</td>\n",
       "    </tr>\n",
       "    <tr>\n",
       "      <th>1</th>\n",
       "      <td>0</td>\n",
       "      <td>1</td>\n",
       "      <td>1</td>\n",
       "      <td>1</td>\n",
       "      <td>0</td>\n",
       "      <td>185</td>\n",
       "      <td>174</td>\n",
       "      <td>0</td>\n",
       "      <td>1</td>\n",
       "      <td>3</td>\n",
       "      <td>8</td>\n",
       "      <td>5</td>\n",
       "      <td>58</td>\n",
       "      <td>1.0</td>\n",
       "      <td>1</td>\n",
       "      <td>1</td>\n",
       "      <td>1</td>\n",
       "      <td>0</td>\n",
       "    </tr>\n",
       "    <tr>\n",
       "      <th>2</th>\n",
       "      <td>0</td>\n",
       "      <td>1</td>\n",
       "      <td>1</td>\n",
       "      <td>1</td>\n",
       "      <td>0</td>\n",
       "      <td>188</td>\n",
       "      <td>174</td>\n",
       "      <td>0</td>\n",
       "      <td>1</td>\n",
       "      <td>3</td>\n",
       "      <td>4</td>\n",
       "      <td>9</td>\n",
       "      <td>183</td>\n",
       "      <td>1.0</td>\n",
       "      <td>1</td>\n",
       "      <td>1</td>\n",
       "      <td>3</td>\n",
       "      <td>0</td>\n",
       "    </tr>\n",
       "    <tr>\n",
       "      <th>3</th>\n",
       "      <td>0</td>\n",
       "      <td>1</td>\n",
       "      <td>1</td>\n",
       "      <td>1</td>\n",
       "      <td>0</td>\n",
       "      <td>184</td>\n",
       "      <td>174</td>\n",
       "      <td>0</td>\n",
       "      <td>1</td>\n",
       "      <td>3</td>\n",
       "      <td>7</td>\n",
       "      <td>4</td>\n",
       "      <td>56</td>\n",
       "      <td>1.0</td>\n",
       "      <td>1</td>\n",
       "      <td>1</td>\n",
       "      <td>1</td>\n",
       "      <td>0</td>\n",
       "    </tr>\n",
       "    <tr>\n",
       "      <th>4</th>\n",
       "      <td>1</td>\n",
       "      <td>1</td>\n",
       "      <td>1</td>\n",
       "      <td>1</td>\n",
       "      <td>1</td>\n",
       "      <td>572</td>\n",
       "      <td>173</td>\n",
       "      <td>0</td>\n",
       "      <td>1</td>\n",
       "      <td>4</td>\n",
       "      <td>6</td>\n",
       "      <td>7</td>\n",
       "      <td>83</td>\n",
       "      <td>1.0</td>\n",
       "      <td>1</td>\n",
       "      <td>1</td>\n",
       "      <td>3</td>\n",
       "      <td>1</td>\n",
       "    </tr>\n",
       "    <tr>\n",
       "      <th>5</th>\n",
       "      <td>0</td>\n",
       "      <td>1</td>\n",
       "      <td>1</td>\n",
       "      <td>1</td>\n",
       "      <td>0</td>\n",
       "      <td>193</td>\n",
       "      <td>174</td>\n",
       "      <td>0</td>\n",
       "      <td>1</td>\n",
       "      <td>1</td>\n",
       "      <td>1</td>\n",
       "      <td>1</td>\n",
       "      <td>7</td>\n",
       "      <td>1.0</td>\n",
       "      <td>1</td>\n",
       "      <td>1</td>\n",
       "      <td>1</td>\n",
       "      <td>0</td>\n",
       "    </tr>\n",
       "    <tr>\n",
       "      <th>6</th>\n",
       "      <td>1</td>\n",
       "      <td>1</td>\n",
       "      <td>1</td>\n",
       "      <td>1</td>\n",
       "      <td>1</td>\n",
       "      <td>185</td>\n",
       "      <td>174</td>\n",
       "      <td>0</td>\n",
       "      <td>1</td>\n",
       "      <td>1</td>\n",
       "      <td>1</td>\n",
       "      <td>4</td>\n",
       "      <td>22</td>\n",
       "      <td>1.0</td>\n",
       "      <td>1</td>\n",
       "      <td>1</td>\n",
       "      <td>2</td>\n",
       "      <td>1</td>\n",
       "    </tr>\n",
       "    <tr>\n",
       "      <th>7</th>\n",
       "      <td>1</td>\n",
       "      <td>1</td>\n",
       "      <td>1</td>\n",
       "      <td>1</td>\n",
       "      <td>1</td>\n",
       "      <td>502</td>\n",
       "      <td>176</td>\n",
       "      <td>0</td>\n",
       "      <td>1</td>\n",
       "      <td>2</td>\n",
       "      <td>3</td>\n",
       "      <td>11</td>\n",
       "      <td>62</td>\n",
       "      <td>1.0</td>\n",
       "      <td>1</td>\n",
       "      <td>1</td>\n",
       "      <td>1</td>\n",
       "      <td>1</td>\n",
       "    </tr>\n",
       "    <tr>\n",
       "      <th>8</th>\n",
       "      <td>0</td>\n",
       "      <td>1</td>\n",
       "      <td>1</td>\n",
       "      <td>1</td>\n",
       "      <td>0</td>\n",
       "      <td>177</td>\n",
       "      <td>174</td>\n",
       "      <td>0</td>\n",
       "      <td>1</td>\n",
       "      <td>1</td>\n",
       "      <td>2</td>\n",
       "      <td>4</td>\n",
       "      <td>12</td>\n",
       "      <td>1.0</td>\n",
       "      <td>1</td>\n",
       "      <td>1</td>\n",
       "      <td>1</td>\n",
       "      <td>0</td>\n",
       "    </tr>\n",
       "    <tr>\n",
       "      <th>9</th>\n",
       "      <td>0</td>\n",
       "      <td>1</td>\n",
       "      <td>1</td>\n",
       "      <td>1</td>\n",
       "      <td>0</td>\n",
       "      <td>188</td>\n",
       "      <td>177</td>\n",
       "      <td>0</td>\n",
       "      <td>1</td>\n",
       "      <td>3</td>\n",
       "      <td>4</td>\n",
       "      <td>4</td>\n",
       "      <td>49</td>\n",
       "      <td>1.0</td>\n",
       "      <td>1</td>\n",
       "      <td>1</td>\n",
       "      <td>2</td>\n",
       "      <td>0</td>\n",
       "    </tr>\n",
       "  </tbody>\n",
       "</table>\n",
       "</div>"
      ],
      "text/plain": [
       "   has_gender  has_first_name  has_last_name  has_email  has_dob  account_age  \\\n",
       "0           0               1              1          1        0          188   \n",
       "1           0               1              1          1        0          185   \n",
       "2           0               1              1          1        0          188   \n",
       "3           0               1              1          1        0          184   \n",
       "4           1               1              1          1        1          572   \n",
       "5           0               1              1          1        0          193   \n",
       "6           1               1              1          1        1          185   \n",
       "7           1               1              1          1        1          502   \n",
       "8           0               1              1          1        0          177   \n",
       "9           0               1              1          1        0          188   \n",
       "\n",
       "   account_last_updated  account_status  app_downloads  unique_offer_clicked  \\\n",
       "0                   174               0              1                     3   \n",
       "1                   174               0              1                     3   \n",
       "2                   174               0              1                     3   \n",
       "3                   174               0              1                     3   \n",
       "4                   173               0              1                     4   \n",
       "5                   174               0              1                     1   \n",
       "6                   174               0              1                     1   \n",
       "7                   176               0              1                     2   \n",
       "8                   174               0              1                     1   \n",
       "9                   177               0              1                     3   \n",
       "\n",
       "   total_offer_clicks  unique_offer_impressions  total_offer_impressions  \\\n",
       "0                   3                         8                       52   \n",
       "1                   8                         5                       58   \n",
       "2                   4                         9                      183   \n",
       "3                   7                         4                       56   \n",
       "4                   6                         7                       83   \n",
       "5                   1                         1                        7   \n",
       "6                   1                         4                       22   \n",
       "7                   3                        11                       62   \n",
       "8                   2                         4                       12   \n",
       "9                   4                         4                       49   \n",
       "\n",
       "   avg_redemptions  min_redemptions  max_redemptions  total_offers_redeemed  \\\n",
       "0              1.0                1                1                      1   \n",
       "1              1.0                1                1                      1   \n",
       "2              1.0                1                1                      3   \n",
       "3              1.0                1                1                      1   \n",
       "4              1.0                1                1                      3   \n",
       "5              1.0                1                1                      1   \n",
       "6              1.0                1                1                      2   \n",
       "7              1.0                1                1                      1   \n",
       "8              1.0                1                1                      1   \n",
       "9              1.0                1                1                      2   \n",
       "\n",
       "   has_customer_age  \n",
       "0                 0  \n",
       "1                 0  \n",
       "2                 0  \n",
       "3                 0  \n",
       "4                 1  \n",
       "5                 0  \n",
       "6                 1  \n",
       "7                 1  \n",
       "8                 0  \n",
       "9                 0  "
      ]
     },
     "execution_count": 23,
     "metadata": {},
     "output_type": "execute_result"
    }
   ],
   "source": [
    "#read imputed data for clustring \n",
    "# As this is an unsupervised learning , we donot split data at this stage\n",
    "newdata=pd.read_csv('preparedData.csv')\n",
    "modelingdata=newdata.drop(['consumer_id'], axis = 1)  #could not convert string to float: '7e1177c6-d055-4dbd-b8e5-359e650f3b8a'\n",
    "modelingdata.head(10)"
   ]
  },
  {
   "cell_type": "markdown",
   "metadata": {},
   "source": [
    "#### 4.1 Find a proper K according to  silhouette_score using KMeans"
   ]
  },
  {
   "cell_type": "code",
   "execution_count": 131,
   "metadata": {},
   "outputs": [
    {
     "name": "stdout",
     "output_type": "stream",
     "text": [
      "The silhouette Coefficients are:\n",
      "[0.7564253463848856, 0.6267818033464249, 0.6241583044819182, 0.5742103852239072, 0.5681091327445612, 0.5635160682513655, 0.5186454343430357, 0.4994943865164646, 0.5185373011312875, 0.517284003979649, 0.5212337468704319, 0.4762390367447294, 0.46377215047403086, 0.4674265705514867, 0.4275123211004424, 0.42085439503235494, 0.4358468212438175, 0.42632832589810404]\n"
     ]
    },
    {
     "data": {
      "image/png": "[encoded data removed]",
      "text/plain": [
       "<Figure size 432x288 with 1 Axes>"
      ]
     },
     "metadata": {
      "needs_background": "light"
     },
     "output_type": "display_data"
    }
   ],
   "source": [
    "# we do not know the the ground truth classes, so we pick the silhouette Coefficient as the \n",
    "import matplotlib.pyplot as plt\n",
    "from sklearn.cluster import KMeans\n",
    "from sklearn import metrics\n",
    "scores = []\n",
    "\n",
    "for k in range(2, 20):\n",
    "    labels = KMeans(n_clusters=k).fit(modelingdata).labels_   \n",
    "    score = metrics.silhouette_score(modelingdata, labels)\n",
    "    scores.append(score)\n",
    "    \n",
    "print('The silhouette Coefficients are:')\n",
    "print(scores)\n",
    "      \n",
    "plt.plot(list(range(2, 20)), scores)\n",
    "plt.xlabel(\"Number of Clusters Initialized\")\n",
    "plt.ylabel(\"Sihouette Score\")\n",
    "plt.show()"
   ]
  },
  {
   "cell_type": "code",
   "execution_count": 129,
   "metadata": {},
   "outputs": [
    {
     "data": {
      "image/png": "[encoded data removed]",
      "text/plain": [
       "<Figure size 432x288 with 1 Axes>"
      ]
     },
     "metadata": {
      "needs_background": "light"
     },
     "output_type": "display_data"
    }
   ],
   "source": [
    "#double check by Sum of squared distances\n",
    "sse = []\n",
    "list_k = list(range(1, 20))\n",
    "for k in list_k:\n",
    "    km = KMeans(n_clusters=k)\n",
    "    km.fit(modelingdata)\n",
    "    sse.append(km.inertia_)  #Sum of squared distances of samples to their closest cluster center.\n",
    "# Plot sse against k\n",
    "plt.plot(list_k, sse,'-o')\n",
    "plt.xlabel(r'Number of clusters *k*')\n",
    "plt.ylabel('Sum of squared distance');"
   ]
  },
  {
   "cell_type": "markdown",
   "metadata": {},
   "source": [
    "The maximum silhouette coefficient is achieved when K = 2 (best cohesive, well-separated clustering for the data)\n",
    "and where SSE starts to flatten out and forming an elbow."
   ]
  },
  {
   "cell_type": "markdown",
   "metadata": {},
   "source": [
    "#### 4.2 standardization or not?"
   ]
  },
  {
   "cell_type": "code",
   "execution_count": 90,
   "metadata": {},
   "outputs": [
    {
     "name": "stdout",
     "output_type": "stream",
     "text": [
      "1.8819639682769775\n",
      "0.2721621124521791 0.7564253463848856\n"
     ]
    }
   ],
   "source": [
    "import time\n",
    "from sklearn.preprocessing import StandardScaler\n",
    "scaler = StandardScaler()\n",
    "X_scaled = scaler.fit_transform(modelingdata)\n",
    "\n",
    "\n",
    "# no standardization\n",
    "t0 = time.time()\n",
    "labels = KMeans(n_clusters=2).fit(modelingdata).labels_\n",
    "score = metrics.silhouette_score(modelingdata, labels)\n",
    "t_kmean = time.time() - t0\n",
    "print(t_kmean)\n",
    "\n",
    "# standardization\n",
    "labels_s = KMeans(n_clusters=2).fit(X_scaled).labels_\n",
    "score_scaled = metrics.silhouette_score(X_scaled, labels_s)\n",
    "\n",
    "print(score_scaled, score)\n"
   ]
  },
  {
   "cell_type": "markdown",
   "metadata": {},
   "source": [
    "score > score_scaled, so it is not necessary to standardize data for KMeans."
   ]
  },
  {
   "cell_type": "code",
   "execution_count": 44,
   "metadata": {},
   "outputs": [
    {
     "name": "stdout",
     "output_type": "stream",
     "text": [
      "1.8490550518035889\n",
      "0.27211886599270174 0.7564625830385907\n"
     ]
    }
   ],
   "source": [
    "from sklearn.cluster import MiniBatchKMeans \n",
    "# no standardization\n",
    "t0_mini = time.time()\n",
    "labels_mini = MiniBatchKMeans(n_clusters=2).fit(modelingdata).labels_\n",
    "score_mini = metrics.silhouette_score(modelingdata, labels_mini)\n",
    "t_batch_mini = time.time() - t0_mini\n",
    "print(t_batch_mini)\n",
    "\n",
    "# standardization\n",
    "labels_s_mini = MiniBatchKMeans(n_clusters=2).fit(X_scaled).labels_\n",
    "score_scaled_mini = metrics.silhouette_score(X_scaled, labels_s_mini)\n",
    "\n",
    "print(score_scaled_mini, score_mini)"
   ]
  },
  {
   "cell_type": "markdown",
   "metadata": {},
   "source": [
    "MiniBatchKMeans is not faster(1.84>1.76) than Kmeans and the silhouette coefficients are similar.Again, data standardization is not necessary here."
   ]
  },
  {
   "cell_type": "markdown",
   "metadata": {},
   "source": [
    "#### 4.3 how about DBSCAN? "
   ]
  },
  {
   "cell_type": "code",
   "execution_count": 29,
   "metadata": {},
   "outputs": [
    {
     "name": "stdout",
     "output_type": "stream",
     "text": [
      "error: may be inappropriate parameter combinations\n",
      "error: may be inappropriate parameter combinations\n",
      "error: may be inappropriate parameter combinations\n",
      "error: may be inappropriate parameter combinations\n",
      "error: may be inappropriate parameter combinations\n",
      "error: may be inappropriate parameter combinations\n",
      "error: may be inappropriate parameter combinations\n",
      "error: may be inappropriate parameter combinations\n",
      "error: may be inappropriate parameter combinations\n",
      "error: may be inappropriate parameter combinations\n",
      "error: may be inappropriate parameter combinations\n",
      "error: may be inappropriate parameter combinations\n",
      "error: may be inappropriate parameter combinations\n",
      "error: may be inappropriate parameter combinations\n",
      "error: may be inappropriate parameter combinations\n",
      "error: may be inappropriate parameter combinations\n",
      "error: may be inappropriate parameter combinations\n",
      "error: may be inappropriate parameter combinations\n",
      "error: may be inappropriate parameter combinations\n",
      "error: may be inappropriate parameter combinations\n"
     ]
    }
   ],
   "source": [
    "import warnings\n",
    "warnings.filterwarnings('ignore')\n",
    "from sklearn.cluster import DBSCAN\n",
    "#tune critical parameters\n",
    "res = [] \n",
    "for eps in np.arange(0.1,3,0.2):\n",
    "    for min_samples in range(2,20,1):\n",
    "        try:\n",
    "                dbscan = DBSCAN(eps = eps, min_samples = min_samples).fit(modelingdata) # fit model\n",
    "                n_clusters = len([i for i in set(dbscan.labels_) if i != -1])  #Number of clusters in labels,\n",
    "                outliners = np.sum(np.where(dbscan.labels_ == -1, 1,0))   #Number of noises,\n",
    "                stats = str(pd.Series([i for i in dbscan.labels_ if i != -1]).value_counts().values)  #sample size \n",
    "                silhouette_score = metrics.silhouette_score(modelingdata, dbscan.labels_)\n",
    "        except Exception:\n",
    "                print(\"error: may be inappropriate parameter combinations\") \n",
    "        else:   \n",
    "                res.append({'eps':eps,'min_samples':min_samples,'n_clusters':n_clusters,'outliners':outliners,'silhouette_score':silhouette_score,'stats':stats})   \n",
    "        \n",
    "df = pd.DataFrame(res)"
   ]
  },
  {
   "cell_type": "code",
   "execution_count": 38,
   "metadata": {},
   "outputs": [
    {
     "name": "stdout",
     "output_type": "stream",
     "text": [
      "-0.40424167310015985\n"
     ]
    },
    {
     "data": {
      "text/html": [
       "<div>\n",
       "<style scoped>\n",
       "    .dataframe tbody tr th:only-of-type {\n",
       "        vertical-align: middle;\n",
       "    }\n",
       "\n",
       "    .dataframe tbody tr th {\n",
       "        vertical-align: top;\n",
       "    }\n",
       "\n",
       "    .dataframe thead th {\n",
       "        text-align: right;\n",
       "    }\n",
       "</style>\n",
       "<table border=\"1\" class=\"dataframe\">\n",
       "  <thead>\n",
       "    <tr style=\"text-align: right;\">\n",
       "      <th></th>\n",
       "      <th>eps</th>\n",
       "      <th>min_samples</th>\n",
       "      <th>n_clusters</th>\n",
       "      <th>outliners</th>\n",
       "      <th>silhouette_score</th>\n",
       "      <th>stats</th>\n",
       "    </tr>\n",
       "  </thead>\n",
       "  <tbody>\n",
       "    <tr>\n",
       "      <th>8</th>\n",
       "      <td>0.1</td>\n",
       "      <td>10</td>\n",
       "      <td>2</td>\n",
       "      <td>9973</td>\n",
       "      <td>-0.404242</td>\n",
       "      <td>[15 12]</td>\n",
       "    </tr>\n",
       "    <tr>\n",
       "      <th>9</th>\n",
       "      <td>0.1</td>\n",
       "      <td>11</td>\n",
       "      <td>2</td>\n",
       "      <td>9973</td>\n",
       "      <td>-0.404242</td>\n",
       "      <td>[15 12]</td>\n",
       "    </tr>\n",
       "    <tr>\n",
       "      <th>10</th>\n",
       "      <td>0.1</td>\n",
       "      <td>12</td>\n",
       "      <td>2</td>\n",
       "      <td>9973</td>\n",
       "      <td>-0.404242</td>\n",
       "      <td>[15 12]</td>\n",
       "    </tr>\n",
       "    <tr>\n",
       "      <th>22</th>\n",
       "      <td>0.3</td>\n",
       "      <td>10</td>\n",
       "      <td>2</td>\n",
       "      <td>9973</td>\n",
       "      <td>-0.404242</td>\n",
       "      <td>[15 12]</td>\n",
       "    </tr>\n",
       "    <tr>\n",
       "      <th>23</th>\n",
       "      <td>0.3</td>\n",
       "      <td>11</td>\n",
       "      <td>2</td>\n",
       "      <td>9973</td>\n",
       "      <td>-0.404242</td>\n",
       "      <td>[15 12]</td>\n",
       "    </tr>\n",
       "    <tr>\n",
       "      <th>24</th>\n",
       "      <td>0.3</td>\n",
       "      <td>12</td>\n",
       "      <td>2</td>\n",
       "      <td>9973</td>\n",
       "      <td>-0.404242</td>\n",
       "      <td>[15 12]</td>\n",
       "    </tr>\n",
       "    <tr>\n",
       "      <th>36</th>\n",
       "      <td>0.5</td>\n",
       "      <td>10</td>\n",
       "      <td>2</td>\n",
       "      <td>9973</td>\n",
       "      <td>-0.404242</td>\n",
       "      <td>[15 12]</td>\n",
       "    </tr>\n",
       "    <tr>\n",
       "      <th>37</th>\n",
       "      <td>0.5</td>\n",
       "      <td>11</td>\n",
       "      <td>2</td>\n",
       "      <td>9973</td>\n",
       "      <td>-0.404242</td>\n",
       "      <td>[15 12]</td>\n",
       "    </tr>\n",
       "    <tr>\n",
       "      <th>38</th>\n",
       "      <td>0.5</td>\n",
       "      <td>12</td>\n",
       "      <td>2</td>\n",
       "      <td>9973</td>\n",
       "      <td>-0.404242</td>\n",
       "      <td>[15 12]</td>\n",
       "    </tr>\n",
       "    <tr>\n",
       "      <th>50</th>\n",
       "      <td>0.7</td>\n",
       "      <td>10</td>\n",
       "      <td>2</td>\n",
       "      <td>9973</td>\n",
       "      <td>-0.404242</td>\n",
       "      <td>[15 12]</td>\n",
       "    </tr>\n",
       "    <tr>\n",
       "      <th>51</th>\n",
       "      <td>0.7</td>\n",
       "      <td>11</td>\n",
       "      <td>2</td>\n",
       "      <td>9973</td>\n",
       "      <td>-0.404242</td>\n",
       "      <td>[15 12]</td>\n",
       "    </tr>\n",
       "    <tr>\n",
       "      <th>52</th>\n",
       "      <td>0.7</td>\n",
       "      <td>12</td>\n",
       "      <td>2</td>\n",
       "      <td>9973</td>\n",
       "      <td>-0.404242</td>\n",
       "      <td>[15 12]</td>\n",
       "    </tr>\n",
       "    <tr>\n",
       "      <th>64</th>\n",
       "      <td>0.9</td>\n",
       "      <td>10</td>\n",
       "      <td>2</td>\n",
       "      <td>9973</td>\n",
       "      <td>-0.404242</td>\n",
       "      <td>[15 12]</td>\n",
       "    </tr>\n",
       "    <tr>\n",
       "      <th>65</th>\n",
       "      <td>0.9</td>\n",
       "      <td>11</td>\n",
       "      <td>2</td>\n",
       "      <td>9973</td>\n",
       "      <td>-0.404242</td>\n",
       "      <td>[15 12]</td>\n",
       "    </tr>\n",
       "    <tr>\n",
       "      <th>66</th>\n",
       "      <td>0.9</td>\n",
       "      <td>12</td>\n",
       "      <td>2</td>\n",
       "      <td>9973</td>\n",
       "      <td>-0.404242</td>\n",
       "      <td>[15 12]</td>\n",
       "    </tr>\n",
       "  </tbody>\n",
       "</table>\n",
       "</div>"
      ],
      "text/plain": [
       "    eps  min_samples  n_clusters  outliners  silhouette_score    stats\n",
       "8   0.1           10           2       9973         -0.404242  [15 12]\n",
       "9   0.1           11           2       9973         -0.404242  [15 12]\n",
       "10  0.1           12           2       9973         -0.404242  [15 12]\n",
       "22  0.3           10           2       9973         -0.404242  [15 12]\n",
       "23  0.3           11           2       9973         -0.404242  [15 12]\n",
       "24  0.3           12           2       9973         -0.404242  [15 12]\n",
       "36  0.5           10           2       9973         -0.404242  [15 12]\n",
       "37  0.5           11           2       9973         -0.404242  [15 12]\n",
       "38  0.5           12           2       9973         -0.404242  [15 12]\n",
       "50  0.7           10           2       9973         -0.404242  [15 12]\n",
       "51  0.7           11           2       9973         -0.404242  [15 12]\n",
       "52  0.7           12           2       9973         -0.404242  [15 12]\n",
       "64  0.9           10           2       9973         -0.404242  [15 12]\n",
       "65  0.9           11           2       9973         -0.404242  [15 12]\n",
       "66  0.9           12           2       9973         -0.404242  [15 12]"
      ]
     },
     "execution_count": 38,
     "metadata": {},
     "output_type": "execute_result"
    }
   ],
   "source": [
    "#select the parameters when  n_clusters=2\n",
    "clusters2 = df.loc[df.n_clusters == 2, :]\n",
    "max_s=max(clusters2[\"silhouette_score\"])\n",
    "print(max_s)\n",
    "# clusters2[clusters2['silhouette_score']==max_s]\n",
    "  "
   ]
  },
  {
   "cell_type": "markdown",
   "metadata": {},
   "source": [
    "The silhouette_score is so low, so that DBSCAN had a bad performence."
   ]
  },
  {
   "cell_type": "code",
   "execution_count": 41,
   "metadata": {},
   "outputs": [],
   "source": [
    "#how about the scaled data?\n",
    "res_scaled = [] \n",
    "for eps in np.arange(0.1,3,0.2):\n",
    "    for min_samples in range(2,20,1):\n",
    "        try:\n",
    "                dbscan = DBSCAN(eps = eps, min_samples = min_samples).fit(X_scaled) # fit model\n",
    "                n_clusters = len([i for i in set(dbscan.labels_) if i != -1])  #Number of clusters in labels,\n",
    "                outliners = np.sum(np.where(dbscan.labels_ == -1, 1,0))   #Number of noises,\n",
    "                stats = str(pd.Series([i for i in dbscan.labels_ if i != -1]).value_counts().values)  #sample size \n",
    "                silhouette_score = metrics.silhouette_score(X_scaled, dbscan.labels_)\n",
    "        except Exception:\n",
    "                print(\"error: may be inappropriate parameter combinations\") \n",
    "        else:   \n",
    "                res_scaled.append({'eps':eps,'min_samples':min_samples,'n_clusters':n_clusters,'outliners':outliners,'silhouette_score':silhouette_score,'stats':stats})   \n",
    "        \n",
    "df_scaled = pd.DataFrame(res_scaled)"
   ]
  },
  {
   "cell_type": "code",
   "execution_count": 42,
   "metadata": {
    "scrolled": true
   },
   "outputs": [
    {
     "name": "stdout",
     "output_type": "stream",
     "text": [
      "-0.40424167310015985\n"
     ]
    },
    {
     "data": {
      "text/html": [
       "<div>\n",
       "<style scoped>\n",
       "    .dataframe tbody tr th:only-of-type {\n",
       "        vertical-align: middle;\n",
       "    }\n",
       "\n",
       "    .dataframe tbody tr th {\n",
       "        vertical-align: top;\n",
       "    }\n",
       "\n",
       "    .dataframe thead th {\n",
       "        text-align: right;\n",
       "    }\n",
       "</style>\n",
       "<table border=\"1\" class=\"dataframe\">\n",
       "  <thead>\n",
       "    <tr style=\"text-align: right;\">\n",
       "      <th></th>\n",
       "      <th>eps</th>\n",
       "      <th>min_samples</th>\n",
       "      <th>n_clusters</th>\n",
       "      <th>outliners</th>\n",
       "      <th>silhouette_score</th>\n",
       "      <th>stats</th>\n",
       "    </tr>\n",
       "  </thead>\n",
       "  <tbody>\n",
       "    <tr>\n",
       "      <th>8</th>\n",
       "      <td>0.1</td>\n",
       "      <td>10</td>\n",
       "      <td>2</td>\n",
       "      <td>9973</td>\n",
       "      <td>-0.404242</td>\n",
       "      <td>[15 12]</td>\n",
       "    </tr>\n",
       "    <tr>\n",
       "      <th>9</th>\n",
       "      <td>0.1</td>\n",
       "      <td>11</td>\n",
       "      <td>2</td>\n",
       "      <td>9973</td>\n",
       "      <td>-0.404242</td>\n",
       "      <td>[15 12]</td>\n",
       "    </tr>\n",
       "    <tr>\n",
       "      <th>10</th>\n",
       "      <td>0.1</td>\n",
       "      <td>12</td>\n",
       "      <td>2</td>\n",
       "      <td>9973</td>\n",
       "      <td>-0.404242</td>\n",
       "      <td>[15 12]</td>\n",
       "    </tr>\n",
       "    <tr>\n",
       "      <th>22</th>\n",
       "      <td>0.3</td>\n",
       "      <td>10</td>\n",
       "      <td>2</td>\n",
       "      <td>9973</td>\n",
       "      <td>-0.404242</td>\n",
       "      <td>[15 12]</td>\n",
       "    </tr>\n",
       "    <tr>\n",
       "      <th>23</th>\n",
       "      <td>0.3</td>\n",
       "      <td>11</td>\n",
       "      <td>2</td>\n",
       "      <td>9973</td>\n",
       "      <td>-0.404242</td>\n",
       "      <td>[15 12]</td>\n",
       "    </tr>\n",
       "    <tr>\n",
       "      <th>24</th>\n",
       "      <td>0.3</td>\n",
       "      <td>12</td>\n",
       "      <td>2</td>\n",
       "      <td>9973</td>\n",
       "      <td>-0.404242</td>\n",
       "      <td>[15 12]</td>\n",
       "    </tr>\n",
       "    <tr>\n",
       "      <th>36</th>\n",
       "      <td>0.5</td>\n",
       "      <td>10</td>\n",
       "      <td>2</td>\n",
       "      <td>9973</td>\n",
       "      <td>-0.404242</td>\n",
       "      <td>[15 12]</td>\n",
       "    </tr>\n",
       "    <tr>\n",
       "      <th>37</th>\n",
       "      <td>0.5</td>\n",
       "      <td>11</td>\n",
       "      <td>2</td>\n",
       "      <td>9973</td>\n",
       "      <td>-0.404242</td>\n",
       "      <td>[15 12]</td>\n",
       "    </tr>\n",
       "    <tr>\n",
       "      <th>38</th>\n",
       "      <td>0.5</td>\n",
       "      <td>12</td>\n",
       "      <td>2</td>\n",
       "      <td>9973</td>\n",
       "      <td>-0.404242</td>\n",
       "      <td>[15 12]</td>\n",
       "    </tr>\n",
       "    <tr>\n",
       "      <th>50</th>\n",
       "      <td>0.7</td>\n",
       "      <td>10</td>\n",
       "      <td>2</td>\n",
       "      <td>9973</td>\n",
       "      <td>-0.404242</td>\n",
       "      <td>[15 12]</td>\n",
       "    </tr>\n",
       "    <tr>\n",
       "      <th>51</th>\n",
       "      <td>0.7</td>\n",
       "      <td>11</td>\n",
       "      <td>2</td>\n",
       "      <td>9973</td>\n",
       "      <td>-0.404242</td>\n",
       "      <td>[15 12]</td>\n",
       "    </tr>\n",
       "    <tr>\n",
       "      <th>52</th>\n",
       "      <td>0.7</td>\n",
       "      <td>12</td>\n",
       "      <td>2</td>\n",
       "      <td>9973</td>\n",
       "      <td>-0.404242</td>\n",
       "      <td>[15 12]</td>\n",
       "    </tr>\n",
       "    <tr>\n",
       "      <th>64</th>\n",
       "      <td>0.9</td>\n",
       "      <td>10</td>\n",
       "      <td>2</td>\n",
       "      <td>9973</td>\n",
       "      <td>-0.404242</td>\n",
       "      <td>[15 12]</td>\n",
       "    </tr>\n",
       "    <tr>\n",
       "      <th>65</th>\n",
       "      <td>0.9</td>\n",
       "      <td>11</td>\n",
       "      <td>2</td>\n",
       "      <td>9973</td>\n",
       "      <td>-0.404242</td>\n",
       "      <td>[15 12]</td>\n",
       "    </tr>\n",
       "    <tr>\n",
       "      <th>66</th>\n",
       "      <td>0.9</td>\n",
       "      <td>12</td>\n",
       "      <td>2</td>\n",
       "      <td>9973</td>\n",
       "      <td>-0.404242</td>\n",
       "      <td>[15 12]</td>\n",
       "    </tr>\n",
       "  </tbody>\n",
       "</table>\n",
       "</div>"
      ],
      "text/plain": [
       "    eps  min_samples  n_clusters  outliners  silhouette_score    stats\n",
       "8   0.1           10           2       9973         -0.404242  [15 12]\n",
       "9   0.1           11           2       9973         -0.404242  [15 12]\n",
       "10  0.1           12           2       9973         -0.404242  [15 12]\n",
       "22  0.3           10           2       9973         -0.404242  [15 12]\n",
       "23  0.3           11           2       9973         -0.404242  [15 12]\n",
       "24  0.3           12           2       9973         -0.404242  [15 12]\n",
       "36  0.5           10           2       9973         -0.404242  [15 12]\n",
       "37  0.5           11           2       9973         -0.404242  [15 12]\n",
       "38  0.5           12           2       9973         -0.404242  [15 12]\n",
       "50  0.7           10           2       9973         -0.404242  [15 12]\n",
       "51  0.7           11           2       9973         -0.404242  [15 12]\n",
       "52  0.7           12           2       9973         -0.404242  [15 12]\n",
       "64  0.9           10           2       9973         -0.404242  [15 12]\n",
       "65  0.9           11           2       9973         -0.404242  [15 12]\n",
       "66  0.9           12           2       9973         -0.404242  [15 12]"
      ]
     },
     "execution_count": 42,
     "metadata": {},
     "output_type": "execute_result"
    }
   ],
   "source": [
    "cluster2=df_scaled.loc[df_scaled.n_clusters == 2, :]\n",
    "cluster2.head(5)\n",
    "max_s=max(clusters2[\"silhouette_score\"])\n",
    "print(max_s)\n",
    "clusters2[clusters2['silhouette_score']==max_s]"
   ]
  },
  {
   "cell_type": "code",
   "execution_count": 132,
   "metadata": {},
   "outputs": [
    {
     "name": "stdout",
     "output_type": "stream",
     "text": [
      "8.107965469360352\n"
     ]
    }
   ],
   "source": [
    "t0 = time.time()\n",
    "dbscan = DBSCAN(eps = 0.1, min_samples = 10).fit(X_scaled)\n",
    "score_dbscan = metrics.silhouette_score(X_scaled, dbscan.labels_)\n",
    "t_dbscan = time.time() - t0\n",
    "print(t_dbscan)"
   ]
  },
  {
   "cell_type": "markdown",
   "metadata": {},
   "source": [
    "In general, the performence of DBSCAN is not good."
   ]
  },
  {
   "cell_type": "markdown",
   "metadata": {},
   "source": [
    "#### 4.4 hierarchical clustering"
   ]
  },
  {
   "cell_type": "code",
   "execution_count": 46,
   "metadata": {},
   "outputs": [
    {
     "name": "stdout",
     "output_type": "stream",
     "text": [
      "0.6896565238487474 0.7936676300733881\n"
     ]
    }
   ],
   "source": [
    "#The AgglomerativeClustering object performs a hierarchical clustering using a bottom up approach\n",
    "from sklearn.cluster import AgglomerativeClustering\n",
    "hierarchical = AgglomerativeClustering(n_clusters=2).fit(modelingdata)\n",
    "silhouette_score = metrics.silhouette_score(modelingdata, hierarchical.labels_)\n",
    "silhouette_score\n",
    "\n",
    "hierarchical_scaled = AgglomerativeClustering(n_clusters=2).fit(X_scaled)\n",
    "silhouette_score_scaled  = metrics.silhouette_score(X_scaled, hierarchical_scaled.labels_)\n",
    "\n",
    "print(silhouette_score, silhouette_score_scaled)"
   ]
  },
  {
   "cell_type": "code",
   "execution_count": 47,
   "metadata": {},
   "outputs": [
    {
     "data": {
      "text/plain": [
       "[{'linkage': 'ward', 'silhouette_score': 0.7936676300733881},\n",
       " {'linkage': 'complete', 'silhouette_score': 0.8815235803801397},\n",
       " {'linkage': 'average', 'silhouette_score': 0.9063737859193168},\n",
       " {'linkage': 'single', 'silhouette_score': 0.897940708839796}]"
      ]
     },
     "execution_count": 47,
     "metadata": {},
     "output_type": "execute_result"
    }
   ],
   "source": [
    "# try differerent linkages {“ward”, “complete”, “average”, “single”}, default=”ward”\n",
    "# use scaled data  \n",
    "linkageOptions=['ward', 'complete', 'average', 'single']\n",
    "\n",
    "results = [] \n",
    "for linkage in linkageOptions:\n",
    "    hierarchical = AgglomerativeClustering(n_clusters=2 , linkage=linkage).fit(X_scaled)\n",
    "    silhouette_score = metrics.silhouette_score(X_scaled, hierarchical.labels_)\n",
    "    results.append({'linkage':linkage,'silhouette_score':silhouette_score})   \n",
    "        \n",
    "results \n"
   ]
  },
  {
   "cell_type": "code",
   "execution_count": 48,
   "metadata": {},
   "outputs": [
    {
     "data": {
      "text/plain": [
       "1"
      ]
     },
     "execution_count": 48,
     "metadata": {},
     "output_type": "execute_result"
    }
   ],
   "source": [
    "labels = AgglomerativeClustering(n_clusters=2 , linkage='complete').fit(modelingdata).labels_\n",
    "len(labels[labels==1])   \n",
    "#only one observations falls to another cluster    #average   single   have the same problem"
   ]
  },
  {
   "cell_type": "code",
   "execution_count": 51,
   "metadata": {},
   "outputs": [
    {
     "data": {
      "text/plain": [
       "7895"
      ]
     },
     "execution_count": 51,
     "metadata": {},
     "output_type": "execute_result"
    }
   ],
   "source": [
    "labels = AgglomerativeClustering(n_clusters=2 , linkage='ward').fit(modelingdata).labels_\n",
    "len(labels[labels==1])   #ward： minimizes the variance of the clusters being merged "
   ]
  },
  {
   "cell_type": "code",
   "execution_count": 54,
   "metadata": {},
   "outputs": [
    {
     "name": "stdout",
     "output_type": "stream",
     "text": [
      "5.706772089004517\n"
     ]
    }
   ],
   "source": [
    "t0 = time.time()\n",
    "hierarchical = AgglomerativeClustering(n_clusters=2 , linkage='ward').fit(modelingdata)\n",
    "score_hier = metrics.silhouette_score(modelingdata, hierarchical.labels_)\n",
    "t_hier = time.time() - t0\n",
    "print(t_hier)"
   ]
  },
  {
   "cell_type": "markdown",
   "metadata": {},
   "source": [
    "#### 4.5 choose the final clustering methed and label the records"
   ]
  },
  {
   "cell_type": "code",
   "execution_count": 57,
   "metadata": {},
   "outputs": [
    {
     "name": "stdout",
     "output_type": "stream",
     "text": [
      "+---------------------+--------------------+--------------------+\n",
      "|        Methed       |  Silhouette score  |  Running time(s)   |\n",
      "+---------------------+--------------------+--------------------+\n",
      "|        KMeans       | 0.7564253463848856 | 1.7612879276275635 |\n",
      "|   MiniBatchKMeans   | 0.7564625830385907 | 1.8490550518035889 |\n",
      "| hierarchical(ward)  | 0.6896565238487474 | 5.706772089004517  |\n",
      "|       DBSCAN        | 0.394510489367916  | 8.232988119125366  |\n",
      "+---------------------+--------------------+--------------------+\n"
     ]
    }
   ],
   "source": [
    "from prettytable import PrettyTable\n",
    "\n",
    "relusts = [[\"KMeans\", score,t_kmean], \n",
    "           [\"MiniBatchKMeans\", score_mini, t_batch_mini], \n",
    "           [\"hierarchical(ward) \", score_hier, t_hier],\n",
    "           [\"DBSCAN \", score_dbscan, t_dbscan]]\n",
    "\n",
    "table = PrettyTable(['Methed','Silhouette score','Running time(s)'])\n",
    " \n",
    "\n",
    "for rec in relusts:\n",
    "    table.add_row(rec)   \n",
    "print(table)"
   ]
  },
  {
   "cell_type": "markdown",
   "metadata": {},
   "source": [
    "Among the three methods,hierarchical clustering has the two high performance, but its silhouette score is too high (except linkage=ward)\n",
    "and only 1 out of the 10,000 belongs to a group, so the performence is no credible. \n",
    "Hence, I would choose KMeans as the clustering methed in this case."
   ]
  },
  {
   "cell_type": "code",
   "execution_count": 58,
   "metadata": {},
   "outputs": [],
   "source": [
    "#attach labels to dataset \n",
    "labels = KMeans(n_clusters=2).fit(modelingdata).labels_\n",
    "newdata['Label'] = labels"
   ]
  },
  {
   "cell_type": "code",
   "execution_count": 59,
   "metadata": {},
   "outputs": [
    {
     "name": "stdout",
     "output_type": "stream",
     "text": [
      "8408\n",
      "1592\n"
     ]
    }
   ],
   "source": [
    "print(len(labels[labels==0]))\n",
    "print(len(labels[labels==1]))"
   ]
  },
  {
   "cell_type": "code",
   "execution_count": 60,
   "metadata": {},
   "outputs": [],
   "source": [
    "#save data   \n",
    "newdata.to_csv('labeldData_2.csv',index=False)"
   ]
  },
  {
   "cell_type": "code",
   "execution_count": 61,
   "metadata": {},
   "outputs": [
    {
     "name": "stdout",
     "output_type": "stream",
     "text": [
      "has_gender\n",
      "0    4522\n",
      "1    5478\n",
      "Name: Label, dtype: int32\n"
     ]
    }
   ],
   "source": [
    "grouped = newdata.groupby('has_gender')\n",
    "print (grouped['Label'].agg(np.size)) \n"
   ]
  },
  {
   "cell_type": "code",
   "execution_count": 107,
   "metadata": {},
   "outputs": [
    {
     "data": {
      "text/plain": [
       "Text(0, 0.5, 'Number ofunique offers clicked by the customer')"
      ]
     },
     "execution_count": 107,
     "metadata": {},
     "output_type": "execute_result"
    },
    {
     "data": {
      "image/png": "[encoded data removed]",
      "text/plain": [
       "<Figure size 432x288 with 1 Axes>"
      ]
     },
     "metadata": {
      "needs_background": "light"
     },
     "output_type": "display_data"
    }
   ],
   "source": [
    "fig = plt.figure()\n",
    "ax = fig.add_subplot(111)\n",
    "scatter = ax.scatter(x=newdata['unique_offer_clicked'], y=newdata['has_gender'], c=newdata['Label'], s=50, cmap='viridis')\n",
    "ax.set_title('K-Means Clustering')\n",
    "ax.set_xlabel('Whether the customer provided gender information')\n",
    "ax.set_ylabel('Number ofunique offers clicked by the customer')"
   ]
  },
  {
   "cell_type": "code",
   "execution_count": 108,
   "metadata": {},
   "outputs": [
    {
     "data": {
      "image/png": "[encoded data removed]",
      "text/plain": [
       "<Figure size 432x288 with 1 Axes>"
      ]
     },
     "metadata": {
      "needs_background": "light"
     },
     "output_type": "display_data"
    }
   ],
   "source": [
    "plt.scatter(x=newdata['total_offers_redeemed'],y=newdata['unique_offer_clicked'],  \n",
    "            c=newdata['Label'], s=50, cmap='viridis')\n",
    "plt.show() "
   ]
  },
  {
   "cell_type": "markdown",
   "metadata": {},
   "source": [
    "### 5 Date spliting "
   ]
  },
  {
   "cell_type": "markdown",
   "metadata": {},
   "source": [
    "#### 5.1 is there any unbalanced problems?"
   ]
  },
  {
   "cell_type": "code",
   "execution_count": 71,
   "metadata": {},
   "outputs": [
    {
     "data": {
      "text/plain": [
       "0    8408\n",
       "1    1592\n",
       "Name: Label, dtype: int64"
      ]
     },
     "execution_count": 71,
     "metadata": {},
     "output_type": "execute_result"
    }
   ],
   "source": [
    "#load the labeled data\n",
    "classedData = pd.read_csv('labeldData_2.csv')  #possile risk: Type of gender is int here\n",
    "#classedData[\"Label\"].replace({0:,\"No Gender\":0, 1:,\"Female\", 2:\"Male\"}, inplace=True)\n",
    "stat=classedData['Label'].value_counts() \n",
    "stat"
   ]
  },
  {
   "cell_type": "code",
   "execution_count": 72,
   "metadata": {},
   "outputs": [
    {
     "data": {
      "text/plain": [
       "<BarContainer object of 2 artists>"
      ]
     },
     "execution_count": 72,
     "metadata": {},
     "output_type": "execute_result"
    },
    {
     "data": {
      "image/png": "[encoded data removed]",
      "text/plain": [
       "<Figure size 432x288 with 1 Axes>"
      ]
     },
     "metadata": {
      "needs_background": "light"
     },
     "output_type": "display_data"
    }
   ],
   "source": [
    "plt.bar(range(2), [8414,1586],tick_label=['0','1'])"
   ]
  },
  {
   "cell_type": "code",
   "execution_count": null,
   "metadata": {},
   "outputs": [],
   "source": []
  }
 ],
 "metadata": {
  "kernelspec": {
   "display_name": "Python 3",
   "language": "python",
   "name": "python3"
  },
  "language_info": {
   "codemirror_mode": {
    "name": "ipython",
    "version": 3
   },
   "file_extension": ".py",
   "mimetype": "text/x-python",
   "name": "python",
   "nbconvert_exporter": "python",
   "pygments_lexer": "ipython3",
   "version": "3.8.4"
  }
 },
 "nbformat": 4,
 "nbformat_minor": 4
}
