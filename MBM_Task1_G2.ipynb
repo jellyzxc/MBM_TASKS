{
 "cells": [
  {
   "cell_type": "markdown",
   "metadata": {},
   "source": [
    "###  Data Scientist Interview_MBM: Part –1"
   ]
  },
  {
   "cell_type": "markdown",
   "metadata": {},
   "source": [
    "XiaocuiZhang 30/07/2020"
   ]
  },
  {
   "cell_type": "markdown",
   "metadata": {},
   "source": [
    "###  1 Loading data  "
   ]
  },
  {
   "cell_type": "code",
   "execution_count": 3,
   "metadata": {},
   "outputs": [],
   "source": [
    "import numpy as np\n",
    "import pandas as pd\n",
    "import matplotlib.pyplot as plt"
   ]
  },
  {
   "cell_type": "code",
   "execution_count": 7,
   "metadata": {},
   "outputs": [
    {
     "data": {
      "text/html": [
       "<div>\n",
       "<style scoped>\n",
       "    .dataframe tbody tr th:only-of-type {\n",
       "        vertical-align: middle;\n",
       "    }\n",
       "\n",
       "    .dataframe tbody tr th {\n",
       "        vertical-align: top;\n",
       "    }\n",
       "\n",
       "    .dataframe thead th {\n",
       "        text-align: right;\n",
       "    }\n",
       "</style>\n",
       "<table border=\"1\" class=\"dataframe\">\n",
       "  <thead>\n",
       "    <tr style=\"text-align: right;\">\n",
       "      <th></th>\n",
       "      <th>consumer_id</th>\n",
       "      <th>gender</th>\n",
       "      <th>has_gender</th>\n",
       "      <th>has_first_name</th>\n",
       "      <th>has_last_name</th>\n",
       "      <th>has_email</th>\n",
       "      <th>has_dob</th>\n",
       "      <th>customer_age</th>\n",
       "      <th>account_age</th>\n",
       "      <th>account_last_updated</th>\n",
       "      <th>account_status</th>\n",
       "      <th>app_downloads</th>\n",
       "      <th>unique_offer_clicked</th>\n",
       "      <th>total_offer_clicks</th>\n",
       "      <th>unique_offer_impressions</th>\n",
       "      <th>total_offer_impressions</th>\n",
       "      <th>avg_redemptions</th>\n",
       "      <th>min_redemptions</th>\n",
       "      <th>max_redemptions</th>\n",
       "      <th>total_offers_redeemed</th>\n",
       "    </tr>\n",
       "  </thead>\n",
       "  <tbody>\n",
       "    <tr>\n",
       "      <th>0</th>\n",
       "      <td>1284b75c-ecae-4015-8e3d-359c0347ede8</td>\n",
       "      <td>NaN</td>\n",
       "      <td>0</td>\n",
       "      <td>1</td>\n",
       "      <td>1</td>\n",
       "      <td>1</td>\n",
       "      <td>0</td>\n",
       "      <td>NaN</td>\n",
       "      <td>188</td>\n",
       "      <td>174</td>\n",
       "      <td>0</td>\n",
       "      <td>1</td>\n",
       "      <td>3</td>\n",
       "      <td>3</td>\n",
       "      <td>8</td>\n",
       "      <td>52</td>\n",
       "      <td>1.0</td>\n",
       "      <td>1</td>\n",
       "      <td>1</td>\n",
       "      <td>1</td>\n",
       "    </tr>\n",
       "    <tr>\n",
       "      <th>1</th>\n",
       "      <td>128af162-d2c3-4fe4-986c-359c8bdc6c04</td>\n",
       "      <td>NaN</td>\n",
       "      <td>0</td>\n",
       "      <td>1</td>\n",
       "      <td>1</td>\n",
       "      <td>1</td>\n",
       "      <td>0</td>\n",
       "      <td>NaN</td>\n",
       "      <td>185</td>\n",
       "      <td>174</td>\n",
       "      <td>0</td>\n",
       "      <td>1</td>\n",
       "      <td>3</td>\n",
       "      <td>8</td>\n",
       "      <td>5</td>\n",
       "      <td>58</td>\n",
       "      <td>1.0</td>\n",
       "      <td>1</td>\n",
       "      <td>1</td>\n",
       "      <td>1</td>\n",
       "    </tr>\n",
       "    <tr>\n",
       "      <th>2</th>\n",
       "      <td>12aada5e-36eb-4e9e-8d62-359c076c1b40</td>\n",
       "      <td>NaN</td>\n",
       "      <td>0</td>\n",
       "      <td>1</td>\n",
       "      <td>1</td>\n",
       "      <td>1</td>\n",
       "      <td>0</td>\n",
       "      <td>NaN</td>\n",
       "      <td>188</td>\n",
       "      <td>174</td>\n",
       "      <td>0</td>\n",
       "      <td>1</td>\n",
       "      <td>3</td>\n",
       "      <td>4</td>\n",
       "      <td>9</td>\n",
       "      <td>183</td>\n",
       "      <td>1.0</td>\n",
       "      <td>1</td>\n",
       "      <td>1</td>\n",
       "      <td>3</td>\n",
       "    </tr>\n",
       "    <tr>\n",
       "      <th>3</th>\n",
       "      <td>12c2e02f-bc79-4048-83ba-359cd3280dcf</td>\n",
       "      <td>NaN</td>\n",
       "      <td>0</td>\n",
       "      <td>1</td>\n",
       "      <td>1</td>\n",
       "      <td>1</td>\n",
       "      <td>0</td>\n",
       "      <td>NaN</td>\n",
       "      <td>184</td>\n",
       "      <td>174</td>\n",
       "      <td>0</td>\n",
       "      <td>1</td>\n",
       "      <td>3</td>\n",
       "      <td>7</td>\n",
       "      <td>4</td>\n",
       "      <td>56</td>\n",
       "      <td>1.0</td>\n",
       "      <td>1</td>\n",
       "      <td>1</td>\n",
       "      <td>1</td>\n",
       "    </tr>\n",
       "    <tr>\n",
       "      <th>4</th>\n",
       "      <td>12fabdf0-0582-489e-a6d3-35509ab8ae6f</td>\n",
       "      <td>f</td>\n",
       "      <td>1</td>\n",
       "      <td>1</td>\n",
       "      <td>1</td>\n",
       "      <td>1</td>\n",
       "      <td>1</td>\n",
       "      <td>22.0</td>\n",
       "      <td>572</td>\n",
       "      <td>173</td>\n",
       "      <td>0</td>\n",
       "      <td>1</td>\n",
       "      <td>4</td>\n",
       "      <td>6</td>\n",
       "      <td>7</td>\n",
       "      <td>83</td>\n",
       "      <td>1.0</td>\n",
       "      <td>1</td>\n",
       "      <td>1</td>\n",
       "      <td>3</td>\n",
       "    </tr>\n",
       "  </tbody>\n",
       "</table>\n",
       "</div>"
      ],
      "text/plain": [
       "                            consumer_id gender  has_gender  has_first_name  \\\n",
       "0  1284b75c-ecae-4015-8e3d-359c0347ede8    NaN           0               1   \n",
       "1  128af162-d2c3-4fe4-986c-359c8bdc6c04    NaN           0               1   \n",
       "2  12aada5e-36eb-4e9e-8d62-359c076c1b40    NaN           0               1   \n",
       "3  12c2e02f-bc79-4048-83ba-359cd3280dcf    NaN           0               1   \n",
       "4  12fabdf0-0582-489e-a6d3-35509ab8ae6f      f           1               1   \n",
       "\n",
       "   has_last_name  has_email  has_dob  customer_age  account_age  \\\n",
       "0              1          1        0           NaN          188   \n",
       "1              1          1        0           NaN          185   \n",
       "2              1          1        0           NaN          188   \n",
       "3              1          1        0           NaN          184   \n",
       "4              1          1        1          22.0          572   \n",
       "\n",
       "   account_last_updated  account_status  app_downloads  unique_offer_clicked  \\\n",
       "0                   174               0              1                     3   \n",
       "1                   174               0              1                     3   \n",
       "2                   174               0              1                     3   \n",
       "3                   174               0              1                     3   \n",
       "4                   173               0              1                     4   \n",
       "\n",
       "   total_offer_clicks  unique_offer_impressions  total_offer_impressions  \\\n",
       "0                   3                         8                       52   \n",
       "1                   8                         5                       58   \n",
       "2                   4                         9                      183   \n",
       "3                   7                         4                       56   \n",
       "4                   6                         7                       83   \n",
       "\n",
       "   avg_redemptions  min_redemptions  max_redemptions  total_offers_redeemed  \n",
       "0              1.0                1                1                      1  \n",
       "1              1.0                1                1                      1  \n",
       "2              1.0                1                1                      3  \n",
       "3              1.0                1                1                      1  \n",
       "4              1.0                1                1                      3  "
      ]
     },
     "execution_count": 7,
     "metadata": {},
     "output_type": "execute_result"
    }
   ],
   "source": [
    "missing_values = [\"n/a\", \"na\", \"--\",\"\"]  # Making a list of missing value types\n",
    "rawdata = pd.read_csv('data1.csv', na_values = missing_values)\n",
    "rawdata.head()"
   ]
  },
  {
   "cell_type": "markdown",
   "metadata": {},
   "source": [
    "### 2 Data exploration"
   ]
  },
  {
   "cell_type": "markdown",
   "metadata": {},
   "source": [
    "#### 2.1 descriptive analysis"
   ]
  },
  {
   "cell_type": "code",
   "execution_count": 249,
   "metadata": {},
   "outputs": [
    {
     "data": {
      "text/html": [
       "<div>\n",
       "<style scoped>\n",
       "    .dataframe tbody tr th:only-of-type {\n",
       "        vertical-align: middle;\n",
       "    }\n",
       "\n",
       "    .dataframe tbody tr th {\n",
       "        vertical-align: top;\n",
       "    }\n",
       "\n",
       "    .dataframe thead th {\n",
       "        text-align: right;\n",
       "    }\n",
       "</style>\n",
       "<table border=\"1\" class=\"dataframe\">\n",
       "  <thead>\n",
       "    <tr style=\"text-align: right;\">\n",
       "      <th></th>\n",
       "      <th>has_gender</th>\n",
       "      <th>has_first_name</th>\n",
       "      <th>has_last_name</th>\n",
       "      <th>has_email</th>\n",
       "      <th>has_dob</th>\n",
       "      <th>customer_age</th>\n",
       "      <th>account_age</th>\n",
       "      <th>account_last_updated</th>\n",
       "      <th>account_status</th>\n",
       "      <th>app_downloads</th>\n",
       "      <th>unique_offer_clicked</th>\n",
       "      <th>total_offer_clicks</th>\n",
       "      <th>unique_offer_impressions</th>\n",
       "      <th>total_offer_impressions</th>\n",
       "      <th>avg_redemptions</th>\n",
       "      <th>min_redemptions</th>\n",
       "      <th>max_redemptions</th>\n",
       "      <th>total_offers_redeemed</th>\n",
       "    </tr>\n",
       "  </thead>\n",
       "  <tbody>\n",
       "    <tr>\n",
       "      <th>count</th>\n",
       "      <td>10000.000000</td>\n",
       "      <td>10000.000000</td>\n",
       "      <td>10000.000000</td>\n",
       "      <td>10000.000000</td>\n",
       "      <td>10000.000000</td>\n",
       "      <td>4064.000000</td>\n",
       "      <td>10000.000000</td>\n",
       "      <td>10000.000000</td>\n",
       "      <td>10000.0</td>\n",
       "      <td>10000.000000</td>\n",
       "      <td>10000.000000</td>\n",
       "      <td>10000.000000</td>\n",
       "      <td>10000.000000</td>\n",
       "      <td>10000.000000</td>\n",
       "      <td>10000.000000</td>\n",
       "      <td>10000.000000</td>\n",
       "      <td>10000.000000</td>\n",
       "      <td>10000.000000</td>\n",
       "    </tr>\n",
       "    <tr>\n",
       "      <th>mean</th>\n",
       "      <td>0.547800</td>\n",
       "      <td>0.998000</td>\n",
       "      <td>0.995900</td>\n",
       "      <td>0.999200</td>\n",
       "      <td>0.406400</td>\n",
       "      <td>22.980807</td>\n",
       "      <td>245.816600</td>\n",
       "      <td>174.256700</td>\n",
       "      <td>0.0</td>\n",
       "      <td>1.032200</td>\n",
       "      <td>3.172400</td>\n",
       "      <td>5.825600</td>\n",
       "      <td>7.516500</td>\n",
       "      <td>68.429900</td>\n",
       "      <td>1.003003</td>\n",
       "      <td>1.001300</td>\n",
       "      <td>1.005700</td>\n",
       "      <td>1.880900</td>\n",
       "    </tr>\n",
       "    <tr>\n",
       "      <th>std</th>\n",
       "      <td>0.497735</td>\n",
       "      <td>0.044679</td>\n",
       "      <td>0.063903</td>\n",
       "      <td>0.028274</td>\n",
       "      <td>0.491185</td>\n",
       "      <td>8.504064</td>\n",
       "      <td>130.090693</td>\n",
       "      <td>0.895145</td>\n",
       "      <td>0.0</td>\n",
       "      <td>0.186994</td>\n",
       "      <td>2.059831</td>\n",
       "      <td>5.290424</td>\n",
       "      <td>3.490264</td>\n",
       "      <td>69.591347</td>\n",
       "      <td>0.046453</td>\n",
       "      <td>0.036034</td>\n",
       "      <td>0.079172</td>\n",
       "      <td>1.187121</td>\n",
       "    </tr>\n",
       "    <tr>\n",
       "      <th>min</th>\n",
       "      <td>0.000000</td>\n",
       "      <td>0.000000</td>\n",
       "      <td>0.000000</td>\n",
       "      <td>0.000000</td>\n",
       "      <td>0.000000</td>\n",
       "      <td>15.000000</td>\n",
       "      <td>174.000000</td>\n",
       "      <td>173.000000</td>\n",
       "      <td>0.0</td>\n",
       "      <td>1.000000</td>\n",
       "      <td>1.000000</td>\n",
       "      <td>1.000000</td>\n",
       "      <td>1.000000</td>\n",
       "      <td>2.000000</td>\n",
       "      <td>1.000000</td>\n",
       "      <td>1.000000</td>\n",
       "      <td>1.000000</td>\n",
       "      <td>1.000000</td>\n",
       "    </tr>\n",
       "    <tr>\n",
       "      <th>25%</th>\n",
       "      <td>0.000000</td>\n",
       "      <td>1.000000</td>\n",
       "      <td>1.000000</td>\n",
       "      <td>1.000000</td>\n",
       "      <td>0.000000</td>\n",
       "      <td>19.000000</td>\n",
       "      <td>184.000000</td>\n",
       "      <td>174.000000</td>\n",
       "      <td>0.0</td>\n",
       "      <td>1.000000</td>\n",
       "      <td>2.000000</td>\n",
       "      <td>2.000000</td>\n",
       "      <td>4.000000</td>\n",
       "      <td>23.000000</td>\n",
       "      <td>1.000000</td>\n",
       "      <td>1.000000</td>\n",
       "      <td>1.000000</td>\n",
       "      <td>1.000000</td>\n",
       "    </tr>\n",
       "    <tr>\n",
       "      <th>50%</th>\n",
       "      <td>1.000000</td>\n",
       "      <td>1.000000</td>\n",
       "      <td>1.000000</td>\n",
       "      <td>1.000000</td>\n",
       "      <td>0.000000</td>\n",
       "      <td>20.000000</td>\n",
       "      <td>187.000000</td>\n",
       "      <td>174.000000</td>\n",
       "      <td>0.0</td>\n",
       "      <td>1.000000</td>\n",
       "      <td>3.000000</td>\n",
       "      <td>4.000000</td>\n",
       "      <td>7.000000</td>\n",
       "      <td>47.000000</td>\n",
       "      <td>1.000000</td>\n",
       "      <td>1.000000</td>\n",
       "      <td>1.000000</td>\n",
       "      <td>2.000000</td>\n",
       "    </tr>\n",
       "    <tr>\n",
       "      <th>75%</th>\n",
       "      <td>1.000000</td>\n",
       "      <td>1.000000</td>\n",
       "      <td>1.000000</td>\n",
       "      <td>1.000000</td>\n",
       "      <td>1.000000</td>\n",
       "      <td>24.000000</td>\n",
       "      <td>193.000000</td>\n",
       "      <td>174.000000</td>\n",
       "      <td>0.0</td>\n",
       "      <td>1.000000</td>\n",
       "      <td>4.000000</td>\n",
       "      <td>8.000000</td>\n",
       "      <td>10.000000</td>\n",
       "      <td>90.000000</td>\n",
       "      <td>1.000000</td>\n",
       "      <td>1.000000</td>\n",
       "      <td>1.000000</td>\n",
       "      <td>2.000000</td>\n",
       "    </tr>\n",
       "    <tr>\n",
       "      <th>max</th>\n",
       "      <td>1.000000</td>\n",
       "      <td>1.000000</td>\n",
       "      <td>1.000000</td>\n",
       "      <td>1.000000</td>\n",
       "      <td>1.000000</td>\n",
       "      <td>119.000000</td>\n",
       "      <td>649.000000</td>\n",
       "      <td>187.000000</td>\n",
       "      <td>0.0</td>\n",
       "      <td>5.000000</td>\n",
       "      <td>14.000000</td>\n",
       "      <td>62.000000</td>\n",
       "      <td>25.000000</td>\n",
       "      <td>1693.000000</td>\n",
       "      <td>2.500000</td>\n",
       "      <td>2.000000</td>\n",
       "      <td>4.000000</td>\n",
       "      <td>11.000000</td>\n",
       "    </tr>\n",
       "  </tbody>\n",
       "</table>\n",
       "</div>"
      ],
      "text/plain": [
       "         has_gender  has_first_name  has_last_name     has_email  \\\n",
       "count  10000.000000    10000.000000   10000.000000  10000.000000   \n",
       "mean       0.547800        0.998000       0.995900      0.999200   \n",
       "std        0.497735        0.044679       0.063903      0.028274   \n",
       "min        0.000000        0.000000       0.000000      0.000000   \n",
       "25%        0.000000        1.000000       1.000000      1.000000   \n",
       "50%        1.000000        1.000000       1.000000      1.000000   \n",
       "75%        1.000000        1.000000       1.000000      1.000000   \n",
       "max        1.000000        1.000000       1.000000      1.000000   \n",
       "\n",
       "            has_dob  customer_age   account_age  account_last_updated  \\\n",
       "count  10000.000000   4064.000000  10000.000000          10000.000000   \n",
       "mean       0.406400     22.980807    245.816600            174.256700   \n",
       "std        0.491185      8.504064    130.090693              0.895145   \n",
       "min        0.000000     15.000000    174.000000            173.000000   \n",
       "25%        0.000000     19.000000    184.000000            174.000000   \n",
       "50%        0.000000     20.000000    187.000000            174.000000   \n",
       "75%        1.000000     24.000000    193.000000            174.000000   \n",
       "max        1.000000    119.000000    649.000000            187.000000   \n",
       "\n",
       "       account_status  app_downloads  unique_offer_clicked  \\\n",
       "count         10000.0   10000.000000          10000.000000   \n",
       "mean              0.0       1.032200              3.172400   \n",
       "std               0.0       0.186994              2.059831   \n",
       "min               0.0       1.000000              1.000000   \n",
       "25%               0.0       1.000000              2.000000   \n",
       "50%               0.0       1.000000              3.000000   \n",
       "75%               0.0       1.000000              4.000000   \n",
       "max               0.0       5.000000             14.000000   \n",
       "\n",
       "       total_offer_clicks  unique_offer_impressions  total_offer_impressions  \\\n",
       "count        10000.000000              10000.000000             10000.000000   \n",
       "mean             5.825600                  7.516500                68.429900   \n",
       "std              5.290424                  3.490264                69.591347   \n",
       "min              1.000000                  1.000000                 2.000000   \n",
       "25%              2.000000                  4.000000                23.000000   \n",
       "50%              4.000000                  7.000000                47.000000   \n",
       "75%              8.000000                 10.000000                90.000000   \n",
       "max             62.000000                 25.000000              1693.000000   \n",
       "\n",
       "       avg_redemptions  min_redemptions  max_redemptions  \\\n",
       "count     10000.000000     10000.000000     10000.000000   \n",
       "mean          1.003003         1.001300         1.005700   \n",
       "std           0.046453         0.036034         0.079172   \n",
       "min           1.000000         1.000000         1.000000   \n",
       "25%           1.000000         1.000000         1.000000   \n",
       "50%           1.000000         1.000000         1.000000   \n",
       "75%           1.000000         1.000000         1.000000   \n",
       "max           2.500000         2.000000         4.000000   \n",
       "\n",
       "       total_offers_redeemed  \n",
       "count           10000.000000  \n",
       "mean                1.880900  \n",
       "std                 1.187121  \n",
       "min                 1.000000  \n",
       "25%                 1.000000  \n",
       "50%                 2.000000  \n",
       "75%                 2.000000  \n",
       "max                11.000000  "
      ]
     },
     "execution_count": 249,
     "metadata": {},
     "output_type": "execute_result"
    }
   ],
   "source": [
    "rawdata.describe()"
   ]
  },
  {
   "cell_type": "code",
   "execution_count": 251,
   "metadata": {},
   "outputs": [
    {
     "data": {
      "image/png": "[encoded data removed]",
      "text/plain": [
       "<Figure size 432x288 with 20 Axes>"
      ]
     },
     "metadata": {
      "needs_background": "light"
     },
     "output_type": "display_data"
    }
   ],
   "source": [
    "rawdata.hist()\n",
    "plt.show()"
   ]
  },
  {
   "cell_type": "markdown",
   "metadata": {},
   "source": [
    "#### 2.2 data type"
   ]
  },
  {
   "cell_type": "code",
   "execution_count": 3,
   "metadata": {},
   "outputs": [
    {
     "data": {
      "text/plain": [
       "consumer_id                  object\n",
       "gender                       object\n",
       "has_gender                    int64\n",
       "has_first_name                int64\n",
       "has_last_name                 int64\n",
       "has_email                     int64\n",
       "has_dob                       int64\n",
       "customer_age                float64\n",
       "account_age                   int64\n",
       "account_last_updated          int64\n",
       "account_status                int64\n",
       "app_downloads                 int64\n",
       "unique_offer_clicked          int64\n",
       "total_offer_clicks            int64\n",
       "unique_offer_impressions      int64\n",
       "total_offer_impressions       int64\n",
       "avg_redemptions             float64\n",
       "min_redemptions               int64\n",
       "max_redemptions               int64\n",
       "total_offers_redeemed         int64\n",
       "dtype: object"
      ]
     },
     "execution_count": 3,
     "metadata": {},
     "output_type": "execute_result"
    }
   ],
   "source": [
    "rawdata.dtypes"
   ]
  },
  {
   "cell_type": "markdown",
   "metadata": {},
   "source": [
    "#### 2.3 missing values"
   ]
  },
  {
   "cell_type": "code",
   "execution_count": 15,
   "metadata": {},
   "outputs": [
    {
     "data": {
      "text/plain": [
       "consumer_id                    0\n",
       "gender                      4522\n",
       "has_gender                     0\n",
       "has_first_name                 0\n",
       "has_last_name                  0\n",
       "has_email                      0\n",
       "has_dob                        0\n",
       "customer_age                5936\n",
       "account_age                    0\n",
       "account_last_updated           0\n",
       "account_status                 0\n",
       "app_downloads                  0\n",
       "unique_offer_clicked           0\n",
       "total_offer_clicks             0\n",
       "unique_offer_impressions       0\n",
       "total_offer_impressions        0\n",
       "avg_redemptions                0\n",
       "min_redemptions                0\n",
       "max_redemptions                0\n",
       "total_offers_redeemed          0\n",
       "dtype: int64"
      ]
     },
     "execution_count": 15,
     "metadata": {},
     "output_type": "execute_result"
    }
   ],
   "source": [
    "rawdata.isnull().sum()"
   ]
  },
  {
   "cell_type": "markdown",
   "metadata": {},
   "source": [
    "#### 2.4  posssible outliers "
   ]
  },
  {
   "cell_type": "code",
   "execution_count": 37,
   "metadata": {},
   "outputs": [
    {
     "data": {
      "text/plain": [
       "169"
      ]
     },
     "execution_count": 37,
     "metadata": {},
     "output_type": "execute_result"
    }
   ],
   "source": [
    "#LOF attempts to harness the idea of nearest neighbors for outlier detection.but cannot handle factors and NAs\n",
    "from sklearn.neighbors import LocalOutlierFactor\n",
    "lof = LocalOutlierFactor()\n",
    "temp_data=rawdata.drop(['consumer_id','gender','customer_age'], axis = 1) \n",
    "yhat = lof.fit_predict(temp_data)\n",
    "len(yhat[yhat==-1])\n",
    "\n",
    "#we can also try IsolationForest, One-Class SVM. etc  Anyway, there are possible outliers."
   ]
  },
  {
   "cell_type": "markdown",
   "metadata": {},
   "source": [
    "### 3 Data preprocessing"
   ]
  },
  {
   "cell_type": "markdown",
   "metadata": {},
   "source": [
    "#### 3.1 impute gender"
   ]
  },
  {
   "cell_type": "code",
   "execution_count": 271,
   "metadata": {},
   "outputs": [
    {
     "data": {
      "text/html": [
       "<div>\n",
       "<style scoped>\n",
       "    .dataframe tbody tr th:only-of-type {\n",
       "        vertical-align: middle;\n",
       "    }\n",
       "\n",
       "    .dataframe tbody tr th {\n",
       "        vertical-align: top;\n",
       "    }\n",
       "\n",
       "    .dataframe thead th {\n",
       "        text-align: right;\n",
       "    }\n",
       "</style>\n",
       "<table border=\"1\" class=\"dataframe\">\n",
       "  <thead>\n",
       "    <tr style=\"text-align: right;\">\n",
       "      <th></th>\n",
       "      <th>consumer_id</th>\n",
       "      <th>gender</th>\n",
       "      <th>has_gender</th>\n",
       "      <th>has_first_name</th>\n",
       "      <th>has_last_name</th>\n",
       "      <th>has_email</th>\n",
       "      <th>has_dob</th>\n",
       "      <th>customer_age</th>\n",
       "      <th>account_age</th>\n",
       "      <th>account_last_updated</th>\n",
       "      <th>account_status</th>\n",
       "      <th>app_downloads</th>\n",
       "      <th>unique_offer_clicked</th>\n",
       "      <th>total_offer_clicks</th>\n",
       "      <th>unique_offer_impressions</th>\n",
       "      <th>total_offer_impressions</th>\n",
       "      <th>avg_redemptions</th>\n",
       "      <th>min_redemptions</th>\n",
       "      <th>max_redemptions</th>\n",
       "      <th>total_offers_redeemed</th>\n",
       "    </tr>\n",
       "  </thead>\n",
       "  <tbody>\n",
       "    <tr>\n",
       "      <th>0</th>\n",
       "      <td>1284b75c-ecae-4015-8e3d-359c0347ede8</td>\n",
       "      <td>No Gender</td>\n",
       "      <td>0</td>\n",
       "      <td>1</td>\n",
       "      <td>1</td>\n",
       "      <td>1</td>\n",
       "      <td>0</td>\n",
       "      <td>NaN</td>\n",
       "      <td>188</td>\n",
       "      <td>174</td>\n",
       "      <td>0</td>\n",
       "      <td>1</td>\n",
       "      <td>3</td>\n",
       "      <td>3</td>\n",
       "      <td>8</td>\n",
       "      <td>52</td>\n",
       "      <td>1.0</td>\n",
       "      <td>1</td>\n",
       "      <td>1</td>\n",
       "      <td>1</td>\n",
       "    </tr>\n",
       "    <tr>\n",
       "      <th>1</th>\n",
       "      <td>128af162-d2c3-4fe4-986c-359c8bdc6c04</td>\n",
       "      <td>No Gender</td>\n",
       "      <td>0</td>\n",
       "      <td>1</td>\n",
       "      <td>1</td>\n",
       "      <td>1</td>\n",
       "      <td>0</td>\n",
       "      <td>NaN</td>\n",
       "      <td>185</td>\n",
       "      <td>174</td>\n",
       "      <td>0</td>\n",
       "      <td>1</td>\n",
       "      <td>3</td>\n",
       "      <td>8</td>\n",
       "      <td>5</td>\n",
       "      <td>58</td>\n",
       "      <td>1.0</td>\n",
       "      <td>1</td>\n",
       "      <td>1</td>\n",
       "      <td>1</td>\n",
       "    </tr>\n",
       "    <tr>\n",
       "      <th>2</th>\n",
       "      <td>12aada5e-36eb-4e9e-8d62-359c076c1b40</td>\n",
       "      <td>No Gender</td>\n",
       "      <td>0</td>\n",
       "      <td>1</td>\n",
       "      <td>1</td>\n",
       "      <td>1</td>\n",
       "      <td>0</td>\n",
       "      <td>NaN</td>\n",
       "      <td>188</td>\n",
       "      <td>174</td>\n",
       "      <td>0</td>\n",
       "      <td>1</td>\n",
       "      <td>3</td>\n",
       "      <td>4</td>\n",
       "      <td>9</td>\n",
       "      <td>183</td>\n",
       "      <td>1.0</td>\n",
       "      <td>1</td>\n",
       "      <td>1</td>\n",
       "      <td>3</td>\n",
       "    </tr>\n",
       "    <tr>\n",
       "      <th>3</th>\n",
       "      <td>12c2e02f-bc79-4048-83ba-359cd3280dcf</td>\n",
       "      <td>No Gender</td>\n",
       "      <td>0</td>\n",
       "      <td>1</td>\n",
       "      <td>1</td>\n",
       "      <td>1</td>\n",
       "      <td>0</td>\n",
       "      <td>NaN</td>\n",
       "      <td>184</td>\n",
       "      <td>174</td>\n",
       "      <td>0</td>\n",
       "      <td>1</td>\n",
       "      <td>3</td>\n",
       "      <td>7</td>\n",
       "      <td>4</td>\n",
       "      <td>56</td>\n",
       "      <td>1.0</td>\n",
       "      <td>1</td>\n",
       "      <td>1</td>\n",
       "      <td>1</td>\n",
       "    </tr>\n",
       "    <tr>\n",
       "      <th>4</th>\n",
       "      <td>12fabdf0-0582-489e-a6d3-35509ab8ae6f</td>\n",
       "      <td>Female</td>\n",
       "      <td>1</td>\n",
       "      <td>1</td>\n",
       "      <td>1</td>\n",
       "      <td>1</td>\n",
       "      <td>1</td>\n",
       "      <td>22.0</td>\n",
       "      <td>572</td>\n",
       "      <td>173</td>\n",
       "      <td>0</td>\n",
       "      <td>1</td>\n",
       "      <td>4</td>\n",
       "      <td>6</td>\n",
       "      <td>7</td>\n",
       "      <td>83</td>\n",
       "      <td>1.0</td>\n",
       "      <td>1</td>\n",
       "      <td>1</td>\n",
       "      <td>3</td>\n",
       "    </tr>\n",
       "  </tbody>\n",
       "</table>\n",
       "</div>"
      ],
      "text/plain": [
       "                            consumer_id     gender  has_gender  \\\n",
       "0  1284b75c-ecae-4015-8e3d-359c0347ede8  No Gender           0   \n",
       "1  128af162-d2c3-4fe4-986c-359c8bdc6c04  No Gender           0   \n",
       "2  12aada5e-36eb-4e9e-8d62-359c076c1b40  No Gender           0   \n",
       "3  12c2e02f-bc79-4048-83ba-359cd3280dcf  No Gender           0   \n",
       "4  12fabdf0-0582-489e-a6d3-35509ab8ae6f     Female           1   \n",
       "\n",
       "   has_first_name  has_last_name  has_email  has_dob  customer_age  \\\n",
       "0               1              1          1        0           NaN   \n",
       "1               1              1          1        0           NaN   \n",
       "2               1              1          1        0           NaN   \n",
       "3               1              1          1        0           NaN   \n",
       "4               1              1          1        1          22.0   \n",
       "\n",
       "   account_age  account_last_updated  account_status  app_downloads  \\\n",
       "0          188                   174               0              1   \n",
       "1          185                   174               0              1   \n",
       "2          188                   174               0              1   \n",
       "3          184                   174               0              1   \n",
       "4          572                   173               0              1   \n",
       "\n",
       "   unique_offer_clicked  total_offer_clicks  unique_offer_impressions  \\\n",
       "0                     3                   3                         8   \n",
       "1                     3                   8                         5   \n",
       "2                     3                   4                         9   \n",
       "3                     3                   7                         4   \n",
       "4                     4                   6                         7   \n",
       "\n",
       "   total_offer_impressions  avg_redemptions  min_redemptions  max_redemptions  \\\n",
       "0                       52              1.0                1                1   \n",
       "1                       58              1.0                1                1   \n",
       "2                      183              1.0                1                1   \n",
       "3                       56              1.0                1                1   \n",
       "4                       83              1.0                1                1   \n",
       "\n",
       "   total_offers_redeemed  \n",
       "0                      1  \n",
       "1                      1  \n",
       "2                      3  \n",
       "3                      1  \n",
       "4                      3  "
      ]
     },
     "execution_count": 271,
     "metadata": {},
     "output_type": "execute_result"
    }
   ],
   "source": [
    "#dealing with missing values\n",
    "#- gender:Missing values can be treated as a separate category \n",
    "rawdata[\"gender\"].fillna(\"No Gender\", inplace = True)  # filling a null values using fillna()  \n",
    "rawdata[\"gender\"].replace({\"f\": \"Female\", \"m\": \"Male\"}, inplace=True)\n",
    "rawdata.head()"
   ]
  },
  {
   "cell_type": "markdown",
   "metadata": {},
   "source": [
    "#### 3.2 impute customer_age"
   ]
  },
  {
   "cell_type": "code",
   "execution_count": 272,
   "metadata": {},
   "outputs": [
    {
     "data": {
      "text/html": [
       "<div>\n",
       "<style scoped>\n",
       "    .dataframe tbody tr th:only-of-type {\n",
       "        vertical-align: middle;\n",
       "    }\n",
       "\n",
       "    .dataframe tbody tr th {\n",
       "        vertical-align: top;\n",
       "    }\n",
       "\n",
       "    .dataframe thead th {\n",
       "        text-align: right;\n",
       "    }\n",
       "</style>\n",
       "<table border=\"1\" class=\"dataframe\">\n",
       "  <thead>\n",
       "    <tr style=\"text-align: right;\">\n",
       "      <th></th>\n",
       "      <th>consumer_id</th>\n",
       "      <th>gender</th>\n",
       "      <th>has_gender</th>\n",
       "      <th>has_first_name</th>\n",
       "      <th>has_last_name</th>\n",
       "      <th>has_email</th>\n",
       "      <th>has_dob</th>\n",
       "      <th>customer_age</th>\n",
       "      <th>account_age</th>\n",
       "      <th>account_last_updated</th>\n",
       "      <th>account_status</th>\n",
       "      <th>app_downloads</th>\n",
       "      <th>unique_offer_clicked</th>\n",
       "      <th>total_offer_clicks</th>\n",
       "      <th>unique_offer_impressions</th>\n",
       "      <th>total_offer_impressions</th>\n",
       "      <th>avg_redemptions</th>\n",
       "      <th>min_redemptions</th>\n",
       "      <th>max_redemptions</th>\n",
       "      <th>total_offers_redeemed</th>\n",
       "    </tr>\n",
       "  </thead>\n",
       "  <tbody>\n",
       "    <tr>\n",
       "      <th>0</th>\n",
       "      <td>1284b75c-ecae-4015-8e3d-359c0347ede8</td>\n",
       "      <td>No Gender</td>\n",
       "      <td>0</td>\n",
       "      <td>1</td>\n",
       "      <td>1</td>\n",
       "      <td>1</td>\n",
       "      <td>0</td>\n",
       "      <td>22.566077</td>\n",
       "      <td>188</td>\n",
       "      <td>174</td>\n",
       "      <td>0</td>\n",
       "      <td>1</td>\n",
       "      <td>3</td>\n",
       "      <td>3</td>\n",
       "      <td>8</td>\n",
       "      <td>52</td>\n",
       "      <td>1.0</td>\n",
       "      <td>1</td>\n",
       "      <td>1</td>\n",
       "      <td>1</td>\n",
       "    </tr>\n",
       "    <tr>\n",
       "      <th>1</th>\n",
       "      <td>128af162-d2c3-4fe4-986c-359c8bdc6c04</td>\n",
       "      <td>No Gender</td>\n",
       "      <td>0</td>\n",
       "      <td>1</td>\n",
       "      <td>1</td>\n",
       "      <td>1</td>\n",
       "      <td>0</td>\n",
       "      <td>29.676713</td>\n",
       "      <td>185</td>\n",
       "      <td>174</td>\n",
       "      <td>0</td>\n",
       "      <td>1</td>\n",
       "      <td>3</td>\n",
       "      <td>8</td>\n",
       "      <td>5</td>\n",
       "      <td>58</td>\n",
       "      <td>1.0</td>\n",
       "      <td>1</td>\n",
       "      <td>1</td>\n",
       "      <td>1</td>\n",
       "    </tr>\n",
       "    <tr>\n",
       "      <th>2</th>\n",
       "      <td>12aada5e-36eb-4e9e-8d62-359c076c1b40</td>\n",
       "      <td>No Gender</td>\n",
       "      <td>0</td>\n",
       "      <td>1</td>\n",
       "      <td>1</td>\n",
       "      <td>1</td>\n",
       "      <td>0</td>\n",
       "      <td>21.469975</td>\n",
       "      <td>188</td>\n",
       "      <td>174</td>\n",
       "      <td>0</td>\n",
       "      <td>1</td>\n",
       "      <td>3</td>\n",
       "      <td>4</td>\n",
       "      <td>9</td>\n",
       "      <td>183</td>\n",
       "      <td>1.0</td>\n",
       "      <td>1</td>\n",
       "      <td>1</td>\n",
       "      <td>3</td>\n",
       "    </tr>\n",
       "    <tr>\n",
       "      <th>3</th>\n",
       "      <td>12c2e02f-bc79-4048-83ba-359cd3280dcf</td>\n",
       "      <td>No Gender</td>\n",
       "      <td>0</td>\n",
       "      <td>1</td>\n",
       "      <td>1</td>\n",
       "      <td>1</td>\n",
       "      <td>0</td>\n",
       "      <td>33.297549</td>\n",
       "      <td>184</td>\n",
       "      <td>174</td>\n",
       "      <td>0</td>\n",
       "      <td>1</td>\n",
       "      <td>3</td>\n",
       "      <td>7</td>\n",
       "      <td>4</td>\n",
       "      <td>56</td>\n",
       "      <td>1.0</td>\n",
       "      <td>1</td>\n",
       "      <td>1</td>\n",
       "      <td>1</td>\n",
       "    </tr>\n",
       "    <tr>\n",
       "      <th>4</th>\n",
       "      <td>12fabdf0-0582-489e-a6d3-35509ab8ae6f</td>\n",
       "      <td>Female</td>\n",
       "      <td>1</td>\n",
       "      <td>1</td>\n",
       "      <td>1</td>\n",
       "      <td>1</td>\n",
       "      <td>1</td>\n",
       "      <td>22.000000</td>\n",
       "      <td>572</td>\n",
       "      <td>173</td>\n",
       "      <td>0</td>\n",
       "      <td>1</td>\n",
       "      <td>4</td>\n",
       "      <td>6</td>\n",
       "      <td>7</td>\n",
       "      <td>83</td>\n",
       "      <td>1.0</td>\n",
       "      <td>1</td>\n",
       "      <td>1</td>\n",
       "      <td>3</td>\n",
       "    </tr>\n",
       "  </tbody>\n",
       "</table>\n",
       "</div>"
      ],
      "text/plain": [
       "                            consumer_id     gender  has_gender  \\\n",
       "0  1284b75c-ecae-4015-8e3d-359c0347ede8  No Gender           0   \n",
       "1  128af162-d2c3-4fe4-986c-359c8bdc6c04  No Gender           0   \n",
       "2  12aada5e-36eb-4e9e-8d62-359c076c1b40  No Gender           0   \n",
       "3  12c2e02f-bc79-4048-83ba-359cd3280dcf  No Gender           0   \n",
       "4  12fabdf0-0582-489e-a6d3-35509ab8ae6f     Female           1   \n",
       "\n",
       "   has_first_name  has_last_name  has_email  has_dob  customer_age  \\\n",
       "0               1              1          1        0     22.566077   \n",
       "1               1              1          1        0     29.676713   \n",
       "2               1              1          1        0     21.469975   \n",
       "3               1              1          1        0     33.297549   \n",
       "4               1              1          1        1     22.000000   \n",
       "\n",
       "   account_age  account_last_updated  account_status  app_downloads  \\\n",
       "0          188                   174               0              1   \n",
       "1          185                   174               0              1   \n",
       "2          188                   174               0              1   \n",
       "3          184                   174               0              1   \n",
       "4          572                   173               0              1   \n",
       "\n",
       "   unique_offer_clicked  total_offer_clicks  unique_offer_impressions  \\\n",
       "0                     3                   3                         8   \n",
       "1                     3                   8                         5   \n",
       "2                     3                   4                         9   \n",
       "3                     3                   7                         4   \n",
       "4                     4                   6                         7   \n",
       "\n",
       "   total_offer_impressions  avg_redemptions  min_redemptions  max_redemptions  \\\n",
       "0                       52              1.0                1                1   \n",
       "1                       58              1.0                1                1   \n",
       "2                      183              1.0                1                1   \n",
       "3                       56              1.0                1                1   \n",
       "4                       83              1.0                1                1   \n",
       "\n",
       "   total_offers_redeemed  \n",
       "0                      1  \n",
       "1                      1  \n",
       "2                      3  \n",
       "3                      1  \n",
       "4                      3  "
      ]
     },
     "execution_count": 272,
     "metadata": {},
     "output_type": "execute_result"
    }
   ],
   "source": [
    "from sklearn.impute import KNNImputer\n",
    "imputer = KNNImputer( weights=\"distance\")  # weight: distance or  uniform ; n_neighbors=5 default\n",
    "temp_data_im=rawdata.drop(['consumer_id','gender'], axis = 1)   #KNNImputer cannot deal with factors\n",
    "data_im=imputer.fit_transform(temp_data_im)\n",
    "imputed_age=pd.DataFrame(data_im)[5]\n",
    "rawdata['customer_age'] = imputed_age #replace age using imputed  data\n",
    "rawdata.head()\n"
   ]
  },
  {
   "cell_type": "code",
   "execution_count": 54,
   "metadata": {},
   "outputs": [],
   "source": [
    "#save data\n",
    "rawdata.to_csv('imputedData.csv',index=False)"
   ]
  },
  {
   "cell_type": "markdown",
   "metadata": {},
   "source": [
    "### 4 Data clustering "
   ]
  },
  {
   "cell_type": "code",
   "execution_count": 1,
   "metadata": {},
   "outputs": [],
   "source": [
    "from sklearn import metrics\n",
    "import time\n",
    "from sklearn import preprocessing\n",
    "from sklearn.preprocessing import StandardScaler\n",
    "from sklearn.cluster import MiniBatchKMeans \n",
    "from sklearn.cluster import KMeans\n",
    "from sklearn.cluster import DBSCAN\n",
    "from sklearn.cluster import AgglomerativeClustering"
   ]
  },
  {
   "cell_type": "code",
   "execution_count": 4,
   "metadata": {},
   "outputs": [
    {
     "data": {
      "text/html": [
       "<div>\n",
       "<style scoped>\n",
       "    .dataframe tbody tr th:only-of-type {\n",
       "        vertical-align: middle;\n",
       "    }\n",
       "\n",
       "    .dataframe tbody tr th {\n",
       "        vertical-align: top;\n",
       "    }\n",
       "\n",
       "    .dataframe thead th {\n",
       "        text-align: right;\n",
       "    }\n",
       "</style>\n",
       "<table border=\"1\" class=\"dataframe\">\n",
       "  <thead>\n",
       "    <tr style=\"text-align: right;\">\n",
       "      <th></th>\n",
       "      <th>gender</th>\n",
       "      <th>has_gender</th>\n",
       "      <th>has_first_name</th>\n",
       "      <th>has_last_name</th>\n",
       "      <th>has_email</th>\n",
       "      <th>has_dob</th>\n",
       "      <th>customer_age</th>\n",
       "      <th>account_age</th>\n",
       "      <th>account_last_updated</th>\n",
       "      <th>account_status</th>\n",
       "      <th>app_downloads</th>\n",
       "      <th>unique_offer_clicked</th>\n",
       "      <th>total_offer_clicks</th>\n",
       "      <th>unique_offer_impressions</th>\n",
       "      <th>total_offer_impressions</th>\n",
       "      <th>avg_redemptions</th>\n",
       "      <th>min_redemptions</th>\n",
       "      <th>max_redemptions</th>\n",
       "      <th>total_offers_redeemed</th>\n",
       "    </tr>\n",
       "  </thead>\n",
       "  <tbody>\n",
       "    <tr>\n",
       "      <th>0</th>\n",
       "      <td>0</td>\n",
       "      <td>0</td>\n",
       "      <td>1</td>\n",
       "      <td>1</td>\n",
       "      <td>1</td>\n",
       "      <td>0</td>\n",
       "      <td>22.566077</td>\n",
       "      <td>188</td>\n",
       "      <td>174</td>\n",
       "      <td>0</td>\n",
       "      <td>1</td>\n",
       "      <td>3</td>\n",
       "      <td>3</td>\n",
       "      <td>8</td>\n",
       "      <td>52</td>\n",
       "      <td>1.0</td>\n",
       "      <td>1</td>\n",
       "      <td>1</td>\n",
       "      <td>1</td>\n",
       "    </tr>\n",
       "    <tr>\n",
       "      <th>1</th>\n",
       "      <td>0</td>\n",
       "      <td>0</td>\n",
       "      <td>1</td>\n",
       "      <td>1</td>\n",
       "      <td>1</td>\n",
       "      <td>0</td>\n",
       "      <td>29.676713</td>\n",
       "      <td>185</td>\n",
       "      <td>174</td>\n",
       "      <td>0</td>\n",
       "      <td>1</td>\n",
       "      <td>3</td>\n",
       "      <td>8</td>\n",
       "      <td>5</td>\n",
       "      <td>58</td>\n",
       "      <td>1.0</td>\n",
       "      <td>1</td>\n",
       "      <td>1</td>\n",
       "      <td>1</td>\n",
       "    </tr>\n",
       "    <tr>\n",
       "      <th>2</th>\n",
       "      <td>0</td>\n",
       "      <td>0</td>\n",
       "      <td>1</td>\n",
       "      <td>1</td>\n",
       "      <td>1</td>\n",
       "      <td>0</td>\n",
       "      <td>21.469975</td>\n",
       "      <td>188</td>\n",
       "      <td>174</td>\n",
       "      <td>0</td>\n",
       "      <td>1</td>\n",
       "      <td>3</td>\n",
       "      <td>4</td>\n",
       "      <td>9</td>\n",
       "      <td>183</td>\n",
       "      <td>1.0</td>\n",
       "      <td>1</td>\n",
       "      <td>1</td>\n",
       "      <td>3</td>\n",
       "    </tr>\n",
       "    <tr>\n",
       "      <th>3</th>\n",
       "      <td>0</td>\n",
       "      <td>0</td>\n",
       "      <td>1</td>\n",
       "      <td>1</td>\n",
       "      <td>1</td>\n",
       "      <td>0</td>\n",
       "      <td>33.297549</td>\n",
       "      <td>184</td>\n",
       "      <td>174</td>\n",
       "      <td>0</td>\n",
       "      <td>1</td>\n",
       "      <td>3</td>\n",
       "      <td>7</td>\n",
       "      <td>4</td>\n",
       "      <td>56</td>\n",
       "      <td>1.0</td>\n",
       "      <td>1</td>\n",
       "      <td>1</td>\n",
       "      <td>1</td>\n",
       "    </tr>\n",
       "    <tr>\n",
       "      <th>4</th>\n",
       "      <td>1</td>\n",
       "      <td>1</td>\n",
       "      <td>1</td>\n",
       "      <td>1</td>\n",
       "      <td>1</td>\n",
       "      <td>1</td>\n",
       "      <td>22.000000</td>\n",
       "      <td>572</td>\n",
       "      <td>173</td>\n",
       "      <td>0</td>\n",
       "      <td>1</td>\n",
       "      <td>4</td>\n",
       "      <td>6</td>\n",
       "      <td>7</td>\n",
       "      <td>83</td>\n",
       "      <td>1.0</td>\n",
       "      <td>1</td>\n",
       "      <td>1</td>\n",
       "      <td>3</td>\n",
       "    </tr>\n",
       "    <tr>\n",
       "      <th>5</th>\n",
       "      <td>0</td>\n",
       "      <td>0</td>\n",
       "      <td>1</td>\n",
       "      <td>1</td>\n",
       "      <td>1</td>\n",
       "      <td>0</td>\n",
       "      <td>22.301341</td>\n",
       "      <td>193</td>\n",
       "      <td>174</td>\n",
       "      <td>0</td>\n",
       "      <td>1</td>\n",
       "      <td>1</td>\n",
       "      <td>1</td>\n",
       "      <td>1</td>\n",
       "      <td>7</td>\n",
       "      <td>1.0</td>\n",
       "      <td>1</td>\n",
       "      <td>1</td>\n",
       "      <td>1</td>\n",
       "    </tr>\n",
       "    <tr>\n",
       "      <th>6</th>\n",
       "      <td>1</td>\n",
       "      <td>1</td>\n",
       "      <td>1</td>\n",
       "      <td>1</td>\n",
       "      <td>1</td>\n",
       "      <td>1</td>\n",
       "      <td>17.000000</td>\n",
       "      <td>185</td>\n",
       "      <td>174</td>\n",
       "      <td>0</td>\n",
       "      <td>1</td>\n",
       "      <td>1</td>\n",
       "      <td>1</td>\n",
       "      <td>4</td>\n",
       "      <td>22</td>\n",
       "      <td>1.0</td>\n",
       "      <td>1</td>\n",
       "      <td>1</td>\n",
       "      <td>2</td>\n",
       "    </tr>\n",
       "    <tr>\n",
       "      <th>7</th>\n",
       "      <td>1</td>\n",
       "      <td>1</td>\n",
       "      <td>1</td>\n",
       "      <td>1</td>\n",
       "      <td>1</td>\n",
       "      <td>1</td>\n",
       "      <td>20.000000</td>\n",
       "      <td>502</td>\n",
       "      <td>176</td>\n",
       "      <td>0</td>\n",
       "      <td>1</td>\n",
       "      <td>2</td>\n",
       "      <td>3</td>\n",
       "      <td>11</td>\n",
       "      <td>62</td>\n",
       "      <td>1.0</td>\n",
       "      <td>1</td>\n",
       "      <td>1</td>\n",
       "      <td>1</td>\n",
       "    </tr>\n",
       "    <tr>\n",
       "      <th>8</th>\n",
       "      <td>0</td>\n",
       "      <td>0</td>\n",
       "      <td>1</td>\n",
       "      <td>1</td>\n",
       "      <td>1</td>\n",
       "      <td>0</td>\n",
       "      <td>25.021570</td>\n",
       "      <td>177</td>\n",
       "      <td>174</td>\n",
       "      <td>0</td>\n",
       "      <td>1</td>\n",
       "      <td>1</td>\n",
       "      <td>2</td>\n",
       "      <td>4</td>\n",
       "      <td>12</td>\n",
       "      <td>1.0</td>\n",
       "      <td>1</td>\n",
       "      <td>1</td>\n",
       "      <td>1</td>\n",
       "    </tr>\n",
       "    <tr>\n",
       "      <th>9</th>\n",
       "      <td>0</td>\n",
       "      <td>0</td>\n",
       "      <td>1</td>\n",
       "      <td>1</td>\n",
       "      <td>1</td>\n",
       "      <td>0</td>\n",
       "      <td>20.775598</td>\n",
       "      <td>188</td>\n",
       "      <td>177</td>\n",
       "      <td>0</td>\n",
       "      <td>1</td>\n",
       "      <td>3</td>\n",
       "      <td>4</td>\n",
       "      <td>4</td>\n",
       "      <td>49</td>\n",
       "      <td>1.0</td>\n",
       "      <td>1</td>\n",
       "      <td>1</td>\n",
       "      <td>2</td>\n",
       "    </tr>\n",
       "  </tbody>\n",
       "</table>\n",
       "</div>"
      ],
      "text/plain": [
       "   gender  has_gender  has_first_name  has_last_name  has_email  has_dob  \\\n",
       "0       0           0               1              1          1        0   \n",
       "1       0           0               1              1          1        0   \n",
       "2       0           0               1              1          1        0   \n",
       "3       0           0               1              1          1        0   \n",
       "4       1           1               1              1          1        1   \n",
       "5       0           0               1              1          1        0   \n",
       "6       1           1               1              1          1        1   \n",
       "7       1           1               1              1          1        1   \n",
       "8       0           0               1              1          1        0   \n",
       "9       0           0               1              1          1        0   \n",
       "\n",
       "   customer_age  account_age  account_last_updated  account_status  \\\n",
       "0     22.566077          188                   174               0   \n",
       "1     29.676713          185                   174               0   \n",
       "2     21.469975          188                   174               0   \n",
       "3     33.297549          184                   174               0   \n",
       "4     22.000000          572                   173               0   \n",
       "5     22.301341          193                   174               0   \n",
       "6     17.000000          185                   174               0   \n",
       "7     20.000000          502                   176               0   \n",
       "8     25.021570          177                   174               0   \n",
       "9     20.775598          188                   177               0   \n",
       "\n",
       "   app_downloads  unique_offer_clicked  total_offer_clicks  \\\n",
       "0              1                     3                   3   \n",
       "1              1                     3                   8   \n",
       "2              1                     3                   4   \n",
       "3              1                     3                   7   \n",
       "4              1                     4                   6   \n",
       "5              1                     1                   1   \n",
       "6              1                     1                   1   \n",
       "7              1                     2                   3   \n",
       "8              1                     1                   2   \n",
       "9              1                     3                   4   \n",
       "\n",
       "   unique_offer_impressions  total_offer_impressions  avg_redemptions  \\\n",
       "0                         8                       52              1.0   \n",
       "1                         5                       58              1.0   \n",
       "2                         9                      183              1.0   \n",
       "3                         4                       56              1.0   \n",
       "4                         7                       83              1.0   \n",
       "5                         1                        7              1.0   \n",
       "6                         4                       22              1.0   \n",
       "7                        11                       62              1.0   \n",
       "8                         4                       12              1.0   \n",
       "9                         4                       49              1.0   \n",
       "\n",
       "   min_redemptions  max_redemptions  total_offers_redeemed  \n",
       "0                1                1                      1  \n",
       "1                1                1                      1  \n",
       "2                1                1                      3  \n",
       "3                1                1                      1  \n",
       "4                1                1                      3  \n",
       "5                1                1                      1  \n",
       "6                1                1                      2  \n",
       "7                1                1                      1  \n",
       "8                1                1                      1  \n",
       "9                1                1                      2  "
      ]
     },
     "execution_count": 4,
     "metadata": {},
     "output_type": "execute_result"
    }
   ],
   "source": [
    "#read imputed data for clustring \n",
    "# As this is an unsupervised learning , we donot split data at this stage\n",
    "newdata=pd.read_csv('imputedData.csv')\n",
    "newdata[\"gender\"].replace({\"No Gender\":0, \"Female\": 1, \"Male\": 2}, inplace=True)\n",
    "newdata[\"gender\"] = newdata[\"gender\"].astype(int)   #could not convert string to float: 'Male'\n",
    "modelingdata=newdata.drop(['consumer_id'], axis = 1)  #could not convert string to float: '7e1177c6-d055-4dbd-b8e5-359e650f3b8a'\n",
    "modelingdata.head(10)"
   ]
  },
  {
   "cell_type": "markdown",
   "metadata": {},
   "source": [
    "#### 4.1 Find a proper K according to  silhouette_score  and Elbow Method using KMeans"
   ]
  },
  {
   "cell_type": "code",
   "execution_count": 67,
   "metadata": {},
   "outputs": [
    {
     "name": "stdout",
     "output_type": "stream",
     "text": [
      "The silhouette Coefficients are:\n",
      "[0.753787834217144, 0.6204128143987157, 0.6168473917777628, 0.5627534421729515, 0.5564184406955109, 0.5518302469807027, 0.5025475372572326, 0.49954482136823264, 0.499852184852621, 0.4988328381053609, 0.48276090454197246, 0.4531943556091688, 0.43662294271235097, 0.4411601179424839, 0.4381629329487295, 0.4050688582101797, 0.4065836569922438, 0.39278377419195465]\n"
     ]
    },
    {
     "data": {
      "image/png": "[encoded data removed]",
      "text/plain": [
       "<Figure size 432x288 with 1 Axes>"
      ]
     },
     "metadata": {
      "needs_background": "light"
     },
     "output_type": "display_data"
    }
   ],
   "source": [
    "# we do not know the the ground truth classes, so we pick the silhouette Coefficient as the \n",
    "scores = []\n",
    "for k in range(2, 20):\n",
    "    labels = KMeans(n_clusters=k).fit(modelingdata).labels_   \n",
    "    score = metrics.silhouette_score(modelingdata, labels)\n",
    "    scores.append(score)\n",
    "    \n",
    "print('The silhouette Coefficients are:')\n",
    "print(scores)\n",
    "      \n",
    "plt.plot(list(range(2, 20)), scores)\n",
    "plt.xlabel(\"Number of Clusters Initialized\")\n",
    "plt.ylabel(\"Sihouette Score\")\n",
    "plt.show()"
   ]
  },
  {
   "cell_type": "code",
   "execution_count": 68,
   "metadata": {},
   "outputs": [
    {
     "data": {
      "image/png": "[encoded data removed]",
      "text/plain": [
       "<Figure size 432x288 with 1 Axes>"
      ]
     },
     "metadata": {
      "needs_background": "light"
     },
     "output_type": "display_data"
    }
   ],
   "source": [
    "#double check by Sum of squared distances\n",
    "sse = []\n",
    "list_k = list(range(1, 20))\n",
    "for k in list_k:\n",
    "    km = KMeans(n_clusters=k)\n",
    "    km.fit(modelingdata)\n",
    "    sse.append(km.inertia_)  #Sum of squared distances of samples to their closest cluster center.\n",
    "# Plot sse against k\n",
    "plt.plot(list_k, sse,'-o')\n",
    "plt.xlabel(r'Number of clusters *k*')\n",
    "plt.ylabel('Sum of squared distance');"
   ]
  },
  {
   "cell_type": "markdown",
   "metadata": {},
   "source": [
    "The maximum silhouette coefficient is achieved when K = 2 (best cohesive, well-separated clustering for the data)\n",
    "and  SSE starts to flatten out and forming an elbow from K=2."
   ]
  },
  {
   "cell_type": "markdown",
   "metadata": {},
   "source": [
    "#### 4.2  KMeans"
   ]
  },
  {
   "cell_type": "code",
   "execution_count": 5,
   "metadata": {},
   "outputs": [
    {
     "name": "stdout",
     "output_type": "stream",
     "text": [
      "3.2344424724578857\n",
      "0.2377924913040833 0.753787834217144\n"
     ]
    },
    {
     "data": {
      "text/plain": [
       "1592"
      ]
     },
     "execution_count": 5,
     "metadata": {},
     "output_type": "execute_result"
    }
   ],
   "source": [
    "scaler = StandardScaler()\n",
    "X_scaled = scaler.fit_transform(modelingdata)\n",
    "\n",
    "# no standardization\n",
    "t0 = time.time()\n",
    "labels = KMeans(n_clusters=2,random_state=100).fit(modelingdata).labels_\n",
    "score_kmeans = metrics.silhouette_score(modelingdata, labels)\n",
    "t_kmean = time.time() - t0\n",
    "print(t_kmean)\n",
    "\n",
    "# standardization\n",
    "labels_s = KMeans(n_clusters=2).fit(X_scaled).labels_\n",
    "score_scaled = metrics.silhouette_score(X_scaled, labels_s)\n",
    "\n",
    "print(score_scaled, score_kmeans)\n",
    "len(labels[labels==1]) "
   ]
  },
  {
   "cell_type": "markdown",
   "metadata": {},
   "source": [
    "score_kmeans > score_scaled, so donot standardize data for KMeans."
   ]
  },
  {
   "cell_type": "markdown",
   "metadata": {},
   "source": [
    "#### 4.3  MiniBatchKMeans"
   ]
  },
  {
   "cell_type": "code",
   "execution_count": 6,
   "metadata": {},
   "outputs": [
    {
     "name": "stdout",
     "output_type": "stream",
     "text": [
      "1.7880218029022217\n",
      "0.22518967628840497 0.7542144052684804\n"
     ]
    },
    {
     "data": {
      "text/plain": [
       "1578"
      ]
     },
     "execution_count": 6,
     "metadata": {},
     "output_type": "execute_result"
    }
   ],
   "source": [
    "# no standardization\n",
    "t0_mini = time.time()\n",
    "labels_mini = MiniBatchKMeans(n_clusters=2,random_state=100).fit(modelingdata).labels_\n",
    "score_mini = metrics.silhouette_score(modelingdata, labels_mini)\n",
    "t_batch_mini = time.time() - t0_mini\n",
    "print(t_batch_mini)\n",
    "\n",
    "#standardization\n",
    "labels_s_mini = MiniBatchKMeans(n_clusters=2).fit(X_scaled).labels_\n",
    "score_scaled_mini = metrics.silhouette_score(X_scaled, labels_s_mini)\n",
    "\n",
    "print(score_scaled_mini, score_mini)\n",
    "\n",
    "len(labels_mini[labels_mini==1]) "
   ]
  },
  {
   "cell_type": "markdown",
   "metadata": {},
   "source": [
    "#### 4.4 DBSCAN  "
   ]
  },
  {
   "cell_type": "code",
   "execution_count": 73,
   "metadata": {},
   "outputs": [
    {
     "name": "stdout",
     "output_type": "stream",
     "text": [
      "error: may be inappropriate parameter combinations\n",
      "error: may be inappropriate parameter combinations\n",
      "error: may be inappropriate parameter combinations\n",
      "error: may be inappropriate parameter combinations\n",
      "error: may be inappropriate parameter combinations\n",
      "error: may be inappropriate parameter combinations\n",
      "error: may be inappropriate parameter combinations\n",
      "error: may be inappropriate parameter combinations\n",
      "error: may be inappropriate parameter combinations\n",
      "error: may be inappropriate parameter combinations\n",
      "error: may be inappropriate parameter combinations\n",
      "error: may be inappropriate parameter combinations\n",
      "error: may be inappropriate parameter combinations\n",
      "error: may be inappropriate parameter combinations\n",
      "error: may be inappropriate parameter combinations\n",
      "error: may be inappropriate parameter combinations\n",
      "error: may be inappropriate parameter combinations\n",
      "error: may be inappropriate parameter combinations\n",
      "error: may be inappropriate parameter combinations\n",
      "error: may be inappropriate parameter combinations\n"
     ]
    }
   ],
   "source": [
    "import warnings\n",
    "warnings.filterwarnings('ignore')\n",
    "\n",
    "#tune critical parameters\n",
    "res = [] \n",
    "for eps in np.arange(0.1,3,0.2):\n",
    "    for min_samples in range(2,20,1):\n",
    "        try:\n",
    "                dbscan = DBSCAN(eps = eps, min_samples = min_samples).fit(modelingdata) # fit model\n",
    "                n_clusters = len([i for i in set(dbscan.labels_) if i != -1])  #Number of clusters in labels,\n",
    "                outliners = np.sum(np.where(dbscan.labels_ == -1, 1,0))   #Number of noises,\n",
    "                stats = str(pd.Series([i for i in dbscan.labels_ if i != -1]).value_counts().values)  #sample size \n",
    "                silhouette_score = metrics.silhouette_score(modelingdata, dbscan.labels_)\n",
    "        except Exception:\n",
    "                print(\"error: may be inappropriate parameter combinations\") \n",
    "        else:   \n",
    "                res.append({'eps':eps,'min_samples':min_samples,'n_clusters':n_clusters,'outliners':outliners,'silhouette_score':silhouette_score,'stats':stats})   \n",
    "        \n",
    "df = pd.DataFrame(res)"
   ]
  },
  {
   "cell_type": "code",
   "execution_count": 74,
   "metadata": {},
   "outputs": [
    {
     "data": {
      "text/plain": [
       "-0.3994297983439995"
      ]
     },
     "execution_count": 74,
     "metadata": {},
     "output_type": "execute_result"
    }
   ],
   "source": [
    "#select the parameters when  n_clusters=2\n",
    "clusters2=df.loc[df.n_clusters == 2, :]\n",
    "max(clusters2[\"silhouette_score\"])"
   ]
  },
  {
   "cell_type": "markdown",
   "metadata": {},
   "source": [
    "The silhouette_score is so low, so that DBSCAN had bad performence."
   ]
  },
  {
   "cell_type": "code",
   "execution_count": 75,
   "metadata": {},
   "outputs": [],
   "source": [
    "#how about the scaled data?\n",
    "res_scaled = [] \n",
    "for eps in np.arange(0.1,3,0.2):\n",
    "    for min_samples in range(2,20,1):\n",
    "        try:\n",
    "                dbscan = DBSCAN(eps = eps, min_samples = min_samples).fit(X_scaled) # fit model\n",
    "                n_clusters = len([i for i in set(dbscan.labels_) if i != -1])  #Number of clusters in labels,\n",
    "                outliners = np.sum(np.where(dbscan.labels_ == -1, 1,0))   #Number of noises,\n",
    "                stats = str(pd.Series([i for i in dbscan.labels_ if i != -1]).value_counts().values)  #sample size \n",
    "                silhouette_score = metrics.silhouette_score(X_scaled, dbscan.labels_)\n",
    "        except Exception:\n",
    "                print(\"error: may be inappropriate parameter combinations\") \n",
    "        else:   \n",
    "                res_scaled.append({'eps':eps,'min_samples':min_samples,'n_clusters':n_clusters,'outliners':outliners,'silhouette_score':silhouette_score,'stats':stats})   \n",
    "        \n",
    "df_scaled = pd.DataFrame(res_scaled)"
   ]
  },
  {
   "cell_type": "code",
   "execution_count": 76,
   "metadata": {
    "scrolled": true
   },
   "outputs": [
    {
     "name": "stdout",
     "output_type": "stream",
     "text": [
      "-0.3994297983439995\n"
     ]
    },
    {
     "data": {
      "text/html": [
       "<div>\n",
       "<style scoped>\n",
       "    .dataframe tbody tr th:only-of-type {\n",
       "        vertical-align: middle;\n",
       "    }\n",
       "\n",
       "    .dataframe tbody tr th {\n",
       "        vertical-align: top;\n",
       "    }\n",
       "\n",
       "    .dataframe thead th {\n",
       "        text-align: right;\n",
       "    }\n",
       "</style>\n",
       "<table border=\"1\" class=\"dataframe\">\n",
       "  <thead>\n",
       "    <tr style=\"text-align: right;\">\n",
       "      <th></th>\n",
       "      <th>eps</th>\n",
       "      <th>min_samples</th>\n",
       "      <th>n_clusters</th>\n",
       "      <th>outliners</th>\n",
       "      <th>silhouette_score</th>\n",
       "      <th>stats</th>\n",
       "    </tr>\n",
       "  </thead>\n",
       "  <tbody>\n",
       "    <tr>\n",
       "      <th>105</th>\n",
       "      <td>1.3</td>\n",
       "      <td>19</td>\n",
       "      <td>2</td>\n",
       "      <td>9939</td>\n",
       "      <td>-0.39943</td>\n",
       "      <td>[42 19]</td>\n",
       "    </tr>\n",
       "  </tbody>\n",
       "</table>\n",
       "</div>"
      ],
      "text/plain": [
       "     eps  min_samples  n_clusters  outliners  silhouette_score    stats\n",
       "105  1.3           19           2       9939          -0.39943  [42 19]"
      ]
     },
     "execution_count": 76,
     "metadata": {},
     "output_type": "execute_result"
    }
   ],
   "source": [
    "cluster2=df_scaled.loc[df_scaled.n_clusters == 2, :]\n",
    "cluster2.head(5)\n",
    "max_s=max(clusters2[\"silhouette_score\"])\n",
    "print(max_s)\n",
    "clusters2[clusters2['silhouette_score']==max_s]"
   ]
  },
  {
   "cell_type": "code",
   "execution_count": 7,
   "metadata": {},
   "outputs": [
    {
     "name": "stdout",
     "output_type": "stream",
     "text": [
      "7.1202521324157715\n"
     ]
    }
   ],
   "source": [
    "t0 = time.time()\n",
    "dbscan = DBSCAN(eps = 1.3, min_samples = 19).fit(X_scaled)\n",
    "score_dbscan = metrics.silhouette_score(X_scaled, dbscan.labels_)\n",
    "t_dbscan = time.time() - t0\n",
    "print(t_dbscan)"
   ]
  },
  {
   "cell_type": "markdown",
   "metadata": {},
   "source": [
    "In general, the performence of DBSCAN is not good."
   ]
  },
  {
   "cell_type": "markdown",
   "metadata": {},
   "source": [
    "#### 4.5 Hierarchical clustering"
   ]
  },
  {
   "cell_type": "code",
   "execution_count": 8,
   "metadata": {},
   "outputs": [
    {
     "name": "stdout",
     "output_type": "stream",
     "text": [
      "6.1156439781188965\n",
      "0.7471352168081863 0.7838194423221685\n"
     ]
    }
   ],
   "source": [
    "#The AgglomerativeClustering object performs a hierarchical clustering using a bottom up approach\n",
    "# linkage  default=”ward”\n",
    "# we could try differerent linkages {“ward”, “complete”, “average”, “single”} \n",
    "# no standardization    \n",
    "\n",
    "hierarchical = AgglomerativeClustering(n_clusters=2).fit(modelingdata)\n",
    "score_hier = metrics.silhouette_score(modelingdata, hierarchical.labels_)\n",
    "\n",
    "#standardization\n",
    "t0 = time.time()\n",
    "hierarchical_scaled = AgglomerativeClustering(n_clusters=2).fit(X_scaled)\n",
    "score_scaled_hier  = metrics.silhouette_score(X_scaled, hierarchical_scaled.labels_)\n",
    "t_hier = time.time() - t0\n",
    "print(t_hier)\n",
    "\n",
    "print(score_hier, score_scaled_hier)"
   ]
  },
  {
   "cell_type": "markdown",
   "metadata": {},
   "source": [
    "#### 4.6 Choose the final clustering methed and label the records"
   ]
  },
  {
   "cell_type": "code",
   "execution_count": 9,
   "metadata": {},
   "outputs": [
    {
     "name": "stdout",
     "output_type": "stream",
     "text": [
      "+---------------------+---------------------+--------------------+\n",
      "|        Methed       |   Silhouette score  |  Running time(s)   |\n",
      "+---------------------+---------------------+--------------------+\n",
      "|        KMeans       |  0.753787834217144  | 3.2344424724578857 |\n",
      "|   MiniBatchKMeans   |  0.7542144052684804 | 1.7880218029022217 |\n",
      "| hierarchical(ward)  |  0.7471352168081863 | 6.1156439781188965 |\n",
      "|       DBSCAN        | 0.06552850946379754 | 7.1202521324157715 |\n",
      "+---------------------+---------------------+--------------------+\n"
     ]
    }
   ],
   "source": [
    "from prettytable import PrettyTable\n",
    "\n",
    "relusts = [[\"KMeans\", score_kmeans,t_kmean], \n",
    "           [\"MiniBatchKMeans\", score_mini, t_batch_mini], \n",
    "           [\"hierarchical(ward) \", score_hier, t_hier],\n",
    "           [\"DBSCAN \", score_dbscan, t_dbscan]]\n",
    "\n",
    "table = PrettyTable(['Methed','Silhouette score','Running time(s)'])\n",
    " \n",
    "for rec in relusts:\n",
    "    table.add_row(rec)   \n",
    "print(table)"
   ]
  },
  {
   "cell_type": "markdown",
   "metadata": {},
   "source": [
    " choose MiniBatchKMeans as the clustering methed in this case."
   ]
  },
  {
   "cell_type": "code",
   "execution_count": 10,
   "metadata": {},
   "outputs": [],
   "source": [
    "#attach labels to dataset \n",
    "labels = MiniBatchKMeans(n_clusters=2,random_state=100).fit(modelingdata).labels_\n",
    "newdata['Label'] = labels"
   ]
  },
  {
   "cell_type": "code",
   "execution_count": 11,
   "metadata": {},
   "outputs": [
    {
     "name": "stdout",
     "output_type": "stream",
     "text": [
      "8422\n",
      "1578\n"
     ]
    }
   ],
   "source": [
    "print(len(labels[labels==0]))\n",
    "print(len(labels[labels==1]))"
   ]
  },
  {
   "cell_type": "code",
   "execution_count": 12,
   "metadata": {},
   "outputs": [],
   "source": [
    "#save data  --???? the numbers in each clusters changing \n",
    "newdata.to_csv('labeldData.csv',index=False)"
   ]
  },
  {
   "cell_type": "markdown",
   "metadata": {},
   "source": [
    "### 5 Date spliting "
   ]
  },
  {
   "cell_type": "code",
   "execution_count": 13,
   "metadata": {},
   "outputs": [],
   "source": [
    "from sklearn.model_selection import train_test_split\n",
    "from sklearn.tree import DecisionTreeClassifier\n",
    "from imblearn.over_sampling import SMOTE\n",
    "from sklearn.utils import resample\n",
    "\n",
    "from sklearn import linear_model\n",
    "from sklearn.linear_model import LogisticRegression\n",
    "from sklearn.metrics import confusion_matrix\n",
    "from sklearn.metrics import cohen_kappa_score\n",
    "from sklearn.metrics import accuracy_score\n",
    "from sklearn.metrics import recall_score\n",
    "from sklearn.metrics import precision_score\n",
    "from sklearn.metrics import f1_score"
   ]
  },
  {
   "cell_type": "markdown",
   "metadata": {},
   "source": [
    "#### 5.1 is there any unbalanced problems?"
   ]
  },
  {
   "cell_type": "code",
   "execution_count": 29,
   "metadata": {},
   "outputs": [
    {
     "data": {
      "text/plain": [
       "0    8422\n",
       "1    1578\n",
       "Name: Label, dtype: int64"
      ]
     },
     "execution_count": 29,
     "metadata": {},
     "output_type": "execute_result"
    }
   ],
   "source": [
    "#load the labeled data\n",
    "classedData = pd.read_csv('labeldData.csv')  #possile risk: Type of gender is int here\n",
    "#classedData[\"Label\"].replace({0:,\"No Gender\":0, 1:,\"Female\", 2:\"Male\"}, inplace=True)\n",
    "stat=classedData['Label'].value_counts() \n",
    "stat"
   ]
  },
  {
   "cell_type": "code",
   "execution_count": 15,
   "metadata": {},
   "outputs": [
    {
     "data": {
      "text/plain": [
       "<BarContainer object of 2 artists>"
      ]
     },
     "execution_count": 15,
     "metadata": {},
     "output_type": "execute_result"
    },
    {
     "data": {
      "image/png": "[encoded data removed]",
      "text/plain": [
       "<Figure size 432x288 with 1 Axes>"
      ]
     },
     "metadata": {
      "needs_background": "light"
     },
     "output_type": "display_data"
    }
   ],
   "source": [
    "plt.bar(range(2), [8414,1586],tick_label=['0','1'])"
   ]
  },
  {
   "cell_type": "markdown",
   "metadata": {},
   "source": [
    "#### 5.2 split dataset for training and testing "
   ]
  },
  {
   "cell_type": "code",
   "execution_count": 16,
   "metadata": {},
   "outputs": [],
   "source": [
    "def print_class_balance(data):\n",
    "    N =data['Label'].count()\n",
    "    z = data.groupby(['Label']).agg({'Label': 'size'})\n",
    "    z['Ratio']=z['Label']/ N  \n",
    "    z.rename(columns={'Label':'Count'}, inplace=True)\n",
    "    print(N) \n",
    "    print(z) "
   ]
  },
  {
   "cell_type": "code",
   "execution_count": 17,
   "metadata": {},
   "outputs": [],
   "source": [
    "def print_modelperformence(y_test, y_pred):\n",
    "    F1=f1_score(y_test, y_pred)\n",
    "    Ks=cohen_kappa_score(y_test, y_pred)\n",
    "    accuracy=accuracy_score(y_test, y_pred) \n",
    "    recall=recall_score(y_test, y_pred)  \n",
    "    precision=precision_score(y_test, y_pred) \n",
    "    print('precision:       {}'.format(precision))\n",
    "    print('recall:          {}'.format(recall))\n",
    "    print('accuracy:        {}'.format(accuracy))\n",
    "    print('f1_score:        {}'.format(F1))\n",
    "    print('kappa_score:     {}'.format(Ks))\n",
    "    "
   ]
  },
  {
   "cell_type": "markdown",
   "metadata": {},
   "source": [
    "##### 5.2.1 Random split "
   ]
  },
  {
   "cell_type": "code",
   "execution_count": 28,
   "metadata": {},
   "outputs": [],
   "source": [
    "Y=classedData[\"Label\"]\n",
    "X_i_train,X_i_test, y_train, y_test =train_test_split(classedData,Y,test_size=0.3, random_state=100) \n",
    "X_train=X_i_train.iloc[:, 1:20]  #except ID\n",
    "X_test=X_i_test.iloc[:, 1:20]"
   ]
  },
  {
   "cell_type": "code",
   "execution_count": 19,
   "metadata": {},
   "outputs": [
    {
     "name": "stdout",
     "output_type": "stream",
     "text": [
      "7000\n",
      "       Count     Ratio\n",
      "Label                 \n",
      "0       5895  0.842143\n",
      "1       1105  0.157857\n"
     ]
    }
   ],
   "source": [
    "print_class_balance(X_i_train) "
   ]
  },
  {
   "cell_type": "markdown",
   "metadata": {},
   "source": [
    "#### 5.2.2 over sampling"
   ]
  },
  {
   "cell_type": "code",
   "execution_count": 20,
   "metadata": {},
   "outputs": [
    {
     "name": "stdout",
     "output_type": "stream",
     "text": [
      "11790\n",
      "       Count  Ratio\n",
      "Label              \n",
      "0       5895    0.5\n",
      "1       5895    0.5\n"
     ]
    }
   ],
   "source": [
    "#over sampling using SMOTE\n",
    "os = SMOTE(random_state=0)\n",
    "columns = X_train.columns\n",
    "os_data_X,os_data_y=os.fit_sample(X_train, y_train)\n",
    "os_data_X = pd.DataFrame(data=os_data_X,columns=columns )\n",
    "os_data_y = pd.DataFrame(data=os_data_y,columns=['Label'])\n",
    "print_class_balance(os_data_y)                         "
   ]
  },
  {
   "cell_type": "markdown",
   "metadata": {},
   "source": [
    "#### 5.2.4 downsampling"
   ]
  },
  {
   "cell_type": "code",
   "execution_count": 21,
   "metadata": {},
   "outputs": [
    {
     "name": "stdout",
     "output_type": "stream",
     "text": [
      "2210\n",
      "       Count  Ratio\n",
      "Label              \n",
      "0       1105    0.5\n",
      "1       1105    0.5\n"
     ]
    }
   ],
   "source": [
    "#reference  https://elitedatascience.com/imbalanced-classes \n",
    "\n",
    "# Separate majority and minority classes\n",
    "df_majority = X_i_train[X_i_train['Label']==0]\n",
    "df_minority = X_i_train[X_i_train['Label']==1]\n",
    "\n",
    "# Downsample majority class\n",
    "df_majority_downsampled = resample(df_majority, \n",
    "                                 replace=False,      # sample without replacement\n",
    "                                 n_samples=1105,     # to match minority class\n",
    "                                 random_state=100)   ## reproducible result\n",
    "\n",
    "# Combine minority class with downsampled majority class\n",
    "ds_data = pd.concat([df_majority_downsampled, df_minority])\n",
    " \n",
    "# Display new class counts\n",
    "print_class_balance(ds_data) \n",
    "\n",
    "ds_data_X=ds_data.iloc[:, 1:20]\n",
    "ds_data_y=ds_data[\"Label\"] "
   ]
  },
  {
   "cell_type": "markdown",
   "metadata": {},
   "source": [
    "#### 5.2.5 choose a sampling method"
   ]
  },
  {
   "cell_type": "code",
   "execution_count": 22,
   "metadata": {},
   "outputs": [
    {
     "name": "stdout",
     "output_type": "stream",
     "text": [
      "[0 1]\n",
      "precision:       0.9874739039665971\n",
      "recall:          1.0\n",
      "accuracy:        0.998\n",
      "f1_score:        0.9936974789915966\n",
      "kappa_score:     0.9925089455675015\n"
     ]
    },
    {
     "data": {
      "text/plain": [
       "array([[2521,    6],\n",
       "       [   0,  473]], dtype=int64)"
      ]
     },
     "execution_count": 22,
     "metadata": {},
     "output_type": "execute_result"
    }
   ],
   "source": [
    "#based on f1_score got from LogisticRegression(default pramaters) \n",
    "\n",
    "#Random split(no sampling)\n",
    "\n",
    "#====failed to converge so turn to use scaled data\n",
    "# solution :  StandardScaler  or  increase max_iter\n",
    "\n",
    "scaler = StandardScaler()\n",
    "X_scaled_train  = scaler.fit_transform(X_train) \n",
    "X_scaled_test = scaler.fit_transform(X_test) \n",
    "\n",
    "logreg = LogisticRegression(max_iter=2000)\n",
    "logreg.fit(X_scaled_train,y_train)\n",
    "y_pred = logreg.predict(X_scaled_test)\n",
    "\n",
    "print( np.unique(y_pred))\n",
    "\n",
    "\n",
    "print_modelperformence(y_test, y_pred)\n",
    "confusion_matrix(y_test, y_pred)\n",
    "# X-REAL Y-predict\n",
    "# true negatives     false positives  \n",
    "# false negatives    true positives"
   ]
  },
  {
   "cell_type": "code",
   "execution_count": 23,
   "metadata": {},
   "outputs": [
    {
     "name": "stdout",
     "output_type": "stream",
     "text": [
      "[0 1]\n",
      "precision:       0.7080838323353293\n",
      "recall:          1.0\n",
      "accuracy:        0.935\n",
      "f1_score:        0.8290972830850132\n",
      "kappa_score:     0.790403113928985\n"
     ]
    },
    {
     "data": {
      "text/plain": [
       "array([[2332,  195],\n",
       "       [   0,  473]], dtype=int64)"
      ]
     },
     "execution_count": 23,
     "metadata": {},
     "output_type": "execute_result"
    }
   ],
   "source": [
    "#how about  over sampling\n",
    "X_scaled_train_os  = scaler.fit_transform(os_data_X) \n",
    "X_scaled_test = scaler.fit_transform(X_test)\n",
    "\n",
    "logreg_up = LogisticRegression()\n",
    "logreg_up.fit(X_scaled_train_os,os_data_y[\"Label\"])\n",
    "y_pred = logreg_up.predict(X_scaled_test)\n",
    "print(np.unique(y_pred))\n",
    " \n",
    "print_modelperformence(y_test, y_pred)\n",
    "confusion_matrix(y_test, y_pred) "
   ]
  },
  {
   "cell_type": "code",
   "execution_count": 24,
   "metadata": {},
   "outputs": [
    {
     "name": "stdout",
     "output_type": "stream",
     "text": [
      "precision:       0.6935483870967742\n",
      "recall:          1.0\n",
      "accuracy:        0.9303333333333333\n",
      "f1_score:        0.8190476190476191\n",
      "kappa_score:     0.7776460124518233\n"
     ]
    },
    {
     "data": {
      "text/plain": [
       "array([[2318,  209],\n",
       "       [   0,  473]], dtype=int64)"
      ]
     },
     "execution_count": 24,
     "metadata": {},
     "output_type": "execute_result"
    }
   ],
   "source": [
    "# check down sampling \n",
    "X_scaled_train_ds  = scaler.fit_transform(ds_data_X) \n",
    "X_scaled_test = scaler.fit_transform(X_test)\n",
    "logreg_down = LogisticRegression()\n",
    "logreg_down.fit(X_scaled_train_ds,ds_data_y)\n",
    "y_pred = logreg_down.predict(X_scaled_test)\n",
    "\n",
    "F1=f1_score(y_test, y_pred)\n",
    "Ks=cohen_kappa_score(y_test, y_pred)\n",
    "accuracy=accuracy_score(y_test, y_pred) \n",
    "recall=recall_score(y_test, y_pred)  \n",
    "precision=precision_score(y_test, y_pred) \n",
    "\n",
    "print_modelperformence(y_test, y_pred)\n",
    "confusion_matrix(y_test, y_pred)"
   ]
  },
  {
   "cell_type": "markdown",
   "metadata": {},
   "source": [
    "Random spliting  gets higher f1 score and kappa score, so maybe we donot need resampling."
   ]
  },
  {
   "cell_type": "markdown",
   "metadata": {},
   "source": [
    "### 6 Data classification "
   ]
  },
  {
   "cell_type": "code",
   "execution_count": 25,
   "metadata": {},
   "outputs": [],
   "source": [
    "from sklearn.model_selection import GridSearchCV\n",
    "from sklearn import preprocessing\n",
    "from sklearn.pipeline import make_pipeline\n",
    "from sklearn.model_selection import cross_val_score\n",
    "from sklearn.ensemble import RandomForestClassifier\n",
    "from sklearn import svm\n",
    "from sklearn.svm import LinearSVC\n",
    "from sklearn import tree\n",
    "from sklearn.tree import DecisionTreeClassifier\n",
    "from sklearn.tree import export_text\n",
    "from sklearn.linear_model import SGDClassifier\n"
   ]
  },
  {
   "cell_type": "markdown",
   "metadata": {},
   "source": [
    "#### 6.1 Logistic regression"
   ]
  },
  {
   "cell_type": "code",
   "execution_count": 26,
   "metadata": {},
   "outputs": [
    {
     "name": "stdout",
     "output_type": "stream",
     "text": [
      "Best parameters set according to the given traing data:\n",
      "{'C': 1, 'penalty': 'l2'}\n"
     ]
    }
   ],
   "source": [
    "import warnings\n",
    "warnings.filterwarnings('ignore')\n",
    "\n",
    "tuned_parameters = [{'penalty':['l1','l2', 'elasticnet','none'],'C': [0.01,0.1,1]}]\n",
    "clf = GridSearchCV(LogisticRegression(random_state=100), tuned_parameters, scoring='f1_macro')\n",
    "# https://scikit-learn.org/stable/modules/model_evaluation.html#scoring-parameter\n",
    " \n",
    "clf.fit(X_scaled_train, y_train)\n",
    "print(\"Best parameters set according to the given traing data:\")\n",
    "print(clf.best_params_)   "
   ]
  },
  {
   "cell_type": "code",
   "execution_count": 30,
   "metadata": {},
   "outputs": [
    {
     "name": "stdout",
     "output_type": "stream",
     "text": [
      "mean:    0.9965270070533571\n",
      "std:     0.002674866888779763\n",
      "0.3611257076263428\n"
     ]
    }
   ],
   "source": [
    "t0 = time.time()\n",
    "lr = make_pipeline(preprocessing.StandardScaler(), LogisticRegression(C=1, penalty='l2',random_state=100))\n",
    "scores_lr=cross_val_score(lr, X_train, y_train, cv=10,scoring='f1_macro')   \n",
    "# return an array of scores of the estimator for each run of the cross validation.\n",
    "print('mean:    {}'.format(scores_lr.mean()))\n",
    "print('std:     {}'.format(scores_lr.std()))\n",
    "t_lr = time.time() - t0\n",
    "print(t_lr)"
   ]
  },
  {
   "cell_type": "markdown",
   "metadata": {},
   "source": [
    "#### 6.2 Decision tree"
   ]
  },
  {
   "cell_type": "code",
   "execution_count": 31,
   "metadata": {},
   "outputs": [
    {
     "name": "stdout",
     "output_type": "stream",
     "text": [
      "Best parameters set according to the given traing data:\n",
      "{'max_depth': 8, 'min_samples_split': 2}\n"
     ]
    }
   ],
   "source": [
    "#X_scaled_train  or X_train   got the same results\n",
    "tuned_parameters = [{'max_depth':[2,4,8,None],'min_samples_split': [2,3,4]}]\n",
    "clf = GridSearchCV(DecisionTreeClassifier(random_state=100), tuned_parameters, scoring='f1_macro')\n",
    "clf.fit(X_scaled_train, y_train)\n",
    "print(\"Best parameters set according to the given traing data:\")\n",
    "print(clf.best_params_) "
   ]
  },
  {
   "cell_type": "code",
   "execution_count": 32,
   "metadata": {},
   "outputs": [
    {
     "name": "stdout",
     "output_type": "stream",
     "text": [
      "mean:    0.9978467486955861\n",
      "std:     0.002356748706993965\n",
      "0.19148945808410645\n"
     ]
    }
   ],
   "source": [
    "t0 = time.time()\n",
    "dt = make_pipeline(preprocessing.StandardScaler(), DecisionTreeClassifier(random_state=100,max_depth=8,min_samples_split=2)) \n",
    "scores_dt=cross_val_score(dt, X_train, y_train, cv=10,scoring='f1_macro') \n",
    "print('mean:    {}'.format(scores_dt.mean()))\n",
    "print('std:     {}'.format(scores_dt.std()))\n",
    "t_dt = time.time() - t0\n",
    "print(t_dt)"
   ]
  },
  {
   "cell_type": "markdown",
   "metadata": {},
   "source": [
    "#### 6.3 RandomForest "
   ]
  },
  {
   "cell_type": "code",
   "execution_count": 33,
   "metadata": {},
   "outputs": [
    {
     "name": "stdout",
     "output_type": "stream",
     "text": [
      "Best parameters set according to the given traing data::\n",
      "{'max_depth': 8, 'min_samples_split': 2, 'n_estimators': 200}\n"
     ]
    }
   ],
   "source": [
    "# criterion{“gini”, “entropy”}\n",
    "# n_estimators int, default=100  The number of trees in the forest.        \n",
    "        \n",
    "#max_depth int, default=None\n",
    "#The maximum depth of the tree. If None, \n",
    "#then nodes are expanded until all leaves are pure or until all leaves contain less than min_samples_split samples        \n",
    " \n",
    "# min_samples_split int or float, default=2\n",
    "#The minimum number of samples required to split an internal node:    \n",
    "  \n",
    "tuned_parameters = [{'max_depth':[2,4,8,None],'min_samples_split': [2,3,4],'n_estimators': [10,50,100,200]}]\n",
    "clf = GridSearchCV(RandomForestClassifier(random_state=100), tuned_parameters, scoring='f1_macro') \n",
    "clf.fit(X_scaled_train, y_train)\n",
    "print(\"Best parameters set according to the given traing data::\")\n",
    "print(clf.best_params_)   \n"
   ]
  },
  {
   "cell_type": "code",
   "execution_count": 42,
   "metadata": {},
   "outputs": [
    {
     "name": "stdout",
     "output_type": "stream",
     "text": [
      "mean:    0.997846711390376\n",
      "std:     0.002356773711784948\n",
      "5.855315208435059\n"
     ]
    }
   ],
   "source": [
    "t0 = time.time()\n",
    "rf = make_pipeline(preprocessing.StandardScaler(), RandomForestClassifier(random_state=100,max_depth=8,min_samples_split=2, n_estimators=200)) \n",
    "scores_rf=cross_val_score(rf, X_train, y_train, cv=10,scoring='f1_macro') \n",
    "print('mean:    {}'.format(scores_rf.mean()))\n",
    "print('std:     {}'.format(scores_rf.std()))\n",
    "t_rf = time.time() - t0\n",
    "print(t_rf)"
   ]
  },
  {
   "cell_type": "code",
   "execution_count": 43,
   "metadata": {},
   "outputs": [
    {
     "data": {
      "text/plain": [
       "array([4.16377487e-03, 2.44732528e-03, 5.00281336e-06, 3.15274496e-04,\n",
       "       3.67570924e-07, 4.28344498e-03, 1.45115912e-02, 7.80971822e-01,\n",
       "       9.62794940e-02, 0.00000000e+00, 6.73609385e-04, 6.23067811e-03,\n",
       "       9.25463681e-03, 5.40817550e-02, 2.03119365e-02, 1.19976340e-04,\n",
       "       1.67563845e-06, 9.13964838e-05, 6.25623868e-03])"
      ]
     },
     "execution_count": 43,
     "metadata": {},
     "output_type": "execute_result"
    }
   ],
   "source": [
    "forest = RandomForestClassifier(random_state=100,max_depth=8,min_samples_split=2, n_estimators=200)\n",
    "forest = forest.fit(X_scaled_train, y_train)\n",
    "forest.feature_importances_"
   ]
  },
  {
   "cell_type": "markdown",
   "metadata": {},
   "source": [
    "#### 6.4 SVC_SGDClassifier "
   ]
  },
  {
   "cell_type": "code",
   "execution_count": 36,
   "metadata": {},
   "outputs": [
    {
     "name": "stdout",
     "output_type": "stream",
     "text": [
      "Best parameters set according to the given traing data::\n",
      "{'learning_rate': 'optimal', 'max_iter': 1000, 'penalty': 'l2'}\n"
     ]
    }
   ],
   "source": [
    "#This estimator implements regularized linear models with stochastic gradient descent (SGD) learning\n",
    "tuned_parameters = [{'penalty':['l1','l2','elasticnet'], 'max_iter':[1000,1500,2000],\n",
    "                    'learning_rate':['optimal']}]  \n",
    "clf = GridSearchCV(SGDClassifier(random_state=100), tuned_parameters, scoring='f1_macro') \n",
    "clf.fit(X_scaled_train, y_train)\n",
    "print(\"Best parameters set according to the given traing data::\")\n",
    "print(clf.best_params_) "
   ]
  },
  {
   "cell_type": "code",
   "execution_count": 44,
   "metadata": {},
   "outputs": [
    {
     "name": "stdout",
     "output_type": "stream",
     "text": [
      "mean:    0.9957049032507108\n",
      "std:     0.0034176174941516987\n",
      "0.1667189598083496\n"
     ]
    }
   ],
   "source": [
    "t0 = time.time()\n",
    "sgd = make_pipeline(preprocessing.StandardScaler(), SGDClassifier(random_state=100,penalty='l2',max_iter=1000,learning_rate='optimal')) \n",
    "scores_sgd=cross_val_score(sgd, X_train, y_train, cv=10,scoring='f1_macro') \n",
    "print('mean:    {}'.format(scores_sgd.mean()))\n",
    "print('std:     {}'.format(scores_sgd.std()))\n",
    "t_sgd= time.time() - t0\n",
    "print(t_sgd)"
   ]
  },
  {
   "cell_type": "markdown",
   "metadata": {},
   "source": [
    "#### 6.5 LinearSVC "
   ]
  },
  {
   "cell_type": "code",
   "execution_count": 38,
   "metadata": {},
   "outputs": [
    {
     "name": "stdout",
     "output_type": "stream",
     "text": [
      "Best parameters set according to the given traing data::\n",
      "{'C': 10, 'max_iter': 2000, 'penalty': 'l2'}\n"
     ]
    }
   ],
   "source": [
    "tuned_parameters = [{'penalty':['l1','l2'], 'C': [0.01,0.1, 1, 10, 100, 1000],'max_iter':[1000,1500,2000]}]\n",
    "clf = GridSearchCV(LinearSVC(random_state=100,), tuned_parameters, scoring='f1_macro') \n",
    "clf.fit(X_scaled_train, y_train)\n",
    "print(\"Best parameters set according to the given traing data::\")\n",
    "print(clf.best_params_)  "
   ]
  },
  {
   "cell_type": "code",
   "execution_count": 45,
   "metadata": {},
   "outputs": [
    {
     "name": "stdout",
     "output_type": "stream",
     "text": [
      "mean:    0.9965269428891087\n",
      "std:     0.0026769193344267023\n",
      "0.242828369140625\n"
     ]
    }
   ],
   "source": [
    "#SVC and NuSVC are similar methods, but accept slightly different sets of parameters \n",
    "#and have different mathematical formulations (see section Mathematical formulation). \n",
    "#On the other hand, LinearSVC is another (faster) implementation of Support Vector Classification for the case of a linear kernel.\n",
    "\n",
    "t0 = time.time()\n",
    "svc = make_pipeline(preprocessing.StandardScaler(), LinearSVC(random_state=100,C= 10, max_iter= 2000, penalty='l2'))  \n",
    "scores_svc=cross_val_score(svc, X_train, y_train, cv=10,scoring='f1_macro')\n",
    "print('mean:    {}'.format(scores_svc.mean()))\n",
    "print('std:     {}'.format(scores_svc.std()))\n",
    "t_svc= time.time() - t0\n",
    "print(t_svc)\n"
   ]
  },
  {
   "cell_type": "markdown",
   "metadata": {},
   "source": [
    "#### 6.4 Model persistence"
   ]
  },
  {
   "cell_type": "code",
   "execution_count": 46,
   "metadata": {},
   "outputs": [
    {
     "name": "stdout",
     "output_type": "stream",
     "text": [
      "+---------------------+--------------------+---------------------+\n",
      "|        Methed       |      F1_macro      |   Running time(s)   |\n",
      "+---------------------+--------------------+---------------------+\n",
      "| Logistic regression | 0.9965270070533571 |  0.3611257076263428 |\n",
      "|    Decision tree    | 0.9978467486955861 | 0.19148945808410645 |\n",
      "|     RandomForest    | 0.997846711390376  |  5.855315208435059  |\n",
      "|    SGDClassifier    | 0.9957049032507108 |  0.1667189598083496 |\n",
      "|      LinearSVC      | 0.9965269428891087 |  0.242828369140625  |\n",
      "+---------------------+--------------------+---------------------+\n"
     ]
    }
   ],
   "source": [
    "from prettytable import PrettyTable\n",
    "\n",
    "relusts_CF = [ [\"Logistic regression\", scores_lr.mean(),t_lr], \n",
    "               [\"Decision tree\", scores_dt.mean(),t_dt], \n",
    "               [\"RandomForest\", scores_rf.mean(), t_rf], \n",
    "               [\"SGDClassifier \", scores_sgd.mean(),t_sgd ], \n",
    "               [\"LinearSVC \", scores_svc.mean(),t_svc] \n",
    "             ]\n",
    "\n",
    "table_CF = PrettyTable(['Methed','F1_macro','Running time(s)'])\n",
    " \n",
    "\n",
    "for rec in relusts_CF:\n",
    "    table_CF.add_row(rec)   \n",
    "print(table_CF)"
   ]
  },
  {
   "cell_type": "markdown",
   "metadata": {},
   "source": [
    "Accoring to the results above, the F1 scores are similar,\n",
    "we will choose \n",
    "    * Decision tree: timesaving  and  easy to interpret.\n",
    "    * SGDClassifier: for large datasets \n",
    "    * Logistic regression:  easy to interpret\n",
    "     (potential risk: high intercorrelations among the predictors violate the logistic regression assumption.)"
   ]
  },
  {
   "cell_type": "code",
   "execution_count": 47,
   "metadata": {},
   "outputs": [
    {
     "data": {
      "text/plain": [
       "['sgdModel.joblib']"
      ]
     },
     "execution_count": 47,
     "metadata": {},
     "output_type": "execute_result"
    }
   ],
   "source": [
    "from joblib import dump, load\n",
    "lgModel = LogisticRegression(C=1, penalty='l2',random_state=100)  # penalty: default=’l2’  C:  default=1.0\n",
    "lgModel.fit(X_scaled_train,y_train)\n",
    "dump(lgModel, 'lgModel.joblib') \n",
    "\n",
    "treeModel = DecisionTreeClassifier(random_state=100,max_depth=8,min_samples_split=2)\n",
    "treeModel.fit(X_scaled_train,y_train)\n",
    "dump(treeModel, 'treeModel.joblib') \n",
    "\n",
    "sgdModel = SGDClassifier(random_state=100,penalty='l2',max_iter=1000,learning_rate='optimal')\n",
    "sgdModel.fit(X_scaled_train,y_train)\n",
    "dump(sgdModel, 'sgdModel.joblib') \n"
   ]
  },
  {
   "cell_type": "markdown",
   "metadata": {},
   "source": [
    "### 7 Model  predication  "
   ]
  },
  {
   "cell_type": "code",
   "execution_count": 48,
   "metadata": {
    "scrolled": true
   },
   "outputs": [
    {
     "name": "stdout",
     "output_type": "stream",
     "text": [
      "[0 1]\n",
      "precision:       0.9874739039665971\n",
      "recall:          1.0\n",
      "accuracy:        0.998\n",
      "f1_score:        0.9936974789915966\n",
      "kappa_score:     0.9925089455675015\n"
     ]
    },
    {
     "data": {
      "text/plain": [
       "array([[2521,    6],\n",
       "       [   0,  473]], dtype=int64)"
      ]
     },
     "execution_count": 48,
     "metadata": {},
     "output_type": "execute_result"
    }
   ],
   "source": [
    "lgModel = load('lgModel.joblib') \n",
    "y_pred = lgModel.predict(X_scaled_test)\n",
    "print( np.unique(y_pred)) \n",
    "\n",
    "print_modelperformence(y_test, y_pred)\n",
    "confusion_matrix(y_test, y_pred)\n",
    " "
   ]
  },
  {
   "cell_type": "code",
   "execution_count": 50,
   "metadata": {},
   "outputs": [
    {
     "name": "stdout",
     "output_type": "stream",
     "text": [
      "[0 1]\n",
      "precision:       0.9957356076759062\n",
      "recall:          0.9873150105708245\n",
      "accuracy:        0.9973333333333333\n",
      "f1_score:        0.9915074309978769\n",
      "kappa_score:     0.9899258120005406\n"
     ]
    },
    {
     "data": {
      "text/plain": [
       "array([[2525,    2],\n",
       "       [   6,  467]], dtype=int64)"
      ]
     },
     "execution_count": 50,
     "metadata": {},
     "output_type": "execute_result"
    }
   ],
   "source": [
    "sgdModel = load('sgdModel.joblib') \n",
    "y_pred = sgdModel.predict(X_scaled_test)\n",
    "print( np.unique(y_pred))\n",
    " \n",
    "print_modelperformence(y_test, y_pred)\n",
    "confusion_matrix(y_test, y_pred)"
   ]
  },
  {
   "cell_type": "code",
   "execution_count": 51,
   "metadata": {},
   "outputs": [
    {
     "name": "stdout",
     "output_type": "stream",
     "text": [
      "[0 1]\n",
      "precision:       0.9936575052854123\n",
      "recall:          0.9936575052854123\n",
      "accuracy:        0.998\n",
      "f1_score:        0.9936575052854123\n",
      "kappa_score:     0.9924703268129152\n"
     ]
    },
    {
     "data": {
      "text/plain": [
       "array([[2524,    3],\n",
       "       [   3,  470]], dtype=int64)"
      ]
     },
     "execution_count": 51,
     "metadata": {},
     "output_type": "execute_result"
    }
   ],
   "source": [
    "treeModel = load('treeModel.joblib') \n",
    "y_pred = treeModel.predict(X_scaled_test)\n",
    "print( np.unique(y_pred))\n",
    " \n",
    "print_modelperformence(y_test, y_pred)\n",
    "confusion_matrix(y_test, y_pred)"
   ]
  },
  {
   "cell_type": "markdown",
   "metadata": {},
   "source": [
    "### 8 Results and findings  "
   ]
  },
  {
   "cell_type": "markdown",
   "metadata": {},
   "source": [
    "#### Possible most important feature for consumer classifcation. \n",
    "* account_age(9.87993234e-01)\n",
    "* total_offer_impressions(9.82229670e-03)"
   ]
  },
  {
   "cell_type": "code",
   "execution_count": 60,
   "metadata": {},
   "outputs": [
    {
     "data": {
      "text/plain": [
       "array([4.16377487e-03, 2.44732528e-03, 5.00281336e-06, 3.15274496e-04,\n",
       "       3.67570924e-07, 4.28344498e-03, 1.45115912e-02, 7.80971822e-01,\n",
       "       9.62794940e-02, 0.00000000e+00, 6.73609385e-04, 6.23067811e-03,\n",
       "       9.25463681e-03, 5.40817550e-02, 2.03119365e-02, 1.19976340e-04,\n",
       "       1.67563845e-06, 9.13964838e-05, 6.25623868e-03])"
      ]
     },
     "execution_count": 60,
     "metadata": {},
     "output_type": "execute_result"
    }
   ],
   "source": [
    "forest.feature_importances_"
   ]
  },
  {
   "cell_type": "code",
   "execution_count": 59,
   "metadata": {},
   "outputs": [
    {
     "data": {
      "text/plain": [
       "array([0.00000000e+00, 0.00000000e+00, 0.00000000e+00, 0.00000000e+00,\n",
       "       0.00000000e+00, 1.07461266e-03, 0.00000000e+00, 9.87993234e-01,\n",
       "       0.00000000e+00, 0.00000000e+00, 0.00000000e+00, 1.07023926e-03,\n",
       "       0.00000000e+00, 0.00000000e+00, 9.82229670e-03, 0.00000000e+00,\n",
       "       0.00000000e+00, 0.00000000e+00, 3.96174938e-05])"
      ]
     },
     "execution_count": 59,
     "metadata": {},
     "output_type": "execute_result"
    }
   ],
   "source": [
    "treeModel.feature_importances_"
   ]
  },
  {
   "cell_type": "code",
   "execution_count": 58,
   "metadata": {},
   "outputs": [
    {
     "data": {
      "image/png": "[encoded data removed]",
      "text/plain": [
       "<Figure size 1800x720 with 1 Axes>"
      ]
     },
     "metadata": {
      "needs_background": "light"
     },
     "output_type": "display_data"
    }
   ],
   "source": [
    "plt.figure(figsize=(25,10))\n",
    "a = tree.plot_tree(treeModel, \n",
    "              feature_names=list(X_train.columns),\n",
    "              filled=True, \n",
    "              rounded=True, \n",
    "              fontsize=14)"
   ]
  },
  {
   "cell_type": "markdown",
   "metadata": {},
   "source": [
    " #lgModel.coef_\n",
    "Logistic Regression in Scikit tells us the coefficients only  without the significance "
   ]
  },
  {
   "cell_type": "code",
   "execution_count": 244,
   "metadata": {},
   "outputs": [
    {
     "data": {
      "text/html": [
       "<div>\n",
       "<style scoped>\n",
       "    .dataframe tbody tr th:only-of-type {\n",
       "        vertical-align: middle;\n",
       "    }\n",
       "\n",
       "    .dataframe tbody tr th {\n",
       "        vertical-align: top;\n",
       "    }\n",
       "\n",
       "    .dataframe thead th {\n",
       "        text-align: right;\n",
       "    }\n",
       "</style>\n",
       "<table border=\"1\" class=\"dataframe\">\n",
       "  <thead>\n",
       "    <tr style=\"text-align: right;\">\n",
       "      <th></th>\n",
       "      <th>gender</th>\n",
       "      <th>has_gender</th>\n",
       "      <th>has_first_name</th>\n",
       "      <th>has_last_name</th>\n",
       "      <th>has_email</th>\n",
       "      <th>has_dob</th>\n",
       "      <th>customer_age</th>\n",
       "      <th>account_age</th>\n",
       "      <th>account_last_updated</th>\n",
       "      <th>account_status</th>\n",
       "      <th>app_downloads</th>\n",
       "      <th>unique_offer_clicked</th>\n",
       "      <th>total_offer_clicks</th>\n",
       "      <th>unique_offer_impressions</th>\n",
       "      <th>total_offer_impressions</th>\n",
       "      <th>avg_redemptions</th>\n",
       "      <th>min_redemptions</th>\n",
       "      <th>max_redemptions</th>\n",
       "      <th>total_offers_redeemed</th>\n",
       "    </tr>\n",
       "  </thead>\n",
       "  <tbody>\n",
       "    <tr>\n",
       "      <th>1191</th>\n",
       "      <td>0</td>\n",
       "      <td>0</td>\n",
       "      <td>1</td>\n",
       "      <td>1</td>\n",
       "      <td>1</td>\n",
       "      <td>0</td>\n",
       "      <td>23.339507</td>\n",
       "      <td>193</td>\n",
       "      <td>174</td>\n",
       "      <td>0</td>\n",
       "      <td>1</td>\n",
       "      <td>2</td>\n",
       "      <td>2</td>\n",
       "      <td>11</td>\n",
       "      <td>63</td>\n",
       "      <td>1.0</td>\n",
       "      <td>1</td>\n",
       "      <td>1</td>\n",
       "      <td>2</td>\n",
       "    </tr>\n",
       "    <tr>\n",
       "      <th>4458</th>\n",
       "      <td>0</td>\n",
       "      <td>0</td>\n",
       "      <td>1</td>\n",
       "      <td>1</td>\n",
       "      <td>1</td>\n",
       "      <td>0</td>\n",
       "      <td>22.064391</td>\n",
       "      <td>181</td>\n",
       "      <td>177</td>\n",
       "      <td>0</td>\n",
       "      <td>1</td>\n",
       "      <td>2</td>\n",
       "      <td>9</td>\n",
       "      <td>4</td>\n",
       "      <td>49</td>\n",
       "      <td>1.0</td>\n",
       "      <td>1</td>\n",
       "      <td>1</td>\n",
       "      <td>1</td>\n",
       "    </tr>\n",
       "    <tr>\n",
       "      <th>1131</th>\n",
       "      <td>1</td>\n",
       "      <td>1</td>\n",
       "      <td>1</td>\n",
       "      <td>1</td>\n",
       "      <td>1</td>\n",
       "      <td>1</td>\n",
       "      <td>21.000000</td>\n",
       "      <td>176</td>\n",
       "      <td>174</td>\n",
       "      <td>0</td>\n",
       "      <td>1</td>\n",
       "      <td>1</td>\n",
       "      <td>2</td>\n",
       "      <td>6</td>\n",
       "      <td>39</td>\n",
       "      <td>1.0</td>\n",
       "      <td>1</td>\n",
       "      <td>1</td>\n",
       "      <td>1</td>\n",
       "    </tr>\n",
       "    <tr>\n",
       "      <th>9562</th>\n",
       "      <td>2</td>\n",
       "      <td>1</td>\n",
       "      <td>1</td>\n",
       "      <td>1</td>\n",
       "      <td>1</td>\n",
       "      <td>1</td>\n",
       "      <td>25.000000</td>\n",
       "      <td>188</td>\n",
       "      <td>174</td>\n",
       "      <td>0</td>\n",
       "      <td>1</td>\n",
       "      <td>5</td>\n",
       "      <td>9</td>\n",
       "      <td>9</td>\n",
       "      <td>74</td>\n",
       "      <td>1.0</td>\n",
       "      <td>1</td>\n",
       "      <td>1</td>\n",
       "      <td>2</td>\n",
       "    </tr>\n",
       "    <tr>\n",
       "      <th>6579</th>\n",
       "      <td>0</td>\n",
       "      <td>0</td>\n",
       "      <td>1</td>\n",
       "      <td>1</td>\n",
       "      <td>1</td>\n",
       "      <td>0</td>\n",
       "      <td>20.014236</td>\n",
       "      <td>521</td>\n",
       "      <td>173</td>\n",
       "      <td>0</td>\n",
       "      <td>1</td>\n",
       "      <td>4</td>\n",
       "      <td>7</td>\n",
       "      <td>13</td>\n",
       "      <td>150</td>\n",
       "      <td>1.0</td>\n",
       "      <td>1</td>\n",
       "      <td>1</td>\n",
       "      <td>3</td>\n",
       "    </tr>\n",
       "  </tbody>\n",
       "</table>\n",
       "</div>"
      ],
      "text/plain": [
       "      gender  has_gender  has_first_name  has_last_name  has_email  has_dob  \\\n",
       "1191       0           0               1              1          1        0   \n",
       "4458       0           0               1              1          1        0   \n",
       "1131       1           1               1              1          1        1   \n",
       "9562       2           1               1              1          1        1   \n",
       "6579       0           0               1              1          1        0   \n",
       "\n",
       "      customer_age  account_age  account_last_updated  account_status  \\\n",
       "1191     23.339507          193                   174               0   \n",
       "4458     22.064391          181                   177               0   \n",
       "1131     21.000000          176                   174               0   \n",
       "9562     25.000000          188                   174               0   \n",
       "6579     20.014236          521                   173               0   \n",
       "\n",
       "      app_downloads  unique_offer_clicked  total_offer_clicks  \\\n",
       "1191              1                     2                   2   \n",
       "4458              1                     2                   9   \n",
       "1131              1                     1                   2   \n",
       "9562              1                     5                   9   \n",
       "6579              1                     4                   7   \n",
       "\n",
       "      unique_offer_impressions  total_offer_impressions  avg_redemptions  \\\n",
       "1191                        11                       63              1.0   \n",
       "4458                         4                       49              1.0   \n",
       "1131                         6                       39              1.0   \n",
       "9562                         9                       74              1.0   \n",
       "6579                        13                      150              1.0   \n",
       "\n",
       "      min_redemptions  max_redemptions  total_offers_redeemed  \n",
       "1191                1                1                      2  \n",
       "4458                1                1                      1  \n",
       "1131                1                1                      1  \n",
       "9562                1                1                      2  \n",
       "6579                1                1                      3  "
      ]
     },
     "execution_count": 244,
     "metadata": {},
     "output_type": "execute_result"
    }
   ],
   "source": [
    "X_train.head()   #account_status is the 10th predictor with a constant 0 "
   ]
  },
  {
   "cell_type": "code",
   "execution_count": 54,
   "metadata": {},
   "outputs": [
    {
     "data": {
      "text/html": [
       "<div>\n",
       "<style scoped>\n",
       "    .dataframe tbody tr th:only-of-type {\n",
       "        vertical-align: middle;\n",
       "    }\n",
       "\n",
       "    .dataframe tbody tr th {\n",
       "        vertical-align: top;\n",
       "    }\n",
       "\n",
       "    .dataframe thead th {\n",
       "        text-align: right;\n",
       "    }\n",
       "</style>\n",
       "<table border=\"1\" class=\"dataframe\">\n",
       "  <thead>\n",
       "    <tr style=\"text-align: right;\">\n",
       "      <th></th>\n",
       "      <th>gender</th>\n",
       "      <th>has_gender</th>\n",
       "      <th>has_first_name</th>\n",
       "      <th>has_last_name</th>\n",
       "      <th>has_email</th>\n",
       "      <th>has_dob</th>\n",
       "      <th>customer_age</th>\n",
       "      <th>account_age</th>\n",
       "      <th>account_last_updated</th>\n",
       "      <th>app_downloads</th>\n",
       "      <th>unique_offer_clicked</th>\n",
       "      <th>total_offer_clicks</th>\n",
       "      <th>unique_offer_impressions</th>\n",
       "      <th>total_offer_impressions</th>\n",
       "      <th>avg_redemptions</th>\n",
       "      <th>min_redemptions</th>\n",
       "      <th>max_redemptions</th>\n",
       "      <th>total_offers_redeemed</th>\n",
       "    </tr>\n",
       "  </thead>\n",
       "  <tbody>\n",
       "    <tr>\n",
       "      <th>1191</th>\n",
       "      <td>0</td>\n",
       "      <td>0</td>\n",
       "      <td>1</td>\n",
       "      <td>1</td>\n",
       "      <td>1</td>\n",
       "      <td>0</td>\n",
       "      <td>23.339507</td>\n",
       "      <td>193</td>\n",
       "      <td>174</td>\n",
       "      <td>1</td>\n",
       "      <td>2</td>\n",
       "      <td>2</td>\n",
       "      <td>11</td>\n",
       "      <td>63</td>\n",
       "      <td>1.0</td>\n",
       "      <td>1</td>\n",
       "      <td>1</td>\n",
       "      <td>2</td>\n",
       "    </tr>\n",
       "    <tr>\n",
       "      <th>4458</th>\n",
       "      <td>0</td>\n",
       "      <td>0</td>\n",
       "      <td>1</td>\n",
       "      <td>1</td>\n",
       "      <td>1</td>\n",
       "      <td>0</td>\n",
       "      <td>22.064391</td>\n",
       "      <td>181</td>\n",
       "      <td>177</td>\n",
       "      <td>1</td>\n",
       "      <td>2</td>\n",
       "      <td>9</td>\n",
       "      <td>4</td>\n",
       "      <td>49</td>\n",
       "      <td>1.0</td>\n",
       "      <td>1</td>\n",
       "      <td>1</td>\n",
       "      <td>1</td>\n",
       "    </tr>\n",
       "    <tr>\n",
       "      <th>1131</th>\n",
       "      <td>1</td>\n",
       "      <td>1</td>\n",
       "      <td>1</td>\n",
       "      <td>1</td>\n",
       "      <td>1</td>\n",
       "      <td>1</td>\n",
       "      <td>21.000000</td>\n",
       "      <td>176</td>\n",
       "      <td>174</td>\n",
       "      <td>1</td>\n",
       "      <td>1</td>\n",
       "      <td>2</td>\n",
       "      <td>6</td>\n",
       "      <td>39</td>\n",
       "      <td>1.0</td>\n",
       "      <td>1</td>\n",
       "      <td>1</td>\n",
       "      <td>1</td>\n",
       "    </tr>\n",
       "    <tr>\n",
       "      <th>9562</th>\n",
       "      <td>2</td>\n",
       "      <td>1</td>\n",
       "      <td>1</td>\n",
       "      <td>1</td>\n",
       "      <td>1</td>\n",
       "      <td>1</td>\n",
       "      <td>25.000000</td>\n",
       "      <td>188</td>\n",
       "      <td>174</td>\n",
       "      <td>1</td>\n",
       "      <td>5</td>\n",
       "      <td>9</td>\n",
       "      <td>9</td>\n",
       "      <td>74</td>\n",
       "      <td>1.0</td>\n",
       "      <td>1</td>\n",
       "      <td>1</td>\n",
       "      <td>2</td>\n",
       "    </tr>\n",
       "    <tr>\n",
       "      <th>6579</th>\n",
       "      <td>0</td>\n",
       "      <td>0</td>\n",
       "      <td>1</td>\n",
       "      <td>1</td>\n",
       "      <td>1</td>\n",
       "      <td>0</td>\n",
       "      <td>20.014236</td>\n",
       "      <td>521</td>\n",
       "      <td>173</td>\n",
       "      <td>1</td>\n",
       "      <td>4</td>\n",
       "      <td>7</td>\n",
       "      <td>13</td>\n",
       "      <td>150</td>\n",
       "      <td>1.0</td>\n",
       "      <td>1</td>\n",
       "      <td>1</td>\n",
       "      <td>3</td>\n",
       "    </tr>\n",
       "  </tbody>\n",
       "</table>\n",
       "</div>"
      ],
      "text/plain": [
       "      gender  has_gender  has_first_name  has_last_name  has_email  has_dob  \\\n",
       "1191       0           0               1              1          1        0   \n",
       "4458       0           0               1              1          1        0   \n",
       "1131       1           1               1              1          1        1   \n",
       "9562       2           1               1              1          1        1   \n",
       "6579       0           0               1              1          1        0   \n",
       "\n",
       "      customer_age  account_age  account_last_updated  app_downloads  \\\n",
       "1191     23.339507          193                   174              1   \n",
       "4458     22.064391          181                   177              1   \n",
       "1131     21.000000          176                   174              1   \n",
       "9562     25.000000          188                   174              1   \n",
       "6579     20.014236          521                   173              1   \n",
       "\n",
       "      unique_offer_clicked  total_offer_clicks  unique_offer_impressions  \\\n",
       "1191                     2                   2                        11   \n",
       "4458                     2                   9                         4   \n",
       "1131                     1                   2                         6   \n",
       "9562                     5                   9                         9   \n",
       "6579                     4                   7                        13   \n",
       "\n",
       "      total_offer_impressions  avg_redemptions  min_redemptions  \\\n",
       "1191                       63              1.0                1   \n",
       "4458                       49              1.0                1   \n",
       "1131                       39              1.0                1   \n",
       "9562                       74              1.0                1   \n",
       "6579                      150              1.0                1   \n",
       "\n",
       "      max_redemptions  total_offers_redeemed  \n",
       "1191                1                      2  \n",
       "4458                1                      1  \n",
       "1131                1                      1  \n",
       "9562                1                      2  \n",
       "6579                1                      3  "
      ]
     },
     "execution_count": 54,
     "metadata": {},
     "output_type": "execute_result"
    }
   ],
   "source": [
    "temp_train=X_train.drop(['account_status'], axis = 1)  #account_status is constant and will make a  singular matrix \n",
    "temp_train.head()"
   ]
  },
  {
   "cell_type": "code",
   "execution_count": 55,
   "metadata": {},
   "outputs": [],
   "source": [
    "temp_train_scaled = scaler.fit_transform(temp_train) "
   ]
  },
  {
   "cell_type": "code",
   "execution_count": 56,
   "metadata": {},
   "outputs": [
    {
     "name": "stdout",
     "output_type": "stream",
     "text": [
      "Optimization terminated successfully.\n",
      "         Current function value: 0.178119\n",
      "         Iterations 9\n",
      "                           Logit Regression Results                           \n",
      "==============================================================================\n",
      "Dep. Variable:                  Label   No. Observations:                 7000\n",
      "Model:                          Logit   Df Residuals:                     6982\n",
      "Method:                           MLE   Df Model:                           17\n",
      "Date:                Fri, 31 Jul 2020   Pseudo R-squ.:                  0.5916\n",
      "Time:                        13:02:45   Log-Likelihood:                -1246.8\n",
      "converged:                       True   LL-Null:                       -3052.7\n",
      "Covariance Type:            nonrobust   LLR p-value:                     0.000\n",
      "==============================================================================\n",
      "                 coef    std err          z      P>|z|      [0.025      0.975]\n",
      "------------------------------------------------------------------------------\n",
      "x1             0.2459      0.140      1.752      0.080      -0.029       0.521\n",
      "x2            -0.4060      0.155     -2.624      0.009      -0.709      -0.103\n",
      "x3            -0.0674      0.077     -0.877      0.381      -0.218       0.083\n",
      "x4             0.0555      0.080      0.693      0.488      -0.101       0.212\n",
      "x5             0.0116      0.056      0.206      0.837      -0.099       0.122\n",
      "x6            -0.0175      0.083     -0.211      0.833      -0.181       0.146\n",
      "x7             0.1272      0.045      2.816      0.005       0.039       0.216\n",
      "x8             6.9592      0.166     42.015      0.000       6.635       7.284\n",
      "x9            -0.3752      0.085     -4.411      0.000      -0.542      -0.209\n",
      "x10           -0.0584      0.062     -0.940      0.347      -0.180       0.063\n",
      "x11            0.0909      0.132      0.691      0.490      -0.167       0.349\n",
      "x12            0.0866      0.104      0.830      0.407      -0.118       0.291\n",
      "x13           -0.7436      0.100     -7.470      0.000      -0.939      -0.549\n",
      "x14            0.0490      0.089      0.551      0.582      -0.125       0.223\n",
      "x15           -0.0865      0.272     -0.317      0.751      -0.620       0.448\n",
      "x16            0.0421      0.136      0.310      0.756      -0.224       0.308\n",
      "x17            0.0910      0.194      0.469      0.639      -0.289       0.471\n",
      "x18            0.0748      0.081      0.929      0.353      -0.083       0.233\n",
      "==============================================================================\n",
      "\n",
      "Possibly complete quasi-separation: A fraction 0.13 of observations can be\n",
      "perfectly predicted. This might indicate that there is complete\n",
      "quasi-separation. In this case some parameters will not be identified.\n"
     ]
    }
   ],
   "source": [
    "#pip install statsmodels\n",
    "import statsmodels.api as sm\n",
    "logit_model=sm.Logit(y_train,temp_train_scaled)\n",
    "result=logit_model.fit()\n",
    "print(result.summary())"
   ]
  },
  {
   "cell_type": "code",
   "execution_count": 252,
   "metadata": {},
   "outputs": [
    {
     "name": "stdout",
     "output_type": "stream",
     "text": [
      "x1        1.233203\n",
      "x2        0.694337\n",
      "x3        0.934632\n",
      "x4        1.057561\n",
      "x5        1.011911\n",
      "x6        0.985846\n",
      "x7        1.134924\n",
      "x8     1072.894851\n",
      "x9        0.672212\n",
      "x10       0.945038\n",
      "x11       1.075159\n",
      "x12       1.125842\n",
      "x13       0.478052\n",
      "x14       0.985325\n",
      "x15       0.917372\n",
      "x16       1.040991\n",
      "x17       1.097299\n",
      "x18       1.090048\n",
      "dtype: float64\n"
     ]
    }
   ],
   "source": [
    "print(np.exp(result.params))"
   ]
  },
  {
   "cell_type": "code",
   "execution_count": 62,
   "metadata": {},
   "outputs": [
    {
     "name": "stdout",
     "output_type": "stream",
     "text": [
      "+--------+------------------------+------------------------------------+\n",
      "| Group  | Average of account_age | Average of total_offer_impressions |\n",
      "+--------+------------------------+------------------------------------+\n",
      "| Group0 |      192.9545239       |            61.48492045             |\n",
      "| Group1 |      527.9486692       |            105.4961977             |\n",
      "+--------+------------------------+------------------------------------+\n"
     ]
    }
   ],
   "source": [
    "dist = [[\"Group0\", 192.9545239,61.48492045], \n",
    "        [\"Group1\", 527.9486692,105.4961977]\n",
    "       ]\n",
    "table = PrettyTable(['Group','Average of account_age','Average of total_offer_impressions']) \n",
    "table.title = 'means of cardinal features by groups  ' \n",
    "for rec in dist:\n",
    "    table.add_row(rec)   \n",
    "print(table)\n",
    " \n"
   ]
  },
  {
   "cell_type": "markdown",
   "metadata": {},
   "source": [
    "#### others\n",
    "* Consumers with unknown gender are more likely in Group0(bad)"
   ]
  },
  {
   "cell_type": "code",
   "execution_count": 57,
   "metadata": {},
   "outputs": [
    {
     "data": {
      "text/html": [
       "<div>\n",
       "<style scoped>\n",
       "    .dataframe tbody tr th:only-of-type {\n",
       "        vertical-align: middle;\n",
       "    }\n",
       "\n",
       "    .dataframe tbody tr th {\n",
       "        vertical-align: top;\n",
       "    }\n",
       "\n",
       "    .dataframe thead th {\n",
       "        text-align: right;\n",
       "    }\n",
       "</style>\n",
       "<table border=\"1\" class=\"dataframe\">\n",
       "  <thead>\n",
       "    <tr style=\"text-align: right;\">\n",
       "      <th></th>\n",
       "      <th>consumer_id</th>\n",
       "      <th>gender</th>\n",
       "      <th>has_gender</th>\n",
       "      <th>has_first_name</th>\n",
       "      <th>has_last_name</th>\n",
       "      <th>has_email</th>\n",
       "      <th>has_dob</th>\n",
       "      <th>customer_age</th>\n",
       "      <th>account_age</th>\n",
       "      <th>account_last_updated</th>\n",
       "      <th>...</th>\n",
       "      <th>app_downloads</th>\n",
       "      <th>unique_offer_clicked</th>\n",
       "      <th>total_offer_clicks</th>\n",
       "      <th>unique_offer_impressions</th>\n",
       "      <th>total_offer_impressions</th>\n",
       "      <th>avg_redemptions</th>\n",
       "      <th>min_redemptions</th>\n",
       "      <th>max_redemptions</th>\n",
       "      <th>total_offers_redeemed</th>\n",
       "      <th>Label</th>\n",
       "    </tr>\n",
       "  </thead>\n",
       "  <tbody>\n",
       "    <tr>\n",
       "      <th>0</th>\n",
       "      <td>1284b75c-ecae-4015-8e3d-359c0347ede8</td>\n",
       "      <td>0</td>\n",
       "      <td>0</td>\n",
       "      <td>1</td>\n",
       "      <td>1</td>\n",
       "      <td>1</td>\n",
       "      <td>0</td>\n",
       "      <td>22.566077</td>\n",
       "      <td>188</td>\n",
       "      <td>174</td>\n",
       "      <td>...</td>\n",
       "      <td>1</td>\n",
       "      <td>3</td>\n",
       "      <td>3</td>\n",
       "      <td>8</td>\n",
       "      <td>52</td>\n",
       "      <td>1.0</td>\n",
       "      <td>1</td>\n",
       "      <td>1</td>\n",
       "      <td>1</td>\n",
       "      <td>0</td>\n",
       "    </tr>\n",
       "    <tr>\n",
       "      <th>1</th>\n",
       "      <td>128af162-d2c3-4fe4-986c-359c8bdc6c04</td>\n",
       "      <td>0</td>\n",
       "      <td>0</td>\n",
       "      <td>1</td>\n",
       "      <td>1</td>\n",
       "      <td>1</td>\n",
       "      <td>0</td>\n",
       "      <td>29.676713</td>\n",
       "      <td>185</td>\n",
       "      <td>174</td>\n",
       "      <td>...</td>\n",
       "      <td>1</td>\n",
       "      <td>3</td>\n",
       "      <td>8</td>\n",
       "      <td>5</td>\n",
       "      <td>58</td>\n",
       "      <td>1.0</td>\n",
       "      <td>1</td>\n",
       "      <td>1</td>\n",
       "      <td>1</td>\n",
       "      <td>0</td>\n",
       "    </tr>\n",
       "    <tr>\n",
       "      <th>2</th>\n",
       "      <td>12aada5e-36eb-4e9e-8d62-359c076c1b40</td>\n",
       "      <td>0</td>\n",
       "      <td>0</td>\n",
       "      <td>1</td>\n",
       "      <td>1</td>\n",
       "      <td>1</td>\n",
       "      <td>0</td>\n",
       "      <td>21.469975</td>\n",
       "      <td>188</td>\n",
       "      <td>174</td>\n",
       "      <td>...</td>\n",
       "      <td>1</td>\n",
       "      <td>3</td>\n",
       "      <td>4</td>\n",
       "      <td>9</td>\n",
       "      <td>183</td>\n",
       "      <td>1.0</td>\n",
       "      <td>1</td>\n",
       "      <td>1</td>\n",
       "      <td>3</td>\n",
       "      <td>0</td>\n",
       "    </tr>\n",
       "    <tr>\n",
       "      <th>3</th>\n",
       "      <td>12c2e02f-bc79-4048-83ba-359cd3280dcf</td>\n",
       "      <td>0</td>\n",
       "      <td>0</td>\n",
       "      <td>1</td>\n",
       "      <td>1</td>\n",
       "      <td>1</td>\n",
       "      <td>0</td>\n",
       "      <td>33.297549</td>\n",
       "      <td>184</td>\n",
       "      <td>174</td>\n",
       "      <td>...</td>\n",
       "      <td>1</td>\n",
       "      <td>3</td>\n",
       "      <td>7</td>\n",
       "      <td>4</td>\n",
       "      <td>56</td>\n",
       "      <td>1.0</td>\n",
       "      <td>1</td>\n",
       "      <td>1</td>\n",
       "      <td>1</td>\n",
       "      <td>0</td>\n",
       "    </tr>\n",
       "    <tr>\n",
       "      <th>4</th>\n",
       "      <td>12fabdf0-0582-489e-a6d3-35509ab8ae6f</td>\n",
       "      <td>1</td>\n",
       "      <td>1</td>\n",
       "      <td>1</td>\n",
       "      <td>1</td>\n",
       "      <td>1</td>\n",
       "      <td>1</td>\n",
       "      <td>22.000000</td>\n",
       "      <td>572</td>\n",
       "      <td>173</td>\n",
       "      <td>...</td>\n",
       "      <td>1</td>\n",
       "      <td>4</td>\n",
       "      <td>6</td>\n",
       "      <td>7</td>\n",
       "      <td>83</td>\n",
       "      <td>1.0</td>\n",
       "      <td>1</td>\n",
       "      <td>1</td>\n",
       "      <td>3</td>\n",
       "      <td>1</td>\n",
       "    </tr>\n",
       "  </tbody>\n",
       "</table>\n",
       "<p>5 rows × 21 columns</p>\n",
       "</div>"
      ],
      "text/plain": [
       "                            consumer_id  gender  has_gender  has_first_name  \\\n",
       "0  1284b75c-ecae-4015-8e3d-359c0347ede8       0           0               1   \n",
       "1  128af162-d2c3-4fe4-986c-359c8bdc6c04       0           0               1   \n",
       "2  12aada5e-36eb-4e9e-8d62-359c076c1b40       0           0               1   \n",
       "3  12c2e02f-bc79-4048-83ba-359cd3280dcf       0           0               1   \n",
       "4  12fabdf0-0582-489e-a6d3-35509ab8ae6f       1           1               1   \n",
       "\n",
       "   has_last_name  has_email  has_dob  customer_age  account_age  \\\n",
       "0              1          1        0     22.566077          188   \n",
       "1              1          1        0     29.676713          185   \n",
       "2              1          1        0     21.469975          188   \n",
       "3              1          1        0     33.297549          184   \n",
       "4              1          1        1     22.000000          572   \n",
       "\n",
       "   account_last_updated  ...  app_downloads  unique_offer_clicked  \\\n",
       "0                   174  ...              1                     3   \n",
       "1                   174  ...              1                     3   \n",
       "2                   174  ...              1                     3   \n",
       "3                   174  ...              1                     3   \n",
       "4                   173  ...              1                     4   \n",
       "\n",
       "   total_offer_clicks  unique_offer_impressions  total_offer_impressions  \\\n",
       "0                   3                         8                       52   \n",
       "1                   8                         5                       58   \n",
       "2                   4                         9                      183   \n",
       "3                   7                         4                       56   \n",
       "4                   6                         7                       83   \n",
       "\n",
       "   avg_redemptions  min_redemptions  max_redemptions  total_offers_redeemed  \\\n",
       "0              1.0                1                1                      1   \n",
       "1              1.0                1                1                      1   \n",
       "2              1.0                1                1                      3   \n",
       "3              1.0                1                1                      1   \n",
       "4              1.0                1                1                      3   \n",
       "\n",
       "   Label  \n",
       "0      0  \n",
       "1      0  \n",
       "2      0  \n",
       "3      0  \n",
       "4      1  \n",
       "\n",
       "[5 rows x 21 columns]"
      ]
     },
     "execution_count": 57,
     "metadata": {},
     "output_type": "execute_result"
    }
   ],
   "source": [
    "# X8 =account_age \n",
    "# For the whole dataset,\n",
    "ImputedData= pd.read_csv('imputedData.csv')\n",
    "LabledData = pd.read_csv('labeldData.csv')\n",
    "LabledData.head() "
   ]
  },
  {
   "cell_type": "code",
   "execution_count": 61,
   "metadata": {},
   "outputs": [
    {
     "data": {
      "image/png": "[encoded data removed]",
      "text/plain": [
       "<Figure size 432x288 with 1 Axes>"
      ]
     },
     "metadata": {
      "needs_background": "light"
     },
     "output_type": "display_data"
    },
    {
     "data": {
      "text/plain": [
       "<Figure size 432x288 with 0 Axes>"
      ]
     },
     "metadata": {},
     "output_type": "display_data"
    }
   ],
   "source": [
    "stas=[[4048,474],[2032,582],[2342,522]]\n",
    "ind=['Unknown','Female','Male']\n",
    "gr=pd.DataFrame(stas,index=ind,columns=['Group0','Group1']) \n",
    "gr.plot(kind='bar',ylim=[0,5000],rot=0)\n",
    "plt.title('Consumer number in groups by gender')    \n",
    "plt.xlabel('Gender')       \n",
    "plt.ylabel('Consumer count') \n",
    "plt.show()\n",
    "plt.savefig('groups_gender_bar.png')"
   ]
  },
  {
   "cell_type": "markdown",
   "metadata": {},
   "source": [
    "### 9 Next step\n",
    "Possible further tasks include but not limit to:\n",
    "* try more culstering and classification algorithms;\n",
    "* recheck the whole preocessing with domain knowledge;\n",
    "* consider feature selection if necessary because 3 groups of features means there would be strong correlations; \n",
    "* monitor the model's performence(eg.ControlCharts) and update it continuously."
   ]
  },
  {
   "cell_type": "code",
   "execution_count": null,
   "metadata": {},
   "outputs": [],
   "source": []
  }
 ],
 "metadata": {
  "kernelspec": {
   "display_name": "Python 3",
   "language": "python",
   "name": "python3"
  },
  "language_info": {
   "codemirror_mode": {
    "name": "ipython",
    "version": 3
   },
   "file_extension": ".py",
   "mimetype": "text/x-python",
   "name": "python",
   "nbconvert_exporter": "python",
   "pygments_lexer": "ipython3",
   "version": "3.8.4"
  }
 },
 "nbformat": 4,
 "nbformat_minor": 4
}
